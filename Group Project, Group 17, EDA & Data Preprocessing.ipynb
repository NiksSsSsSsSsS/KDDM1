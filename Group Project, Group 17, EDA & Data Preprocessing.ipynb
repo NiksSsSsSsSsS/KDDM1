{
 "cells": [
  {
   "cell_type": "markdown",
   "metadata": {},
   "source": [
    "# KDDM Group 17\n"
   ]
  },
  {
   "cell_type": "markdown",
   "metadata": {},
   "source": [
    "## 0: Package and data Import "
   ]
  },
  {
   "cell_type": "markdown",
   "metadata": {},
   "source": [
    "Importing and load necessary packages"
   ]
  },
  {
   "cell_type": "code",
   "execution_count": 1,
   "metadata": {},
   "outputs": [],
   "source": [
    "import os\n",
    "import pandas as pd\n",
    "import numpy as np\n",
    "import matplotlib.pylab as plt\n",
    "import seaborn as sns\n",
    "plt.style.use('ggplot')\n",
    "pd.set_option('display.max_columns', None)"
   ]
  },
  {
   "cell_type": "markdown",
   "metadata": {},
   "source": [
    "## 1: Data Understanding"
   ]
  },
  {
   "cell_type": "markdown",
   "metadata": {},
   "source": [
    "Set directory and load data"
   ]
  },
  {
   "cell_type": "code",
   "execution_count": 2,
   "metadata": {},
   "outputs": [],
   "source": [
    "# Reading the CSV file into a DataFrame\n",
    "df = pd.read_csv('data_7.csv')"
   ]
  },
  {
   "cell_type": "markdown",
   "metadata": {},
   "source": [
    "Overview and summary of the data"
   ]
  },
  {
   "cell_type": "code",
   "execution_count": null,
   "metadata": {},
   "outputs": [],
   "source": [
    "df.shape\n",
    "#print(df.head())\n",
    "#print(df.info())\n",
    "\n",
    "# Summary Statistics\n",
    "print(df.describe())\n",
    "\n",
    "# Exportiert summary Tabelle\n",
    "#summary_stats = df.describe()\n",
    "#summary_stats.to_excel('summary_statistics.xlsx', index=True)\n"
   ]
  },
  {
   "cell_type": "markdown",
   "metadata": {},
   "source": [
    "## 2: Data Preparation"
   ]
  },
  {
   "cell_type": "markdown",
   "metadata": {},
   "source": [
    "Handling Missing data"
   ]
  },
  {
   "cell_type": "code",
   "execution_count": 5,
   "metadata": {},
   "outputs": [
    {
     "name": "stdout",
     "output_type": "stream",
     "text": [
      "Missing values count for each column:\n",
      "Bedrooms               377\n",
      "Bathrooms              365\n",
      "SquareFootageHouse       0\n",
      "Location               194\n",
      "Age                    127\n",
      "PoolQuality            643\n",
      "HasPhotovoltaics        79\n",
      "HeatingType              0\n",
      "HasFiberglass            0\n",
      "IsFurnished              0\n",
      "DateSinceForSale         0\n",
      "HouseColor               8\n",
      "PreviousOwnerName      146\n",
      "HasFireplace             0\n",
      "KitchensQuality          0\n",
      "BathroomsQuality         0\n",
      "BedroomsQuality          0\n",
      "LivingRoomsQuality       0\n",
      "SquareFootageGarden      0\n",
      "PreviousOwnerRating      0\n",
      "HeatingCosts           479\n",
      "WindowModelNames         0\n",
      "Price                    0\n",
      "dtype: int64\n"
     ]
    }
   ],
   "source": [
    "# Handling Missing Values\n",
    "#print(df.isna().sum())\n",
    "\n",
    "#Drop na (HeatingType), removes the 5 missing values across all values\n",
    "df = df.dropna(how='all').copy()\n",
    "#print(df.isna().sum())\n",
    "#print(df.head())\n",
    "\n",
    "#Remove all missing data\n",
    "# !! Not for Pool\n",
    "#df = df.dropna().copy()\n",
    "missing_values_count = df.isna().sum()\n",
    "print(\"Missing values count for each column:\")\n",
    "print(missing_values_count)"
   ]
  },
  {
   "cell_type": "code",
   "execution_count": null,
   "metadata": {},
   "outputs": [],
   "source": [
    "df.shape"
   ]
  },
  {
   "cell_type": "markdown",
   "metadata": {},
   "source": [
    "Data type transformation"
   ]
  },
  {
   "cell_type": "code",
   "execution_count": null,
   "metadata": {},
   "outputs": [],
   "source": [
    "# Location\n",
    "# There are 4 instead of 3 categories:\n",
    "# ['Rural', 'Suburban', 'Suburbann', 'Urban'] \n",
    "# The typo will be corrected and the data summarized\n",
    "df['Location'].replace('Suburbann', 'Suburban', inplace=True)\n",
    "pd.Categorical(df['Location'])\n",
    "\n",
    "# Heating Type\n",
    "# There are 5 instead of 3 categories:\n",
    "# ['Electric', 'Electricity', 'Gas', 'Oil', 'Oil Heating'] \n",
    "# The data will be summarized\n",
    "# ['Electric', 'Gas', 'Oil']\n",
    "df['HeatingType'].replace('Electricity', 'Electric', inplace=True)\n",
    "df['HeatingType'].replace('Oil Heating', 'Oil', inplace=True)\n",
    "pd.Categorical(df['HeatingType'])"
   ]
  },
  {
   "cell_type": "markdown",
   "metadata": {},
   "source": [
    "Test for categories"
   ]
  },
  {
   "cell_type": "code",
   "execution_count": null,
   "metadata": {},
   "outputs": [],
   "source": [
    "# Pool Quality\n",
    "# 3 categories:\n",
    "# ['Excellent', 'Good', 'Poor']\n",
    "pd.Categorical(df['PoolQuality'])\n",
    "\n",
    "# Has Photovoltaics \n",
    "# Bool\n",
    "# [False, True]\n",
    "pd.Categorical(df['HasPhotovoltaics'])\n",
    "\n",
    "# Heating Type \n",
    "# 3 categories:\n",
    "# ['Excellent', 'Good', 'Poor']\n",
    "pd.Categorical(df['HeatingType'])\n",
    "\n",
    "# Has Fiberglass\n",
    "# Bool\n",
    "# [False, True]\n",
    "pd.Categorical(df['HasFiberglass'])\n",
    "\n",
    "# Is Furnished\n",
    "# Bool\n",
    "# [False, True]\n",
    "pd.Categorical(df['IsFurnished'])\n",
    "\n",
    "# House Color \n",
    "# 4 categories:\n",
    "# ['Gray', 'Green', 'White', 'Yellow']\n",
    "pd.Categorical(df['HouseColor'])\n",
    "\n",
    "# Has Fireplace \n",
    "# Bool\n",
    "# [False, True]\n",
    "pd.Categorical(df['HasFireplace'])\n",
    "\n",
    "# Kitchens Quality \n",
    "# 3 categories:\n",
    "# ['Excellent', 'Good', 'Poor']\n",
    "pd.Categorical(df['KitchensQuality'])\n",
    "\n",
    "# Bathrooms Quality \n",
    "# 3 categories:\n",
    "# ['Excellent', 'Good', 'Poor']\n",
    "pd.Categorical(df['BathroomsQuality'])\n",
    "\n",
    "# Bedrooms Quality \n",
    "# 3 categories:\n",
    "# ['Excellent', 'Good', 'Poor']\n",
    "pd.Categorical(df['BedroomsQuality'])\n",
    "\n",
    "# Livingrooms Quality \n",
    "# 3 categories:\n",
    "# ['Excellent', 'Good', 'Poor']\n",
    "pd.Categorical(df['LivingRoomsQuality'])\n",
    "\n",
    "# Previous Ownder Rating\n",
    "# 1.00 to 4.97\n",
    "# [1.00, 1.01, 1.02, 1.03, ..., 4.93, 4.94, 4.96, 4.97]\n",
    "pd.Categorical(df['PreviousOwnerRating'])\n",
    "\n",
    "# Window Model Names\n",
    "# Way too many categories\n",
    "# 995\n",
    "# Each house has its own category (No duplicates)\n",
    "pd.Categorical(df['WindowModelNames'])\n",
    "print(len(df['WindowModelNames']))\n",
    "duplicates_mask = df['WindowModelNames'].duplicated()\n",
    "duplicates_df = df[duplicates_mask]\n",
    "print(\"Duplicate rows:\")\n",
    "print(duplicates_df)"
   ]
  },
  {
   "cell_type": "markdown",
   "metadata": {},
   "source": [
    "Test for duplicates"
   ]
  },
  {
   "cell_type": "code",
   "execution_count": null,
   "metadata": {},
   "outputs": [],
   "source": [
    "df.loc[df.duplicated()]\n",
    "# No duplicate rows "
   ]
  },
  {
   "cell_type": "markdown",
   "metadata": {},
   "source": [
    "Output of all cases with SquareFootageHouse <0"
   ]
  },
  {
   "cell_type": "code",
   "execution_count": null,
   "metadata": {},
   "outputs": [],
   "source": [
    "# Count the cases where 'SquareFootageHouse       ' is smaller than 0\n",
    "negative_square_footage_house_count = (df['SquareFootageHouse'] < 0).sum()\n",
    "# Display the count\n",
    "print(\"Number of cases where SquareFootageHouse is smaller than 0:\", negative_square_footage_house_count)\n",
    "\n",
    "# Filter the DataFrame to get rows where 'SquareFootageHouse' is smaller than 0\n",
    "negative_square_footage_house_cases = df[df['SquareFootageHouse'] < 0]\n",
    "# Print the cases where 'SquareFootageHouse       ' is smaller than 0\n",
    "print(\"Cases where SquareFootageHouse  is smaller than 0:\")\n",
    "print(negative_square_footage_house_cases)\n",
    "\n",
    "# There are 8 cases\n",
    "# I would suggest to simply make them positive (Could be just a typo)\n",
    "# Everything else seems okay"
   ]
  },
  {
   "cell_type": "markdown",
   "metadata": {},
   "source": [
    "Output of all cases with Age <0"
   ]
  },
  {
   "cell_type": "code",
   "execution_count": null,
   "metadata": {},
   "outputs": [],
   "source": [
    "# Count the cases where 'Age' is smaller than 0\n",
    "negative_age_house_count = (df['Age'] < 0).sum()\n",
    "# Display the count\n",
    "print(\"Number of cases where Age is smaller than 0:\", negative_age_house_count)\n",
    "\n",
    "# Filter the DataFrame to get rows where 'Age' is smaller than 0\n",
    "negative_age_house_cases = df[df['Age'] < 0]\n",
    "# Print the cases where 'Age' is smaller than 0\n",
    "print(\"Cases where Age  is smaller than 0:\")\n",
    "print(negative_age_house_cases)\n",
    "\n",
    "# There are 12 cases\n",
    "# I would suggest to simply make them positive (Could be just a typo)\n",
    "# Everything else seems okay"
   ]
  },
  {
   "cell_type": "markdown",
   "metadata": {},
   "source": [
    "Output of all cases with HeatingCost <0"
   ]
  },
  {
   "cell_type": "code",
   "execution_count": null,
   "metadata": {},
   "outputs": [],
   "source": [
    "# Count the cases where 'HeatingCost' is smaller than 0\n",
    "negative_heating_cost_count = (df['HeatingCosts'] < 0).sum()\n",
    "# Display the count\n",
    "print(\"Number of cases where Age is smaller than 0:\", negative_heating_cost_count)\n",
    "\n",
    "# Filter the DataFrame to get rows where 'HeatingCost' is smaller than 0\n",
    "negative_heating_cost_cases = df[df['HeatingCosts'] < 0]\n",
    "# Print the cases where 'HeatingCost' is smaller than 0\n",
    "print(\"Cases where HeatingCost  is smaller than 0:\")\n",
    "print(negative_heating_cost_cases)\n",
    "\n",
    "# There are 5 cases \n",
    "# I would suggest to simply make them positive (Could be just a typo)\n",
    "# Everything else seems okay"
   ]
  },
  {
   "cell_type": "markdown",
   "metadata": {},
   "source": [
    "Comparison of Age and DateSinceForSale"
   ]
  },
  {
   "cell_type": "code",
   "execution_count": null,
   "metadata": {},
   "outputs": [],
   "source": [
    "# Extracts the Year since the house is for sale\n",
    "df['Year'] = df['DateSinceForSale'].str.extract(r'(\\d{4})')\n",
    "# Calculates the Year, the house was build in\n",
    "df['NewAge'] =  2024 - df['Age'] \n",
    "\n",
    "# Subtracts Age the house was build in from the Year since sale, to look for anomalies\n",
    "result = df[df['Year'] < df['NewAge']]\n",
    "print(result)\n",
    "\n",
    "# Shows no errors/anomalies in the code, expect the cases with negative Age \n",
    "# and houses that were build this year and were put up for sale"
   ]
  },
  {
   "cell_type": "markdown",
   "metadata": {},
   "source": [
    "Calculating General Square Footage"
   ]
  },
  {
   "cell_type": "code",
   "execution_count": null,
   "metadata": {},
   "outputs": [],
   "source": [
    "#Overall Square Footage\n",
    "# Negative Outliners need to be corrected first!\n",
    "df['seneral_square_footage'] = df['SquareFootageHouse'] + df['SquareFootageGarden']\n",
    "#print(df['seneral_square_footage'].describe())\n"
   ]
  },
  {
   "cell_type": "markdown",
   "metadata": {},
   "source": [
    "Calculating Room Count"
   ]
  },
  {
   "cell_type": "code",
   "execution_count": null,
   "metadata": {},
   "outputs": [],
   "source": [
    "# Overall Room Count \n",
    "# Negative Outliners need to be corrected first! \n",
    "df['Rooms'] = df['Bedrooms'] + df['Bathrooms'] \n",
    "#print(df['Rooms'].describe()) \n",
    "#df['Rooms'] "
   ]
  },
  {
   "cell_type": "markdown",
   "metadata": {},
   "source": [
    "Calculating Overall House Quality"
   ]
  },
  {
   "cell_type": "code",
   "execution_count": null,
   "metadata": {},
   "outputs": [],
   "source": [
    "# Overall House Quality\n",
    "# Quality Categories need to be converted to numeric values\n",
    "category_map = {'Excellent': 3, 'Good': 2, 'Poor': 1}\n",
    "\n",
    "# Convert categorical values to numerical values\n",
    "df[\"PoolQuality\"] = df[\"PoolQuality\"].replace(category_map)\n",
    "df[\"KitchensQuality\"] = df[\"KitchensQuality\"].replace(category_map)\n",
    "df[\"BathroomsQuality\"] = df[\"BathroomsQuality\"].replace(category_map)\n",
    "df[\"BedroomsQuality\"] = df[\"BedroomsQuality\"].replace(category_map)\n",
    "df[\"LivingRoomsQuality\"] = df[\"LivingRoomsQuality\"].replace(category_map)\n",
    "\n",
    "# Calculate average score across columns\n",
    "df[\"overall_quality\"] = df[\"PoolQuality\"] + df[\"KitchensQuality\"] + df[\"BathroomsQuality\"] + df[\"BedroomsQuality\"] + df[\"LivingRoomsQuality\"] \n",
    "#print(df[\"overall_quality\"].describe())\n",
    "\n",
    "# Count the number of non-missing values for each row\n",
    "num_non_missing_values = df[[\"PoolQuality\", \"KitchensQuality\", \"BathroomsQuality\", \"BedroomsQuality\", \"LivingRoomsQuality\"]].notnull().sum(axis=1)\n",
    "#num_non_missing_values.describe()\n",
    "\n",
    "# Calculate the average overall quality score\n",
    "df[\"average_overall_quality\"] = df[\"overall_quality\"] / num_non_missing_values.replace(0, np.nan)  # Replace 0 with NaN to handle division by zero\n",
    "\n",
    "# Print summary statistics of the average overall quality score\n",
    "#print(df[\"average_overall_quality\"].describe())"
   ]
  },
  {
   "cell_type": "markdown",
   "metadata": {},
   "source": [
    "## 3:"
   ]
  }
 ],
 "metadata": {
  "kernelspec": {
   "display_name": "Python 3",
   "language": "python",
   "name": "python3"
  },
  "language_info": {
   "codemirror_mode": {
    "name": "ipython",
    "version": 3
   },
   "file_extension": ".py",
   "mimetype": "text/x-python",
   "name": "python",
   "nbconvert_exporter": "python",
   "pygments_lexer": "ipython3",
   "version": "3.12.0"
  }
 },
 "nbformat": 4,
 "nbformat_minor": 2
}
