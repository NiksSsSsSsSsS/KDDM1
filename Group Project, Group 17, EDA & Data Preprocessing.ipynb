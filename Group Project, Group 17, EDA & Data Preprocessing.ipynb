{
 "cells": [
  {
   "cell_type": "markdown",
   "metadata": {},
   "source": [
    "# KDDM Group 17\n"
   ]
  },
  {
   "cell_type": "markdown",
   "metadata": {},
   "source": [
    "## 0: Package and df Import "
   ]
  },
  {
   "cell_type": "markdown",
   "metadata": {},
   "source": [
    "Importing and load necessary packages"
   ]
  },
  {
   "cell_type": "code",
   "execution_count": 1,
   "metadata": {},
   "outputs": [],
   "source": [
    "import os\n",
    "import pandas as pd\n",
    "import numpy as np\n",
    "import matplotlib.pylab as plt\n",
    "import seaborn as sns\n",
    "plt.style.use('ggplot')\n",
    "pd.set_option('display.max_columns', None)\n",
    "\n",
    "# For logistic regression\n",
    "from sklearn.model_selection import train_test_split  # Split df into training set\n",
    "from sklearn.linear_model import LogisticRegression # Using to predict category\n",
    "from sklearn.preprocessing import OneHotEncoder\n",
    "from sklearn.metrics import classification_report\n",
    "\n",
    "from sklearn.preprocessing import StandardScaler\n",
    "from sklearn.decomposition import PCA\n"
   ]
  },
  {
   "cell_type": "markdown",
   "metadata": {},
   "source": [
    "## 1: Data Understanding"
   ]
  },
  {
   "cell_type": "markdown",
   "metadata": {},
   "source": [
    "#### Set directory and load data"
   ]
  },
  {
   "cell_type": "code",
   "execution_count": 2,
   "metadata": {},
   "outputs": [],
   "source": [
    "# Reading the CSV file into a DataFrame\n",
    "df = pd.read_csv('data_7.csv')"
   ]
  },
  {
   "cell_type": "markdown",
   "metadata": {},
   "source": [
    "#### Overview and summary of the data"
   ]
  },
  {
   "cell_type": "code",
   "execution_count": 3,
   "metadata": {},
   "outputs": [
    {
     "name": "stdout",
     "output_type": "stream",
     "text": [
      "         Bedrooms   Bathrooms  SquareFootageHouse         Age  \\\n",
      "count  618.000000  630.000000          995.000000  868.000000   \n",
      "mean     1.621359    1.658730          175.727638   43.324885   \n",
      "std      0.941909    0.922796          821.254214   18.770587   \n",
      "min      1.000000    1.000000         -895.000000  -94.000000   \n",
      "25%      1.000000    1.000000           53.000000   33.000000   \n",
      "50%      1.000000    1.000000           86.000000   45.000000   \n",
      "75%      2.000000    2.000000          116.000000   57.000000   \n",
      "max      5.000000    5.000000         8578.000000   71.000000   \n",
      "\n",
      "       SquareFootageGarden  PreviousOwnerRating  HeatingCosts        Price  \n",
      "count           995.000000           995.000000    516.000000   995.000000  \n",
      "mean             11.538693             2.576905    125.134496   253.826843  \n",
      "std               7.898836             0.894898    507.796163   428.592868  \n",
      "min               6.000000             1.000000   -443.000000    29.123820  \n",
      "25%               6.000000             1.870000     49.000000   128.396785  \n",
      "50%               6.000000             2.490000     76.900000   188.658440  \n",
      "75%              18.000000             3.165000    127.650000   270.963420  \n",
      "max              30.000000             4.970000   8292.000000  6050.591600  \n"
     ]
    }
   ],
   "source": [
    "df.shape\n",
    "#print(df.head())\n",
    "#print(df.info())\n",
    "\n",
    "# Summary Statistics\n",
    "print(df.describe())\n",
    "\n",
    "# Exportiert summary Tabelle\n",
    "#summary_stats = df.describe()\n",
    "#summary_stats.to_excel('summary_statistics.xlsx', index=True)\n"
   ]
  },
  {
   "cell_type": "markdown",
   "metadata": {},
   "source": [
    "## 2: Data Preparation"
   ]
  },
  {
   "cell_type": "markdown",
   "metadata": {},
   "source": [
    "#### How are the NA's distributed?"
   ]
  },
  {
   "cell_type": "code",
   "execution_count": 4,
   "metadata": {},
   "outputs": [
    {
     "name": "stdout",
     "output_type": "stream",
     "text": [
      "Missing values count for each column:\n",
      "Bedrooms               377\n",
      "Bathrooms              365\n",
      "SquareFootageHouse       0\n",
      "Location               194\n",
      "Age                    127\n",
      "PoolQuality            643\n",
      "HasPhotovoltaics        79\n",
      "HeatingType              0\n",
      "HasFiberglass            0\n",
      "IsFurnished              0\n",
      "DateSinceForSale         0\n",
      "HouseColor               8\n",
      "PreviousOwnerName      146\n",
      "HasFireplace             0\n",
      "KitchensQuality          0\n",
      "BathroomsQuality         0\n",
      "BedroomsQuality          0\n",
      "LivingRoomsQuality       0\n",
      "SquareFootageGarden      0\n",
      "PreviousOwnerRating      0\n",
      "HeatingCosts           479\n",
      "WindowModelNames         0\n",
      "Price                    0\n",
      "dtype: int64\n"
     ]
    }
   ],
   "source": [
    "# Handling Missing Values\n",
    "#print(df.isna().sum())\n",
    "\n",
    "#Drop na (HeatingType), removes the 5 missing values across all values\n",
    "df = df.dropna(how='all').copy()\n",
    "#print(df.isna().sum())\n",
    "#print(df.head())\n",
    "\n",
    "#Remove all missing data\n",
    "# !! Not for Pool\n",
    "#df = df.dropna().copy()\n",
    "missing_values_count = df.isna().sum()\n",
    "print(\"Missing values count for each column:\")\n",
    "print(missing_values_count)"
   ]
  },
  {
   "cell_type": "code",
   "execution_count": 5,
   "metadata": {},
   "outputs": [
    {
     "data": {
      "image/png": "[encoded data removed]",
      "text/plain": [
       "<Figure size 800x600 with 1 Axes>"
      ]
     },
     "metadata": {},
     "output_type": "display_data"
    }
   ],
   "source": [
    "\n",
    "# Create column counting NA's\n",
    "df['NaCount'] = df.isna().sum(axis=1)\n",
    "\n",
    "\n",
    "# Plot a histogram for the 'NaCount' column\n",
    "plt.figure(figsize=(8, 6))\n",
    "plt.hist(df['NaCount'], bins=10, color='skyblue', edgecolor='black')\n",
    "plt.xlabel('Number of NaN Values')\n",
    "plt.ylabel('Frequency')\n",
    "plt.title('Histogram of NaN Values Count')\n",
    "plt.grid(True)\n",
    "plt.show()\n"
   ]
  },
  {
   "cell_type": "code",
   "execution_count": 6,
   "metadata": {},
   "outputs": [
    {
     "data": {
      "text/plain": [
       "(995, 24)"
      ]
     },
     "execution_count": 6,
     "metadata": {},
     "output_type": "execute_result"
    }
   ],
   "source": [
    "df.shape"
   ]
  },
  {
   "cell_type": "markdown",
   "metadata": {},
   "source": [
    "#### Data type transformation"
   ]
  },
  {
   "cell_type": "code",
   "execution_count": 7,
   "metadata": {},
   "outputs": [
    {
     "data": {
      "text/plain": [
       "['Gas', 'Electric', 'Gas', 'Electric', 'Oil', ..., 'Gas', 'Oil', 'Oil', 'Electric', 'Electric']\n",
       "Length: 995\n",
       "Categories (3, object): ['Electric', 'Gas', 'Oil']"
      ]
     },
     "execution_count": 7,
     "metadata": {},
     "output_type": "execute_result"
    }
   ],
   "source": [
    "# Location\n",
    "# There are 4 instead of 3 categories:\n",
    "# ['Rural', 'Suburban', 'Suburbann', 'Urban'] \n",
    "# The typo will be corrected and the data summarized\n",
    "df['Location'].replace('Suburbann', 'Suburban', inplace=True)\n",
    "pd.Categorical(df['Location'])\n",
    "\n",
    "# Heating Type\n",
    "# There are 5 instead of 3 categories:\n",
    "# ['Electric', 'Electricity', 'Gas', 'Oil', 'Oil Heating'] \n",
    "# The data will be summarized\n",
    "# ['Electric', 'Gas', 'Oil']\n",
    "df['HeatingType'].replace('Electricity', 'Electric', inplace=True)\n",
    "df['HeatingType'].replace('Oil Heating', 'Oil', inplace=True)\n",
    "pd.Categorical(df['HeatingType'])"
   ]
  },
  {
   "cell_type": "markdown",
   "metadata": {},
   "source": [
    "#### Test for categories"
   ]
  },
  {
   "cell_type": "code",
   "execution_count": 8,
   "metadata": {},
   "outputs": [
    {
     "name": "stdout",
     "output_type": "stream",
     "text": [
      "995\n",
      "Duplicate rows:\n",
      "Empty DataFrame\n",
      "Columns: [Bedrooms, Bathrooms, SquareFootageHouse, Location, Age, PoolQuality, HasPhotovoltaics, HeatingType, HasFiberglass, IsFurnished, DateSinceForSale, HouseColor, PreviousOwnerName, HasFireplace, KitchensQuality, BathroomsQuality, BedroomsQuality, LivingRoomsQuality, SquareFootageGarden, PreviousOwnerRating, HeatingCosts, WindowModelNames, Price, NaCount]\n",
      "Index: []\n"
     ]
    }
   ],
   "source": [
    "# Pool Quality\n",
    "# 3 categories:\n",
    "# ['Excellent', 'Good', 'Poor']\n",
    "pd.Categorical(df['PoolQuality'])\n",
    "\n",
    "# Has Photovoltaics \n",
    "# Bool\n",
    "# [False, True]\n",
    "pd.Categorical(df['HasPhotovoltaics'])\n",
    "\n",
    "# Heating Type \n",
    "# 3 categories:\n",
    "# ['Excellent', 'Good', 'Poor']\n",
    "pd.Categorical(df['HeatingType'])\n",
    "\n",
    "# Has Fiberglass\n",
    "# Bool\n",
    "# [False, True]\n",
    "pd.Categorical(df['HasFiberglass'])\n",
    "\n",
    "# Is Furnished\n",
    "# Bool\n",
    "# [False, True]\n",
    "pd.Categorical(df['IsFurnished'])\n",
    "\n",
    "# House Color \n",
    "# 4 categories:\n",
    "# ['Gray', 'Green', 'White', 'Yellow']\n",
    "pd.Categorical(df['HouseColor'])\n",
    "\n",
    "# Has Fireplace \n",
    "# Bool\n",
    "# [False, True]\n",
    "pd.Categorical(df['HasFireplace'])\n",
    "\n",
    "# Kitchens Quality \n",
    "# 3 categories:\n",
    "# ['Excellent', 'Good', 'Poor']\n",
    "pd.Categorical(df['KitchensQuality'])\n",
    "\n",
    "# Bathrooms Quality \n",
    "# 3 categories:\n",
    "# ['Excellent', 'Good', 'Poor']\n",
    "pd.Categorical(df['BathroomsQuality'])\n",
    "\n",
    "# Bedrooms Quality \n",
    "# 3 categories:\n",
    "# ['Excellent', 'Good', 'Poor']\n",
    "pd.Categorical(df['BedroomsQuality'])\n",
    "\n",
    "# Livingrooms Quality \n",
    "# 3 categories:\n",
    "# ['Excellent', 'Good', 'Poor']\n",
    "pd.Categorical(df['LivingRoomsQuality'])\n",
    "\n",
    "# Previous Ownder Rating\n",
    "# 1.00 to 4.97\n",
    "# [1.00, 1.01, 1.02, 1.03, ..., 4.93, 4.94, 4.96, 4.97]\n",
    "pd.Categorical(df['PreviousOwnerRating'])\n",
    "\n",
    "# Window Model Names\n",
    "# Way too many categories\n",
    "# 995\n",
    "# Each house has its own category (No duplicates)\n",
    "pd.Categorical(df['WindowModelNames'])\n",
    "print(len(df['WindowModelNames']))\n",
    "duplicates_mask = df['WindowModelNames'].duplicated()\n",
    "duplicates_df = df[duplicates_mask]\n",
    "print(\"Duplicate rows:\")\n",
    "print(duplicates_df)"
   ]
  },
  {
   "cell_type": "markdown",
   "metadata": {},
   "source": [
    "#### Test for duplicates"
   ]
  },
  {
   "cell_type": "code",
   "execution_count": 9,
   "metadata": {},
   "outputs": [
    {
     "data": {
      "text/html": [
       "<div>\n",
       "<style scoped>\n",
       "    .dataframe tbody tr th:only-of-type {\n",
       "        vertical-align: middle;\n",
       "    }\n",
       "\n",
       "    .dataframe tbody tr th {\n",
       "        vertical-align: top;\n",
       "    }\n",
       "\n",
       "    .dataframe thead th {\n",
       "        text-align: right;\n",
       "    }\n",
       "</style>\n",
       "<table border=\"1\" class=\"dataframe\">\n",
       "  <thead>\n",
       "    <tr style=\"text-align: right;\">\n",
       "      <th></th>\n",
       "      <th>Bedrooms</th>\n",
       "      <th>Bathrooms</th>\n",
       "      <th>SquareFootageHouse</th>\n",
       "      <th>Location</th>\n",
       "      <th>Age</th>\n",
       "      <th>PoolQuality</th>\n",
       "      <th>HasPhotovoltaics</th>\n",
       "      <th>HeatingType</th>\n",
       "      <th>HasFiberglass</th>\n",
       "      <th>IsFurnished</th>\n",
       "      <th>DateSinceForSale</th>\n",
       "      <th>HouseColor</th>\n",
       "      <th>PreviousOwnerName</th>\n",
       "      <th>HasFireplace</th>\n",
       "      <th>KitchensQuality</th>\n",
       "      <th>BathroomsQuality</th>\n",
       "      <th>BedroomsQuality</th>\n",
       "      <th>LivingRoomsQuality</th>\n",
       "      <th>SquareFootageGarden</th>\n",
       "      <th>PreviousOwnerRating</th>\n",
       "      <th>HeatingCosts</th>\n",
       "      <th>WindowModelNames</th>\n",
       "      <th>Price</th>\n",
       "      <th>NaCount</th>\n",
       "    </tr>\n",
       "  </thead>\n",
       "  <tbody>\n",
       "  </tbody>\n",
       "</table>\n",
       "</div>"
      ],
      "text/plain": [
       "Empty DataFrame\n",
       "Columns: [Bedrooms, Bathrooms, SquareFootageHouse, Location, Age, PoolQuality, HasPhotovoltaics, HeatingType, HasFiberglass, IsFurnished, DateSinceForSale, HouseColor, PreviousOwnerName, HasFireplace, KitchensQuality, BathroomsQuality, BedroomsQuality, LivingRoomsQuality, SquareFootageGarden, PreviousOwnerRating, HeatingCosts, WindowModelNames, Price, NaCount]\n",
       "Index: []"
      ]
     },
     "execution_count": 9,
     "metadata": {},
     "output_type": "execute_result"
    }
   ],
   "source": [
    "df.loc[df.duplicated()]\n",
    "# No duplicate rows "
   ]
  },
  {
   "cell_type": "markdown",
   "metadata": {},
   "source": [
    "#### Output of all cases with SquareFootageHouse <0"
   ]
  },
  {
   "cell_type": "code",
   "execution_count": 10,
   "metadata": {},
   "outputs": [
    {
     "name": "stdout",
     "output_type": "stream",
     "text": [
      "Number of cases where SquareFootageHouse is smaller than 0: 8\n",
      "Cases where SquareFootageHouse  is smaller than 0:\n",
      "     Bedrooms  Bathrooms  SquareFootageHouse  Location   Age PoolQuality  \\\n",
      "48        2.0        3.0              -634.0     Rural  45.0        Poor   \n",
      "290       1.0        2.0              -658.0       NaN  54.0         NaN   \n",
      "316       1.0        1.0              -727.0     Rural  27.0         NaN   \n",
      "479       3.0        NaN              -682.0     Rural  46.0         NaN   \n",
      "481       2.0        1.0              -232.0     Urban  48.0         NaN   \n",
      "531       3.0        NaN              -265.0     Urban  23.0         NaN   \n",
      "778       1.0        NaN              -895.0  Suburban  15.0         NaN   \n",
      "971       NaN        NaN              -222.0     Rural   NaN         NaN   \n",
      "\n",
      "    HasPhotovoltaics HeatingType HasFiberglass IsFurnished DateSinceForSale  \\\n",
      "48             False    Electric          True        True       2021-06-20   \n",
      "290            False    Electric         False        True       2020-05-17   \n",
      "316            False         Oil          True        True       2020-10-28   \n",
      "479            False    Electric          True        True       2022-11-09   \n",
      "481             True         Oil         False        True       2022-01-10   \n",
      "531            False         Oil         False        True       2021-03-16   \n",
      "778            False    Electric         False        True       2023-03-16   \n",
      "971              NaN         Gas         False        True       2020-01-14   \n",
      "\n",
      "    HouseColor PreviousOwnerName HasFireplace KitchensQuality  \\\n",
      "48       Green           Natalie        False            Good   \n",
      "290     Yellow            Daniel        False       Excellent   \n",
      "316       Gray               NaN        False            Poor   \n",
      "479       Gray           Florian        False       Excellent   \n",
      "481      Green               NaN        False       Excellent   \n",
      "531      White           Sabrina        False            Poor   \n",
      "778      Green             Roman        False            Good   \n",
      "971       Gray           Theresa        False       Excellent   \n",
      "\n",
      "    BathroomsQuality BedroomsQuality LivingRoomsQuality  SquareFootageGarden  \\\n",
      "48         Excellent       Excellent               Good                 13.0   \n",
      "290        Excellent       Excellent               Poor                  6.0   \n",
      "316             Good            Good               Good                  6.0   \n",
      "479        Excellent            Poor          Excellent                  6.0   \n",
      "481             Poor            Good          Excellent                  6.0   \n",
      "531             Poor            Poor          Excellent                  6.0   \n",
      "778             Poor       Excellent               Poor                  6.0   \n",
      "971             Good            Good               Good                  6.0   \n",
      "\n",
      "     PreviousOwnerRating  HeatingCosts          WindowModelNames      Price  \\\n",
      "48                  1.70          61.8           5QFA Steel RBVP  391.18856   \n",
      "290                 4.04           NaN  RKSBC0 Steel BJBC Window  313.64935   \n",
      "316                 1.37           NaN            M60K Steel V8N  260.34790   \n",
      "479                 1.29           NaN           Aluminum OO0MM2  251.95490   \n",
      "481                 3.44         155.2           9M1 Steel S3K7I  287.15197   \n",
      "531                 2.55         161.6      Steel XB3M97C Window  282.78057   \n",
      "778                 1.82          13.8             Aluminum VNJB   34.56370   \n",
      "971                 1.28          30.0   G1I Wood 1MRQW6F Window  152.02114   \n",
      "\n",
      "     NaCount  \n",
      "48         0  \n",
      "290        3  \n",
      "316        3  \n",
      "479        3  \n",
      "481        2  \n",
      "531        2  \n",
      "778        2  \n",
      "971        5  \n",
      "Remaining number of houses with negative Square Footage: 0\n"
     ]
    }
   ],
   "source": [
    "# Count the cases where 'SquareFootageHouse       ' is smaller than 0\n",
    "negative_square_footage_house_count = (df['SquareFootageHouse'] < 0).sum()\n",
    "\n",
    "# Display the count\n",
    "print(\"Number of cases where SquareFootageHouse is smaller than 0:\", negative_square_footage_house_count)\n",
    "\n",
    "# Filter the DataFrame to get rows where 'SquareFootageHouse' is smaller than 0\n",
    "negative_square_footage_house_cases = df[df['SquareFootageHouse'] < 0]\n",
    "# Print the cases where 'SquareFootageHouse       ' is smaller than 0\n",
    "print(\"Cases where SquareFootageHouse  is smaller than 0:\")\n",
    "print(negative_square_footage_house_cases)\n",
    "\n",
    "# There are 8 cases\n",
    "# I would suggest to simply make them positive (Could be just a typo)\n",
    "\n",
    "\n",
    "# Correcting negative values in the SquareFootageHouse column # Paul\n",
    "df.loc[df['SquareFootageHouse'] < 0, 'SquareFootageHouse'] = df['SquareFootageHouse'] * -1\n",
    "print(f\"Remaining number of houses with negative Square Footage: {(df['SquareFootageHouse'] < 0).sum()}\")"
   ]
  },
  {
   "cell_type": "markdown",
   "metadata": {},
   "source": [
    "#### Output of all cases with Age <0"
   ]
  },
  {
   "cell_type": "code",
   "execution_count": 11,
   "metadata": {},
   "outputs": [
    {
     "name": "stdout",
     "output_type": "stream",
     "text": [
      "Number of cases where Age is smaller than 0: 12\n",
      "Cases where Age  is smaller than 0:\n",
      "     Bedrooms  Bathrooms  SquareFootageHouse  Location   Age PoolQuality  \\\n",
      "69        NaN        2.0                64.0     Urban -14.0         NaN   \n",
      "172       2.0        1.0                81.0     Urban -43.0        Poor   \n",
      "174       2.0        1.0                98.0  Suburban  -1.0         NaN   \n",
      "201       2.0        3.0               111.0     Urban -32.0         NaN   \n",
      "236       2.0        1.0                92.0     Rural -94.0         NaN   \n",
      "274       1.0        1.0                88.0     Rural -34.0         NaN   \n",
      "324       NaN        2.0                90.0       NaN -64.0        Poor   \n",
      "371       NaN        3.0               112.0  Suburban -69.0        Good   \n",
      "470       NaN        NaN               136.0     Rural  -1.0        Good   \n",
      "656       1.0        NaN                27.0     Urban  -1.0         NaN   \n",
      "781       1.0        1.0                40.0       NaN -18.0   Excellent   \n",
      "793       1.0        1.0                37.0       NaN  -1.0         NaN   \n",
      "\n",
      "    HasPhotovoltaics HeatingType HasFiberglass IsFurnished DateSinceForSale  \\\n",
      "69              True    Electric         False        True       2022-04-10   \n",
      "172            False         Oil         False        True       2022-08-04   \n",
      "174             True    Electric         False        True       2022-02-15   \n",
      "201            False    Electric          True        True       2020-03-14   \n",
      "236             True    Electric          True        True       2020-06-11   \n",
      "274            False         Gas          True        True       2022-01-06   \n",
      "324            False    Electric         False       False       2022-03-16   \n",
      "371            False         Oil         False        True       2021-09-11   \n",
      "470            False    Electric         False       False       2020-10-05   \n",
      "656              NaN         Oil          True        True       2021-03-26   \n",
      "781            False         Oil         False        True       2020-04-22   \n",
      "793             True         Oil         False        True       2020-03-05   \n",
      "\n",
      "    HouseColor PreviousOwnerName HasFireplace KitchensQuality  \\\n",
      "69       White            Sandra        False            Good   \n",
      "172     Yellow             Denis        False       Excellent   \n",
      "174      White             Maria        False            Poor   \n",
      "201       Gray            Stefan        False       Excellent   \n",
      "236      Green            Daniel        False            Good   \n",
      "274      Green           Andreas        False            Good   \n",
      "324     Yellow           Sabrina        False            Good   \n",
      "371      White            Daniel        False            Poor   \n",
      "470      White           Natalie        False            Poor   \n",
      "656      White             Lukas        False       Excellent   \n",
      "781     Yellow            Stefan        False            Poor   \n",
      "793     Yellow           Natalie        False            Good   \n",
      "\n",
      "    BathroomsQuality BedroomsQuality LivingRoomsQuality  SquareFootageGarden  \\\n",
      "69              Poor       Excellent               Good                  6.0   \n",
      "172        Excellent            Poor               Good                 13.0   \n",
      "174             Good            Good               Good                  6.0   \n",
      "201        Excellent       Excellent          Excellent                  6.0   \n",
      "236             Poor            Poor               Good                  6.0   \n",
      "274             Poor       Excellent               Poor                  6.0   \n",
      "324             Good       Excellent          Excellent                 13.0   \n",
      "371             Good       Excellent               Good                 18.0   \n",
      "470        Excellent            Good          Excellent                 18.0   \n",
      "656             Good            Good               Good                  6.0   \n",
      "781             Good            Good               Good                 30.0   \n",
      "793             Poor            Good               Good                  6.0   \n",
      "\n",
      "     PreviousOwnerRating  HeatingCosts         WindowModelNames      Price  \\\n",
      "69                  2.25           NaN   FI9 Wood EMROKA Window  135.85347   \n",
      "172                 4.65         129.6   RYMVVA Wood 0F9 Window  242.03227   \n",
      "174                 3.70           NaN  Aluminum Z3PK0QJ Window   80.30705   \n",
      "201                 1.18          66.6   ZO14A Steel R7C Window  274.26260   \n",
      "236                 1.60           NaN           5U4 Steel RJXG  309.78986   \n",
      "274                 3.44          89.0               Wood FVFIO  269.54300   \n",
      "324                 1.84           NaN              Steel 3ZW9N  306.56834   \n",
      "371                 3.14         179.2            Steel LVGVD3C  211.94804   \n",
      "470                 3.31          81.0     Steel OBHHNOT Window  371.39670   \n",
      "656                 3.52          43.2       Steel R6S1D Window  200.78245   \n",
      "781                 4.47           NaN               Wood PWP6E  116.07669   \n",
      "793                 4.92          60.8  UWSGM1U Wood 3NG Window  140.39316   \n",
      "\n",
      "     NaCount  \n",
      "69         3  \n",
      "172        0  \n",
      "174        2  \n",
      "201        1  \n",
      "236        2  \n",
      "274        1  \n",
      "324        3  \n",
      "371        1  \n",
      "470        2  \n",
      "656        3  \n",
      "781        2  \n",
      "793        2  \n",
      "Remaining number of houses with negative age: 0\n"
     ]
    }
   ],
   "source": [
    "# Count the cases where 'Age' is smaller than 0\n",
    "negative_age_house_count = (df['Age'] < 0).sum()\n",
    "# Display the count\n",
    "print(\"Number of cases where Age is smaller than 0:\", negative_age_house_count)\n",
    "\n",
    "# Filter the DataFrame to get rows where 'Age' is smaller than 0\n",
    "negative_age_house_cases = df[df['Age'] < 0]\n",
    "# Print the cases where 'Age' is smaller than 0\n",
    "print(\"Cases where Age  is smaller than 0:\")\n",
    "print(negative_age_house_cases)\n",
    "\n",
    "# There are 12 cases\n",
    "# I would suggest to simply make them positive (Could be just a typo)\n",
    "# Everything else seems okay\n",
    "\n",
    "# Correcting negative values in the Age column  # Paul\n",
    "df.loc[df['Age'] < 0, 'Age'] = df['Age'] * -1\n",
    "\n",
    "print(f\"Remaining number of houses with negative age: {(df['Age'] < 0).sum()}\")\n"
   ]
  },
  {
   "cell_type": "markdown",
   "metadata": {},
   "source": [
    "#### Output of all cases with HeatingCost <0"
   ]
  },
  {
   "cell_type": "code",
   "execution_count": 12,
   "metadata": {},
   "outputs": [
    {
     "name": "stdout",
     "output_type": "stream",
     "text": [
      "Number of cases where Age is smaller than 0: 5\n",
      "Cases where HeatingCost  is smaller than 0:\n",
      "     Bedrooms  Bathrooms  SquareFootageHouse  Location   Age PoolQuality  \\\n",
      "158       2.0        NaN                98.0     Rural  37.0         NaN   \n",
      "228       2.0        NaN                99.0     Urban  50.0   Excellent   \n",
      "666       2.0        2.0               100.0       NaN  36.0        Good   \n",
      "895       2.0        1.0                67.0     Urban  40.0        Good   \n",
      "924       1.0        1.0                40.0  Suburban  33.0         NaN   \n",
      "\n",
      "    HasPhotovoltaics HeatingType HasFiberglass IsFurnished DateSinceForSale  \\\n",
      "158            False    Electric         False       False       2022-12-15   \n",
      "228             True    Electric         False        True       2021-01-30   \n",
      "666            False         Oil         False       False       2023-02-20   \n",
      "895            False         Gas         False        True       2021-04-24   \n",
      "924             True    Electric          True        True       2023-04-03   \n",
      "\n",
      "    HouseColor PreviousOwnerName HasFireplace KitchensQuality  \\\n",
      "158     Yellow             Maria        False            Poor   \n",
      "228      Green            Martin        False       Excellent   \n",
      "666       Gray            Stefan        False       Excellent   \n",
      "895       Gray           Andreas        False       Excellent   \n",
      "924      White               NaN        False       Excellent   \n",
      "\n",
      "    BathroomsQuality BedroomsQuality LivingRoomsQuality  SquareFootageGarden  \\\n",
      "158             Good            Poor          Excellent                  6.0   \n",
      "228             Good            Poor          Excellent                 30.0   \n",
      "666             Good            Poor               Good                 18.0   \n",
      "895        Excellent            Poor          Excellent                 18.0   \n",
      "924             Good            Poor               Good                 30.0   \n",
      "\n",
      "     PreviousOwnerRating  HeatingCosts          WindowModelNames      Price  \\\n",
      "158                 3.73        -153.0       Aluminum I3J Window  151.75748   \n",
      "228                 2.16        -429.0   KJDZ2T Aluminum 8QIY24N  194.68713   \n",
      "666                 1.53        -421.0  ASRR Steel 4NR0N3 Window  391.29628   \n",
      "895                 2.26        -188.0         SOW Steel VKQ5239  257.89198   \n",
      "924                 3.00        -443.0   Aluminum RE21OFP Window   92.06353   \n",
      "\n",
      "     NaCount  \n",
      "158        2  \n",
      "228        1  \n",
      "666        1  \n",
      "895        0  \n",
      "924        2  \n",
      "Remaining number of houses with negative heating costs: 0\n"
     ]
    }
   ],
   "source": [
    "# Count the cases where 'HeatingCost' is smaller than 0\n",
    "negative_heating_cost_count = (df['HeatingCosts'] < 0).sum()\n",
    "# Display the count\n",
    "print(\"Number of cases where Age is smaller than 0:\", negative_heating_cost_count)\n",
    "\n",
    "# Filter the DataFrame to get rows where 'HeatingCost' is smaller than 0\n",
    "negative_heating_cost_cases = df[df['HeatingCosts'] < 0]\n",
    "# Print the cases where 'HeatingCost' is smaller than 0\n",
    "print(\"Cases where HeatingCost  is smaller than 0:\")\n",
    "print(negative_heating_cost_cases)\n",
    "\n",
    "# There are 5 cases \n",
    "# I would suggest to simply make them positive (Could be just a typo)\n",
    "# Everything else seems okay # Nik\n",
    "\n",
    "# Correcting negative values in the HeatingCosts column  # Paul\n",
    "df.loc[df['HeatingCosts'] < 0, 'HeatingCosts'] = df['HeatingCosts'] * -1\n",
    "\n",
    "print(f\"Remaining number of houses with negative heating costs: {(df['HeatingCosts'] < 0).sum()}\")"
   ]
  },
  {
   "cell_type": "markdown",
   "metadata": {},
   "source": [
    "#### Comparison of Age and DateSinceForSale"
   ]
  },
  {
   "cell_type": "code",
   "execution_count": 13,
   "metadata": {},
   "outputs": [
    {
     "name": "stdout",
     "output_type": "stream",
     "text": [
      "     Bedrooms  Bathrooms  SquareFootageHouse  Location  Age PoolQuality  \\\n",
      "174       2.0        1.0                98.0  Suburban  1.0         NaN   \n",
      "248       NaN        2.0                82.0     Rural  3.0         NaN   \n",
      "289       1.0        NaN                58.0     Rural  0.0         NaN   \n",
      "437       2.0        2.0                66.0  Suburban  0.0   Excellent   \n",
      "470       NaN        NaN               136.0     Rural  1.0        Good   \n",
      "656       1.0        NaN                27.0     Urban  1.0         NaN   \n",
      "793       1.0        1.0                37.0       NaN  1.0         NaN   \n",
      "887       1.0        NaN                59.0  Suburban  1.0        Poor   \n",
      "956       2.0        2.0                90.0  Suburban  0.0         NaN   \n",
      "976       3.0        NaN               146.0  Suburban  0.0        Good   \n",
      "\n",
      "    HasPhotovoltaics HeatingType HasFiberglass IsFurnished DateSinceForSale  \\\n",
      "174             True    Electric         False        True       2022-02-15   \n",
      "248            False    Electric         False        True       2020-09-23   \n",
      "289            False         Gas         False        True       2021-12-17   \n",
      "437            False         Gas          True        True       2022-10-15   \n",
      "470            False    Electric         False       False       2020-10-05   \n",
      "656              NaN         Oil          True        True       2021-03-26   \n",
      "793             True         Oil         False        True       2020-03-05   \n",
      "887            False    Electric          True        True       2020-04-20   \n",
      "956            False         Oil         False       False       2023-01-16   \n",
      "976            False    Electric          True        True       2020-10-10   \n",
      "\n",
      "    HouseColor PreviousOwnerName HasFireplace KitchensQuality  \\\n",
      "174      White             Maria        False            Poor   \n",
      "248      White            Stefan        False            Poor   \n",
      "289      Green               NaN        False       Excellent   \n",
      "437     Yellow             Roman        False            Good   \n",
      "470      White           Natalie        False            Poor   \n",
      "656      White             Lukas        False       Excellent   \n",
      "793     Yellow           Natalie        False            Good   \n",
      "887     Yellow            Stefan        False            Good   \n",
      "956      Green           Andreas        False       Excellent   \n",
      "976      Green             Lukas        False            Good   \n",
      "\n",
      "    BathroomsQuality BedroomsQuality LivingRoomsQuality  SquareFootageGarden  \\\n",
      "174             Good            Good               Good                  6.0   \n",
      "248             Good            Good          Excellent                  6.0   \n",
      "289             Good            Good               Poor                 18.0   \n",
      "437             Good            Poor               Good                 30.0   \n",
      "470        Excellent            Good          Excellent                 18.0   \n",
      "656             Good            Good               Good                  6.0   \n",
      "793             Poor            Good               Good                  6.0   \n",
      "887        Excellent            Good          Excellent                 13.0   \n",
      "956        Excellent       Excellent               Poor                  6.0   \n",
      "976             Good       Excellent               Poor                 18.0   \n",
      "\n",
      "     PreviousOwnerRating  HeatingCosts            WindowModelNames      Price  \\\n",
      "174                 3.70           NaN     Aluminum Z3PK0QJ Window   80.30705   \n",
      "248                 3.72          49.2  3NY33U Steel RBTBSO Window  306.37479   \n",
      "289                 2.06          59.0       Aluminum F6TGD Window  205.05907   \n",
      "437                 4.63           NaN                Steel ISBCS1  184.94654   \n",
      "470                 3.31          81.0        Steel OBHHNOT Window  371.39670   \n",
      "656                 3.52          43.2          Steel R6S1D Window  200.78245   \n",
      "793                 4.92          60.8     UWSGM1U Wood 3NG Window  140.39316   \n",
      "887                 3.66           NaN             Wood Z8T Window  109.52799   \n",
      "956                 2.54           NaN             Aluminum 7Y8043  101.11640   \n",
      "976                 2.32          88.8             Wood DD4 Window  176.79039   \n",
      "\n",
      "     NaCount  Year  NewAge  \n",
      "174        2  2022  2023.0  \n",
      "248        2  2020  2021.0  \n",
      "289        3  2021  2024.0  \n",
      "437        1  2022  2024.0  \n",
      "470        2  2020  2023.0  \n",
      "656        3  2021  2023.0  \n",
      "793        2  2020  2023.0  \n",
      "887        2  2020  2023.0  \n",
      "956        2  2023  2024.0  \n",
      "976        1  2020  2024.0  \n"
     ]
    }
   ],
   "source": [
    "# Extracts the Year since the house is for sale\n",
    "df['Year'] = df['DateSinceForSale'].str.extract(r'(\\d{4})')\n",
    "# Converting the 'Year' column to numeric # Paul\n",
    "df['Year'] = pd.to_numeric(df['Year'], errors='coerce')\n",
    "\n",
    "# Calculates the Year, the house was build in\n",
    "df['NewAge'] =  2024 - df['Age'] \n",
    "\n",
    "# Subtracts Age the house was build in from the Year since sale, to look for anomalies\n",
    "result = df[df['Year'] < df['NewAge']]\n",
    "print(result)\n",
    "\n",
    "# Shows no errors/anomalies in the code, expect the cases with negative Age \n",
    "# and houses that were build this year and were put up for sale"
   ]
  },
  {
   "cell_type": "markdown",
   "metadata": {},
   "source": [
    "Calculating General Square Footage"
   ]
  },
  {
   "cell_type": "code",
   "execution_count": 14,
   "metadata": {},
   "outputs": [
    {
     "name": "stdout",
     "output_type": "stream",
     "text": [
      "count     995.000000\n",
      "mean      195.939698\n",
      "std       819.625602\n",
      "min        25.000000\n",
      "25%        66.000000\n",
      "50%        97.000000\n",
      "75%       128.000000\n",
      "max      8608.000000\n",
      "Name: general_square_footage, dtype: float64\n"
     ]
    }
   ],
   "source": [
    "#Overall Square Footage\n",
    "# Negative Outliners need to be corrected first!\n",
    "df['general_square_footage'] = df['SquareFootageHouse'] + df['SquareFootageGarden']\n",
    "print(df['general_square_footage'].describe())\n"
   ]
  },
  {
   "cell_type": "markdown",
   "metadata": {},
   "source": [
    "#### Recoding to numeric values "
   ]
  },
  {
   "cell_type": "markdown",
   "metadata": {},
   "source": [
    "Location"
   ]
  },
  {
   "cell_type": "code",
   "execution_count": 15,
   "metadata": {},
   "outputs": [],
   "source": [
    "df['Location'].replace('Rural', '1', inplace=True)\n",
    "df['Location'].replace('Suburban', '2', inplace=True)\n",
    "df['Location'].replace('Urban', '3', inplace=True)\n",
    "# ['Rural', 'Suburban', 'Suburbann', 'Urban'] \n",
    "df['Location_numeric'] = pd.to_numeric(df['Location'], errors='coerce')"
   ]
  },
  {
   "cell_type": "markdown",
   "metadata": {},
   "source": [
    "Heating Types"
   ]
  },
  {
   "cell_type": "code",
   "execution_count": 16,
   "metadata": {},
   "outputs": [],
   "source": [
    "df['HeatingType'].replace('Electric', '1', inplace=True)\n",
    "df['HeatingType'].replace('Gas', '2', inplace=True)\n",
    "df['HeatingType'].replace('Oil', '3', inplace=True)\n",
    "df['HeatingType_numeric'] = pd.to_numeric(df['HeatingType'], errors='coerce')"
   ]
  },
  {
   "cell_type": "markdown",
   "metadata": {},
   "source": [
    "Booleans to Numeric"
   ]
  },
  {
   "cell_type": "code",
   "execution_count": 17,
   "metadata": {},
   "outputs": [],
   "source": [
    "# Convert custom strings to booleans\n",
    "df['HasPhotovoltaics'] = df['HasPhotovoltaics'].astype(bool)\n",
    "df['HasFiberglass'] = df['HasFiberglass'].astype(bool)\n",
    "df['IsFurnished'] = df['IsFurnished'].astype(bool)\n",
    "df['HasFireplace'] = df['HasFireplace'].astype(bool)"
   ]
  },
  {
   "cell_type": "code",
   "execution_count": 18,
   "metadata": {},
   "outputs": [],
   "source": [
    "df['HasPhotovoltaics_numeric'] = df['HasPhotovoltaics'].astype(float)\n",
    "df['HasFiberglass_numeric'] = df['HasFiberglass'].astype(float)\n",
    "df['IsFurnished_numeric'] = df['IsFurnished'].astype(float)\n",
    "df['HasFireplace_numeric'] = df['HasFireplace'].astype(float)"
   ]
  },
  {
   "cell_type": "markdown",
   "metadata": {},
   "source": [
    "#### Calculating Room Count"
   ]
  },
  {
   "cell_type": "code",
   "execution_count": 19,
   "metadata": {},
   "outputs": [],
   "source": [
    "# Overall Room Count \n",
    "# Negative Outliners need to be corrected first! \n",
    "df['Rooms'] = df['Bedrooms'] + df['Bathrooms'] \n",
    "#print(df['Rooms'].describe()) \n",
    "#df['Rooms'] "
   ]
  },
  {
   "cell_type": "markdown",
   "metadata": {},
   "source": [
    "#### Calculating Overall House Quality"
   ]
  },
  {
   "cell_type": "code",
   "execution_count": 20,
   "metadata": {},
   "outputs": [],
   "source": [
    "# Overall House Quality\n",
    "# Quality Categories need to be converted to numeric values\n",
    "category_map = {'Excellent': 3, 'Good': 2, 'Poor': 1}\n",
    "\n",
    "# Convert categorical values to numerical values\n",
    "df[\"PoolQuality\"] = df[\"PoolQuality\"].replace(category_map)\n",
    "df[\"KitchensQuality\"] = df[\"KitchensQuality\"].replace(category_map)\n",
    "df[\"BathroomsQuality\"] = df[\"BathroomsQuality\"].replace(category_map)\n",
    "df[\"BedroomsQuality\"] = df[\"BedroomsQuality\"].replace(category_map)\n",
    "df[\"LivingRoomsQuality\"] = df[\"LivingRoomsQuality\"].replace(category_map)\n",
    "\n",
    "# Calculate average score across columns\n",
    "df[\"overall_quality\"] = df[\"PoolQuality\"] + df[\"KitchensQuality\"] + df[\"BathroomsQuality\"] + df[\"BedroomsQuality\"] + df[\"LivingRoomsQuality\"] \n",
    "#print(df[\"overall_quality\"].describe())\n",
    "\n",
    "# Count the number of non-missing values for each row\n",
    "num_non_missing_values = df[[\"PoolQuality\", \"KitchensQuality\", \"BathroomsQuality\", \"BedroomsQuality\", \"LivingRoomsQuality\"]].notnull().sum(axis=1)\n",
    "#num_non_missing_values.describe()\n",
    "\n",
    "# Calculate the average overall quality score\n",
    "df[\"average_overall_quality\"] = df[\"overall_quality\"] / num_non_missing_values.replace(0, np.nan)  # Replace 0 with NaN to handle division by zero\n",
    "\n",
    "# Print summary statistics of the average overall quality score\n",
    "#print(df[\"average_overall_quality\"].describe())"
   ]
  },
  {
   "cell_type": "markdown",
   "metadata": {},
   "source": [
    "### Handling NA's\n",
    "\n",
    "#### Creating variable 'HasPool' Assuming Houses with Pool Quality = NA don't have a pool"
   ]
  },
  {
   "cell_type": "code",
   "execution_count": 21,
   "metadata": {},
   "outputs": [],
   "source": [
    "# Create a new column 'HasPool' based on the presence of 'PoolQuality'\n",
    "df['HasPool'] = df['PoolQuality'].notna().astype(int)"
   ]
  },
  {
   "cell_type": "code",
   "execution_count": 22,
   "metadata": {},
   "outputs": [
    {
     "data": {
      "text/plain": [
       "<Axes: >"
      ]
     },
     "execution_count": 22,
     "metadata": {},
     "output_type": "execute_result"
    },
    {
     "data": {
      "image/png": "[encoded data removed]",
      "text/plain": [
       "<Figure size 640x480 with 1 Axes>"
      ]
     },
     "metadata": {},
     "output_type": "display_data"
    }
   ],
   "source": [
    "df.boxplot()"
   ]
  },
  {
   "cell_type": "code",
   "execution_count": null,
   "metadata": {},
   "outputs": [],
   "source": []
  },
  {
   "cell_type": "markdown",
   "metadata": {},
   "source": [
    "#### 1: Try to predict NA's based off location\n",
    "\n",
    "##### Difficulty: how to treat extreme values\n",
    "-> for training the model, values below 3 SD are not included"
   ]
  },
  {
   "cell_type": "code",
   "execution_count": 23,
   "metadata": {},
   "outputs": [
    {
     "name": "stdout",
     "output_type": "stream",
     "text": [
      "Extreme Prices:\n",
      "          Price  SquareFootageHouse\n",
      "13   3456.1926                74.0\n",
      "114  3064.1810                66.0\n",
      "244  2506.0022               112.0\n",
      "419  5041.2354               136.0\n",
      "439  6050.5916                76.0\n",
      "458  2578.1786                41.0\n",
      "561  3620.8370               108.0\n",
      "566  4229.2804                48.0\n",
      "604  3419.3726                77.0\n",
      "625  4311.0886                79.0\n",
      "698  1688.5490               106.0\n",
      "814  2749.9452                91.0\n",
      "877  2733.1256                81.0\n",
      "906  2045.7770                66.0\n",
      "935  3353.4360                61.0\n",
      "970  2032.4594                28.0\n",
      "Extreme Square Feet:\n",
      "          Price  SquareFootageHouse\n",
      "14    51.50734              5871.0\n",
      "94   118.74909              6653.0\n",
      "183  528.42211              8578.0\n",
      "209  191.94354              6641.0\n",
      "272  177.42720              8403.0\n",
      "287  301.07468              6997.0\n",
      "469  113.91137              5842.0\n",
      "482   90.84932              5747.0\n",
      "515  133.81882              8223.0\n",
      "555  166.75554              5310.0\n",
      "556   89.37498              7436.0\n",
      "558  132.92976              6440.0\n",
      "763  209.99847              7804.0\n",
      "990  292.07195              7314.0\n"
     ]
    }
   ],
   "source": [
    "# Identify outliers for Price and Squarefootage\n",
    "\n",
    "# Calculate mean and standard deviation\n",
    "price_mean = df['Price'].mean()\n",
    "price_std = df['Price'].std()\n",
    "square_feet_mean = df['SquareFootageHouse'].mean()\n",
    "square_feet_std = df['SquareFootageHouse'].std()\n",
    "\n",
    "# Define bounds for being within 3 standard deviations\n",
    "price_upper_bound = price_mean + 3 * price_std\n",
    "price_lower_bound = price_mean - 3 * price_std\n",
    "square_feet_upper_bound = square_feet_mean + 3 * square_feet_std\n",
    "square_feet_lower_bound = square_feet_mean - 3 * square_feet_std\n",
    "\n",
    "# Filter data for outliers\n",
    "extreme_prices = df[(df['Price'] > price_upper_bound) | (df['Price'] < price_lower_bound)]\n",
    "extreme_square_feet = df[(df['SquareFootageHouse'] > square_feet_upper_bound) | \n",
    "                           (df['SquareFootageHouse'] < square_feet_lower_bound)]\n",
    "\n",
    "# Print results\n",
    "print(\"Extreme Prices:\\n\", extreme_prices[['Price', 'SquareFootageHouse']])\n",
    "print(\"Extreme Square Feet:\\n\", extreme_square_feet[['Price', 'SquareFootageHouse']])\n",
    "\n",
    "df_filtered_price_sf = df[\n",
    "    (df['Price'] >= price_lower_bound) & (df['Price'] <= price_upper_bound) &\n",
    "    (df['SquareFootageHouse'] >= square_feet_lower_bound) & \n",
    "    (df['SquareFootageHouse'] <= square_feet_upper_bound)\n",
    "]\n"
   ]
  },
  {
   "cell_type": "code",
   "execution_count": 24,
   "metadata": {},
   "outputs": [
    {
     "name": "stdout",
     "output_type": "stream",
     "text": [
      "              precision    recall  f1-score   support\n",
      "\n",
      "           1       0.50      0.02      0.04        48\n",
      "           2       0.72      0.87      0.79        68\n",
      "           3       0.31      0.72      0.43        47\n",
      "         nan       0.25      0.03      0.05        36\n",
      "\n",
      "    accuracy                           0.48       199\n",
      "   macro avg       0.44      0.41      0.33       199\n",
      "weighted avg       0.48      0.48      0.39       199\n",
      "\n"
     ]
    },
    {
     "name": "stderr",
     "output_type": "stream",
     "text": [
      "c:\\Users\\veren\\anaconda3\\Lib\\site-packages\\sklearn\\preprocessing\\_encoders.py:972: FutureWarning: `sparse` was renamed to `sparse_output` in version 1.2 and will be removed in 1.4. `sparse_output` is ignored unless you leave `sparse` to its default value.\n",
      "  warnings.warn(\n"
     ]
    }
   ],
   "source": [
    "\n",
    "#defining independent and dependent variables\n",
    "X = df[['SquareFootageHouse', 'Price']]\n",
    "y = df['Location']\n",
    "\n",
    "# Encoding the categorical data\n",
    "encoder = OneHotEncoder(sparse=False)\n",
    "y_encoded = encoder.fit_transform(y.values.reshape(-1, 1))\n",
    "target_names = [str(name) for name in encoder.categories_[0]]  # Converting categories to strings immediately\n",
    "\n",
    "# Splitting the dataset into training and testing sets: 20% for testing; 80% for training\n",
    "X_train, X_test, y_train, y_test = train_test_split(X, y_encoded, test_size=0.2, random_state=42)\n",
    "\n",
    "# Convert one-hot encoded y_train and y_test back to label encoded\n",
    "y_train_label = np.argmax(y_train, axis=1)\n",
    "y_test_label = np.argmax(y_test, axis=1)\n",
    "\n",
    "# Create and train the logistic regression model\n",
    "model = LogisticRegression()\n",
    "model.fit(X_train, y_train_label)\n",
    "\n",
    "# Predicting and evaluating the model\n",
    "y_pred = model.predict(X_test)\n",
    "print(classification_report(y_test_label, y_pred, target_names=target_names))"
   ]
  },
  {
   "cell_type": "markdown",
   "metadata": {},
   "source": [
    "#### Conclusion for location:\n",
    "The prediction of location was not satisfying. We should not try to replace NA's with predictions.\n",
    "\n",
    "Na's will be replaced by Median values"
   ]
  },
  {
   "cell_type": "code",
   "execution_count": 25,
   "metadata": {},
   "outputs": [],
   "source": [
    "float_columns = df.select_dtypes(include=['float64']).columns\n",
    "df_float = df[float_columns]\n",
    "df_median = df_float.fillna(df_float.median())"
   ]
  },
  {
   "cell_type": "code",
   "execution_count": 26,
   "metadata": {},
   "outputs": [],
   "source": [
    "df = df_median.copy()"
   ]
  },
  {
   "cell_type": "code",
   "execution_count": 27,
   "metadata": {},
   "outputs": [
    {
     "data": {
      "image/png": "[encoded data removed]",
      "text/plain": [
       "<Figure size 500x300 with 1 Axes>"
      ]
     },
     "metadata": {},
     "output_type": "display_data"
    },
    {
     "data": {
      "image/png": "[encoded data removed]",
      "text/plain": [
       "<Figure size 500x300 with 1 Axes>"
      ]
     },
     "metadata": {},
     "output_type": "display_data"
    },
    {
     "data": {
      "image/png": "[encoded data removed]",
      "text/plain": [
       "<Figure size 500x300 with 1 Axes>"
      ]
     },
     "metadata": {},
     "output_type": "display_data"
    },
    {
     "data": {
      "image/png": "[encoded data removed]",
      "text/plain": [
       "<Figure size 500x300 with 1 Axes>"
      ]
     },
     "metadata": {},
     "output_type": "display_data"
    },
    {
     "data": {
      "image/png": "[encoded data removed]",
      "text/plain": [
       "<Figure size 500x300 with 1 Axes>"
      ]
     },
     "metadata": {},
     "output_type": "display_data"
    },
    {
     "data": {
      "image/png": "[encoded data removed]",
      "text/plain": [
       "<Figure size 500x300 with 1 Axes>"
      ]
     },
     "metadata": {},
     "output_type": "display_data"
    },
    {
     "data": {
      "image/png": "[encoded data removed]",
      "text/plain": [
       "<Figure size 500x300 with 1 Axes>"
      ]
     },
     "metadata": {},
     "output_type": "display_data"
    },
    {
     "data": {
      "image/png": "[encoded data removed]",
      "text/plain": [
       "<Figure size 500x300 with 1 Axes>"
      ]
     },
     "metadata": {},
     "output_type": "display_data"
    },
    {
     "data": {
      "image/png": "[encoded data removed]",
      "text/plain": [
       "<Figure size 500x300 with 1 Axes>"
      ]
     },
     "metadata": {},
     "output_type": "display_data"
    },
    {
     "data": {
      "image/png": "[encoded data removed]",
      "text/plain": [
       "<Figure size 500x300 with 1 Axes>"
      ]
     },
     "metadata": {},
     "output_type": "display_data"
    },
    {
     "data": {
      "image/png": "[encoded data removed]",
      "text/plain": [
       "<Figure size 500x300 with 1 Axes>"
      ]
     },
     "metadata": {},
     "output_type": "display_data"
    },
    {
     "data": {
      "image/png": "[encoded data removed]",
      "text/plain": [
       "<Figure size 500x300 with 1 Axes>"
      ]
     },
     "metadata": {},
     "output_type": "display_data"
    },
    {
     "data": {
      "image/png": "[encoded data removed]",
      "text/plain": [
       "<Figure size 500x300 with 1 Axes>"
      ]
     },
     "metadata": {},
     "output_type": "display_data"
    },
    {
     "data": {
      "image/png": "[encoded data removed]",
      "text/plain": [
       "<Figure size 500x300 with 1 Axes>"
      ]
     },
     "metadata": {},
     "output_type": "display_data"
    },
    {
     "data": {
      "image/png": "[encoded data removed]",
      "text/plain": [
       "<Figure size 500x300 with 1 Axes>"
      ]
     },
     "metadata": {},
     "output_type": "display_data"
    },
    {
     "data": {
      "image/png": "[encoded data removed]",
      "text/plain": [
       "<Figure size 500x300 with 1 Axes>"
      ]
     },
     "metadata": {},
     "output_type": "display_data"
    },
    {
     "data": {
      "image/png": "[encoded data removed]",
      "text/plain": [
       "<Figure size 500x300 with 1 Axes>"
      ]
     },
     "metadata": {},
     "output_type": "display_data"
    },
    {
     "data": {
      "image/png": "[encoded data removed]",
      "text/plain": [
       "<Figure size 500x300 with 1 Axes>"
      ]
     },
     "metadata": {},
     "output_type": "display_data"
    },
    {
     "data": {
      "image/png": "[encoded data removed]",
      "text/plain": [
       "<Figure size 500x300 with 1 Axes>"
      ]
     },
     "metadata": {},
     "output_type": "display_data"
    }
   ],
   "source": [
    "palette = sns.color_palette(\"mako\", len(df.columns))\n",
    "\n",
    "# Iterate over the selected columns and create box plots\n",
    "for i, col in enumerate(df.columns):\n",
    "    data = df[[col]]\n",
    "    plt.figure(figsize=(5, 3))\n",
    "    \n",
    "    # Create a boxplot with the chosen color and showing the mean\n",
    "    plt.boxplot(data, showmeans=True, patch_artist=True, \n",
    "                boxprops=dict(facecolor=palette[i % len(palette)], color=palette[i % len(palette)]),\n",
    "                whiskerprops=dict(color=palette[i % len(palette)]),\n",
    "                capprops=dict(color=palette[i % len(palette)]),\n",
    "                flierprops=dict(markerfacecolor=palette[i % len(palette)], markeredgecolor=palette[i % len(palette)]),\n",
    "                medianprops=dict(color='white'),\n",
    "                meanprops=dict(markerfacecolor='black', markeredgecolor='black'))\n",
    "\n",
    "    # Set the title for the plot\n",
    "    plt.title(col)\n",
    "    \n",
    "    # Show the plot\n",
    "    plt.show()"
   ]
  },
  {
   "cell_type": "markdown",
   "metadata": {},
   "source": [
    "## 3:"
   ]
  },
  {
   "cell_type": "markdown",
   "metadata": {},
   "source": [
    "## Feature selection with Random Forrest Regressor"
   ]
  },
  {
   "cell_type": "code",
   "execution_count": 28,
   "metadata": {},
   "outputs": [],
   "source": [
    "from sklearn.ensemble import RandomForestRegressor"
   ]
  },
  {
   "cell_type": "code",
   "execution_count": 29,
   "metadata": {},
   "outputs": [],
   "source": [
    "target_rfr = 'Price'\n",
    "features_rfr = [col for col in df.columns if col != target_rfr]"
   ]
  },
  {
   "cell_type": "code",
   "execution_count": 30,
   "metadata": {},
   "outputs": [],
   "source": [
    "x_rfr = df[features_rfr]\n",
    "y_rfr = df[target_rfr]"
   ]
  },
  {
   "cell_type": "code",
   "execution_count": 31,
   "metadata": {},
   "outputs": [],
   "source": [
    "x_train_rfr, x_test_rfr, y_train_rfr, y_test_rfr = train_test_split(x_rfr, y_rfr, test_size=0.2, random_state=42)"
   ]
  },
  {
   "cell_type": "code",
   "execution_count": 32,
   "metadata": {},
   "outputs": [
    {
     "data": {
      "text/html": [
       "<div>\n",
       "<style scoped>\n",
       "    .dataframe tbody tr th:only-of-type {\n",
       "        vertical-align: middle;\n",
       "    }\n",
       "\n",
       "    .dataframe tbody tr th {\n",
       "        vertical-align: top;\n",
       "    }\n",
       "\n",
       "    .dataframe thead th {\n",
       "        text-align: right;\n",
       "    }\n",
       "</style>\n",
       "<table border=\"1\" class=\"dataframe\">\n",
       "  <thead>\n",
       "    <tr style=\"text-align: right;\">\n",
       "      <th></th>\n",
       "      <th>Feature</th>\n",
       "      <th>Importance</th>\n",
       "    </tr>\n",
       "  </thead>\n",
       "  <tbody>\n",
       "    <tr>\n",
       "      <th>6</th>\n",
       "      <td>PreviousOwnerRating</td>\n",
       "      <td>0.234483</td>\n",
       "    </tr>\n",
       "    <tr>\n",
       "      <th>2</th>\n",
       "      <td>SquareFootageHouse</td>\n",
       "      <td>0.140597</td>\n",
       "    </tr>\n",
       "    <tr>\n",
       "      <th>9</th>\n",
       "      <td>general_square_footage</td>\n",
       "      <td>0.136040</td>\n",
       "    </tr>\n",
       "    <tr>\n",
       "      <th>8</th>\n",
       "      <td>NewAge</td>\n",
       "      <td>0.130563</td>\n",
       "    </tr>\n",
       "    <tr>\n",
       "      <th>3</th>\n",
       "      <td>Age</td>\n",
       "      <td>0.099015</td>\n",
       "    </tr>\n",
       "    <tr>\n",
       "      <th>7</th>\n",
       "      <td>HeatingCosts</td>\n",
       "      <td>0.068553</td>\n",
       "    </tr>\n",
       "    <tr>\n",
       "      <th>10</th>\n",
       "      <td>Location_numeric</td>\n",
       "      <td>0.037555</td>\n",
       "    </tr>\n",
       "    <tr>\n",
       "      <th>12</th>\n",
       "      <td>HasFiberglass_numeric</td>\n",
       "      <td>0.027781</td>\n",
       "    </tr>\n",
       "    <tr>\n",
       "      <th>0</th>\n",
       "      <td>Bedrooms</td>\n",
       "      <td>0.022581</td>\n",
       "    </tr>\n",
       "    <tr>\n",
       "      <th>17</th>\n",
       "      <td>average_overall_quality</td>\n",
       "      <td>0.018912</td>\n",
       "    </tr>\n",
       "    <tr>\n",
       "      <th>16</th>\n",
       "      <td>overall_quality</td>\n",
       "      <td>0.017809</td>\n",
       "    </tr>\n",
       "    <tr>\n",
       "      <th>1</th>\n",
       "      <td>Bathrooms</td>\n",
       "      <td>0.017647</td>\n",
       "    </tr>\n",
       "    <tr>\n",
       "      <th>13</th>\n",
       "      <td>IsFurnished_numeric</td>\n",
       "      <td>0.017569</td>\n",
       "    </tr>\n",
       "    <tr>\n",
       "      <th>5</th>\n",
       "      <td>SquareFootageGarden</td>\n",
       "      <td>0.012785</td>\n",
       "    </tr>\n",
       "    <tr>\n",
       "      <th>11</th>\n",
       "      <td>HasPhotovoltaics_numeric</td>\n",
       "      <td>0.010786</td>\n",
       "    </tr>\n",
       "    <tr>\n",
       "      <th>15</th>\n",
       "      <td>Rooms</td>\n",
       "      <td>0.005290</td>\n",
       "    </tr>\n",
       "    <tr>\n",
       "      <th>4</th>\n",
       "      <td>PoolQuality</td>\n",
       "      <td>0.001661</td>\n",
       "    </tr>\n",
       "    <tr>\n",
       "      <th>14</th>\n",
       "      <td>HasFireplace_numeric</td>\n",
       "      <td>0.000375</td>\n",
       "    </tr>\n",
       "  </tbody>\n",
       "</table>\n",
       "</div>"
      ],
      "text/plain": [
       "                     Feature  Importance\n",
       "6        PreviousOwnerRating    0.234483\n",
       "2         SquareFootageHouse    0.140597\n",
       "9     general_square_footage    0.136040\n",
       "8                     NewAge    0.130563\n",
       "3                        Age    0.099015\n",
       "7               HeatingCosts    0.068553\n",
       "10          Location_numeric    0.037555\n",
       "12     HasFiberglass_numeric    0.027781\n",
       "0                   Bedrooms    0.022581\n",
       "17   average_overall_quality    0.018912\n",
       "16           overall_quality    0.017809\n",
       "1                  Bathrooms    0.017647\n",
       "13       IsFurnished_numeric    0.017569\n",
       "5        SquareFootageGarden    0.012785\n",
       "11  HasPhotovoltaics_numeric    0.010786\n",
       "15                     Rooms    0.005290\n",
       "4                PoolQuality    0.001661\n",
       "14      HasFireplace_numeric    0.000375"
      ]
     },
     "execution_count": 32,
     "metadata": {},
     "output_type": "execute_result"
    }
   ],
   "source": [
    "model_rfr = RandomForestRegressor()\n",
    "\n",
    "model_rfr.fit(x_train_rfr, y_train_rfr)\n",
    "\n",
    "importances = model_rfr.feature_importances_\n",
    "\n",
    "importance_scores = pd.DataFrame({'Feature': features_rfr, 'Importance': importances})\n",
    "importance_scores_sorted = importance_scores.sort_values(by='Importance', ascending=False)\n",
    "importance_scores_sorted"
   ]
  },
  {
   "cell_type": "code",
   "execution_count": 33,
   "metadata": {},
   "outputs": [
    {
     "data": {
      "image/png": "[encoded data removed]",
      "text/plain": [
       "<Figure size 1000x500 with 1 Axes>"
      ]
     },
     "metadata": {},
     "output_type": "display_data"
    }
   ],
   "source": [
    "plt.figure(figsize=(10,5))\n",
    "ax = sns.barplot(x='Importance', y='Feature', data=importance_scores_sorted)\n",
    "ax.bar_label(ax.containers[0], fontsize=6, label_type='center')\n",
    "plt.title('Rank of Features - Tree-Based Model (Random Forest Regressor)')\n",
    "plt.show()"
   ]
  },
  {
   "cell_type": "markdown",
   "metadata": {},
   "source": [
    "## Dimensionality Reduction with PCA"
   ]
  },
  {
   "cell_type": "code",
   "execution_count": 34,
   "metadata": {},
   "outputs": [],
   "source": [
    "scaler = StandardScaler()\n",
    "scaled_data = scaler.fit_transform(x_rfr)"
   ]
  },
  {
   "cell_type": "code",
   "execution_count": 35,
   "metadata": {},
   "outputs": [
    {
     "data": {
      "text/html": [
       "<div>\n",
       "<style scoped>\n",
       "    .dataframe tbody tr th:only-of-type {\n",
       "        vertical-align: middle;\n",
       "    }\n",
       "\n",
       "    .dataframe tbody tr th {\n",
       "        vertical-align: top;\n",
       "    }\n",
       "\n",
       "    .dataframe thead th {\n",
       "        text-align: right;\n",
       "    }\n",
       "</style>\n",
       "<table border=\"1\" class=\"dataframe\">\n",
       "  <thead>\n",
       "    <tr style=\"text-align: right;\">\n",
       "      <th></th>\n",
       "      <th>0</th>\n",
       "      <th>1</th>\n",
       "      <th>2</th>\n",
       "      <th>3</th>\n",
       "      <th>4</th>\n",
       "      <th>5</th>\n",
       "      <th>6</th>\n",
       "      <th>7</th>\n",
       "      <th>8</th>\n",
       "      <th>9</th>\n",
       "      <th>10</th>\n",
       "      <th>11</th>\n",
       "      <th>12</th>\n",
       "      <th>13</th>\n",
       "      <th>14</th>\n",
       "      <th>15</th>\n",
       "      <th>16</th>\n",
       "      <th>17</th>\n",
       "    </tr>\n",
       "  </thead>\n",
       "  <tbody>\n",
       "    <tr>\n",
       "      <th>0</th>\n",
       "      <td>-0.482033</td>\n",
       "      <td>-0.521722</td>\n",
       "      <td>-0.169001</td>\n",
       "      <td>1.525464</td>\n",
       "      <td>-0.026221</td>\n",
       "      <td>0.185096</td>\n",
       "      <td>-1.036287</td>\n",
       "      <td>-0.075936</td>\n",
       "      <td>-1.525464</td>\n",
       "      <td>-0.167160</td>\n",
       "      <td>-0.010935</td>\n",
       "      <td>1.642828</td>\n",
       "      <td>-0.802887</td>\n",
       "      <td>0.639803</td>\n",
       "      <td>-0.054993</td>\n",
       "      <td>-1.127729</td>\n",
       "      <td>-0.156185</td>\n",
       "      <td>-0.156185</td>\n",
       "    </tr>\n",
       "    <tr>\n",
       "      <th>1</th>\n",
       "      <td>-0.482033</td>\n",
       "      <td>-0.521722</td>\n",
       "      <td>-0.117715</td>\n",
       "      <td>-1.562316</td>\n",
       "      <td>-0.026221</td>\n",
       "      <td>-0.701556</td>\n",
       "      <td>0.540105</td>\n",
       "      <td>-0.075936</td>\n",
       "      <td>1.562316</td>\n",
       "      <td>-0.124436</td>\n",
       "      <td>-0.010935</td>\n",
       "      <td>1.642828</td>\n",
       "      <td>-0.802887</td>\n",
       "      <td>0.639803</td>\n",
       "      <td>-0.054993</td>\n",
       "      <td>-1.127729</td>\n",
       "      <td>-0.156185</td>\n",
       "      <td>-0.156185</td>\n",
       "    </tr>\n",
       "    <tr>\n",
       "      <th>2</th>\n",
       "      <td>-0.482033</td>\n",
       "      <td>-0.521722</td>\n",
       "      <td>-0.076198</td>\n",
       "      <td>-0.275741</td>\n",
       "      <td>-0.026221</td>\n",
       "      <td>-0.701556</td>\n",
       "      <td>0.607185</td>\n",
       "      <td>-0.075936</td>\n",
       "      <td>0.275741</td>\n",
       "      <td>-0.082933</td>\n",
       "      <td>1.349088</td>\n",
       "      <td>1.642828</td>\n",
       "      <td>-0.802887</td>\n",
       "      <td>0.639803</td>\n",
       "      <td>-0.054993</td>\n",
       "      <td>-0.125863</td>\n",
       "      <td>-0.156185</td>\n",
       "      <td>-0.156185</td>\n",
       "    </tr>\n",
       "    <tr>\n",
       "      <th>3</th>\n",
       "      <td>-0.482033</td>\n",
       "      <td>0.729153</td>\n",
       "      <td>-0.088409</td>\n",
       "      <td>1.589793</td>\n",
       "      <td>-0.026221</td>\n",
       "      <td>-0.701556</td>\n",
       "      <td>1.892894</td>\n",
       "      <td>-0.105513</td>\n",
       "      <td>-1.589793</td>\n",
       "      <td>-0.095140</td>\n",
       "      <td>-1.370958</td>\n",
       "      <td>-0.608706</td>\n",
       "      <td>1.245505</td>\n",
       "      <td>0.639803</td>\n",
       "      <td>-0.054993</td>\n",
       "      <td>-0.125863</td>\n",
       "      <td>-0.156185</td>\n",
       "      <td>-0.156185</td>\n",
       "    </tr>\n",
       "    <tr>\n",
       "      <th>4</th>\n",
       "      <td>-0.482033</td>\n",
       "      <td>-0.521722</td>\n",
       "      <td>-0.173885</td>\n",
       "      <td>-1.819631</td>\n",
       "      <td>2.345558</td>\n",
       "      <td>2.338394</td>\n",
       "      <td>-1.304609</td>\n",
       "      <td>-0.075936</td>\n",
       "      <td>1.819631</td>\n",
       "      <td>-0.151291</td>\n",
       "      <td>-0.010935</td>\n",
       "      <td>-0.608706</td>\n",
       "      <td>-0.802887</td>\n",
       "      <td>-1.562980</td>\n",
       "      <td>-0.054993</td>\n",
       "      <td>-0.125863</td>\n",
       "      <td>1.929772</td>\n",
       "      <td>1.929772</td>\n",
       "    </tr>\n",
       "    <tr>\n",
       "      <th>...</th>\n",
       "      <td>...</td>\n",
       "      <td>...</td>\n",
       "      <td>...</td>\n",
       "      <td>...</td>\n",
       "      <td>...</td>\n",
       "      <td>...</td>\n",
       "      <td>...</td>\n",
       "      <td>...</td>\n",
       "      <td>...</td>\n",
       "      <td>...</td>\n",
       "      <td>...</td>\n",
       "      <td>...</td>\n",
       "      <td>...</td>\n",
       "      <td>...</td>\n",
       "      <td>...</td>\n",
       "      <td>...</td>\n",
       "      <td>...</td>\n",
       "      <td>...</td>\n",
       "    </tr>\n",
       "    <tr>\n",
       "      <th>990</th>\n",
       "      <td>-0.482033</td>\n",
       "      <td>0.729153</td>\n",
       "      <td>-0.089630</td>\n",
       "      <td>-0.275741</td>\n",
       "      <td>-0.026221</td>\n",
       "      <td>-0.701556</td>\n",
       "      <td>-0.119520</td>\n",
       "      <td>0.019915</td>\n",
       "      <td>0.275741</td>\n",
       "      <td>-0.096360</td>\n",
       "      <td>-1.370958</td>\n",
       "      <td>-0.608706</td>\n",
       "      <td>-0.802887</td>\n",
       "      <td>0.639803</td>\n",
       "      <td>-0.054993</td>\n",
       "      <td>-0.125863</td>\n",
       "      <td>-0.156185</td>\n",
       "      <td>-0.156185</td>\n",
       "    </tr>\n",
       "    <tr>\n",
       "      <th>991</th>\n",
       "      <td>-0.482033</td>\n",
       "      <td>-0.521722</td>\n",
       "      <td>-0.144579</td>\n",
       "      <td>-1.369330</td>\n",
       "      <td>-0.026221</td>\n",
       "      <td>-0.701556</td>\n",
       "      <td>-0.767965</td>\n",
       "      <td>-0.075936</td>\n",
       "      <td>1.369330</td>\n",
       "      <td>-0.151291</td>\n",
       "      <td>-0.010935</td>\n",
       "      <td>1.642828</td>\n",
       "      <td>1.245505</td>\n",
       "      <td>-1.562980</td>\n",
       "      <td>-0.054993</td>\n",
       "      <td>-0.125863</td>\n",
       "      <td>-0.156185</td>\n",
       "      <td>-0.156185</td>\n",
       "    </tr>\n",
       "    <tr>\n",
       "      <th>992</th>\n",
       "      <td>0.766984</td>\n",
       "      <td>1.980028</td>\n",
       "      <td>-0.068871</td>\n",
       "      <td>-0.533056</td>\n",
       "      <td>-0.026221</td>\n",
       "      <td>-0.701556</td>\n",
       "      <td>-0.622624</td>\n",
       "      <td>0.275700</td>\n",
       "      <td>0.533056</td>\n",
       "      <td>-0.075609</td>\n",
       "      <td>1.349088</td>\n",
       "      <td>-0.608706</td>\n",
       "      <td>-0.802887</td>\n",
       "      <td>-1.562980</td>\n",
       "      <td>-0.054993</td>\n",
       "      <td>1.877870</td>\n",
       "      <td>-0.156185</td>\n",
       "      <td>-0.156185</td>\n",
       "    </tr>\n",
       "    <tr>\n",
       "      <th>993</th>\n",
       "      <td>-0.482033</td>\n",
       "      <td>3.230903</td>\n",
       "      <td>-0.048112</td>\n",
       "      <td>0.817848</td>\n",
       "      <td>-0.026221</td>\n",
       "      <td>0.818419</td>\n",
       "      <td>-0.555543</td>\n",
       "      <td>-0.075936</td>\n",
       "      <td>-0.817848</td>\n",
       "      <td>-0.040209</td>\n",
       "      <td>1.349088</td>\n",
       "      <td>-0.608706</td>\n",
       "      <td>1.245505</td>\n",
       "      <td>0.639803</td>\n",
       "      <td>-0.054993</td>\n",
       "      <td>1.877870</td>\n",
       "      <td>-0.156185</td>\n",
       "      <td>-0.156185</td>\n",
       "    </tr>\n",
       "    <tr>\n",
       "      <th>994</th>\n",
       "      <td>-0.482033</td>\n",
       "      <td>-0.521722</td>\n",
       "      <td>-0.116494</td>\n",
       "      <td>-1.755302</td>\n",
       "      <td>-0.026221</td>\n",
       "      <td>0.818419</td>\n",
       "      <td>2.060595</td>\n",
       "      <td>-0.143306</td>\n",
       "      <td>1.755302</td>\n",
       "      <td>-0.108567</td>\n",
       "      <td>1.349088</td>\n",
       "      <td>1.642828</td>\n",
       "      <td>-0.802887</td>\n",
       "      <td>0.639803</td>\n",
       "      <td>-0.054993</td>\n",
       "      <td>-0.125863</td>\n",
       "      <td>1.929772</td>\n",
       "      <td>1.929772</td>\n",
       "    </tr>\n",
       "  </tbody>\n",
       "</table>\n",
       "<p>995 rows × 18 columns</p>\n",
       "</div>"
      ],
      "text/plain": [
       "           0         1         2         3         4         5         6   \\\n",
       "0   -0.482033 -0.521722 -0.169001  1.525464 -0.026221  0.185096 -1.036287   \n",
       "1   -0.482033 -0.521722 -0.117715 -1.562316 -0.026221 -0.701556  0.540105   \n",
       "2   -0.482033 -0.521722 -0.076198 -0.275741 -0.026221 -0.701556  0.607185   \n",
       "3   -0.482033  0.729153 -0.088409  1.589793 -0.026221 -0.701556  1.892894   \n",
       "4   -0.482033 -0.521722 -0.173885 -1.819631  2.345558  2.338394 -1.304609   \n",
       "..        ...       ...       ...       ...       ...       ...       ...   \n",
       "990 -0.482033  0.729153 -0.089630 -0.275741 -0.026221 -0.701556 -0.119520   \n",
       "991 -0.482033 -0.521722 -0.144579 -1.369330 -0.026221 -0.701556 -0.767965   \n",
       "992  0.766984  1.980028 -0.068871 -0.533056 -0.026221 -0.701556 -0.622624   \n",
       "993 -0.482033  3.230903 -0.048112  0.817848 -0.026221  0.818419 -0.555543   \n",
       "994 -0.482033 -0.521722 -0.116494 -1.755302 -0.026221  0.818419  2.060595   \n",
       "\n",
       "           7         8         9         10        11        12        13  \\\n",
       "0   -0.075936 -1.525464 -0.167160 -0.010935  1.642828 -0.802887  0.639803   \n",
       "1   -0.075936  1.562316 -0.124436 -0.010935  1.642828 -0.802887  0.639803   \n",
       "2   -0.075936  0.275741 -0.082933  1.349088  1.642828 -0.802887  0.639803   \n",
       "3   -0.105513 -1.589793 -0.095140 -1.370958 -0.608706  1.245505  0.639803   \n",
       "4   -0.075936  1.819631 -0.151291 -0.010935 -0.608706 -0.802887 -1.562980   \n",
       "..        ...       ...       ...       ...       ...       ...       ...   \n",
       "990  0.019915  0.275741 -0.096360 -1.370958 -0.608706 -0.802887  0.639803   \n",
       "991 -0.075936  1.369330 -0.151291 -0.010935  1.642828  1.245505 -1.562980   \n",
       "992  0.275700  0.533056 -0.075609  1.349088 -0.608706 -0.802887 -1.562980   \n",
       "993 -0.075936 -0.817848 -0.040209  1.349088 -0.608706  1.245505  0.639803   \n",
       "994 -0.143306  1.755302 -0.108567  1.349088  1.642828 -0.802887  0.639803   \n",
       "\n",
       "           14        15        16        17  \n",
       "0   -0.054993 -1.127729 -0.156185 -0.156185  \n",
       "1   -0.054993 -1.127729 -0.156185 -0.156185  \n",
       "2   -0.054993 -0.125863 -0.156185 -0.156185  \n",
       "3   -0.054993 -0.125863 -0.156185 -0.156185  \n",
       "4   -0.054993 -0.125863  1.929772  1.929772  \n",
       "..        ...       ...       ...       ...  \n",
       "990 -0.054993 -0.125863 -0.156185 -0.156185  \n",
       "991 -0.054993 -0.125863 -0.156185 -0.156185  \n",
       "992 -0.054993  1.877870 -0.156185 -0.156185  \n",
       "993 -0.054993  1.877870 -0.156185 -0.156185  \n",
       "994 -0.054993 -0.125863  1.929772  1.929772  \n",
       "\n",
       "[995 rows x 18 columns]"
      ]
     },
     "execution_count": 35,
     "metadata": {},
     "output_type": "execute_result"
    }
   ],
   "source": [
    "scaled_data_df = pd.DataFrame(scaled_data)\n",
    "scaled_data_df"
   ]
  },
  {
   "cell_type": "code",
   "execution_count": 36,
   "metadata": {},
   "outputs": [
    {
     "data": {
      "text/html": [
       "<style>#sk-container-id-1 {color: black;}#sk-container-id-1 pre{padding: 0;}#sk-container-id-1 div.sk-toggleable {background-color: white;}#sk-container-id-1 label.sk-toggleable__label {cursor: pointer;display: block;width: 100%;margin-bottom: 0;padding: 0.3em;box-sizing: border-box;text-align: center;}#sk-container-id-1 label.sk-toggleable__label-arrow:before {content: \"▸\";float: left;margin-right: 0.25em;color: #696969;}#sk-container-id-1 label.sk-toggleable__label-arrow:hover:before {color: black;}#sk-container-id-1 div.sk-estimator:hover label.sk-toggleable__label-arrow:before {color: black;}#sk-container-id-1 div.sk-toggleable__content {max-height: 0;max-width: 0;overflow: hidden;text-align: left;background-color: #f0f8ff;}#sk-container-id-1 div.sk-toggleable__content pre {margin: 0.2em;color: black;border-radius: 0.25em;background-color: #f0f8ff;}#sk-container-id-1 input.sk-toggleable__control:checked~div.sk-toggleable__content {max-height: 200px;max-width: 100%;overflow: auto;}#sk-container-id-1 input.sk-toggleable__control:checked~label.sk-toggleable__label-arrow:before {content: \"▾\";}#sk-container-id-1 div.sk-estimator input.sk-toggleable__control:checked~label.sk-toggleable__label {background-color: #d4ebff;}#sk-container-id-1 div.sk-label input.sk-toggleable__control:checked~label.sk-toggleable__label {background-color: #d4ebff;}#sk-container-id-1 input.sk-hidden--visually {border: 0;clip: rect(1px 1px 1px 1px);clip: rect(1px, 1px, 1px, 1px);height: 1px;margin: -1px;overflow: hidden;padding: 0;position: absolute;width: 1px;}#sk-container-id-1 div.sk-estimator {font-family: monospace;background-color: #f0f8ff;border: 1px dotted black;border-radius: 0.25em;box-sizing: border-box;margin-bottom: 0.5em;}#sk-container-id-1 div.sk-estimator:hover {background-color: #d4ebff;}#sk-container-id-1 div.sk-parallel-item::after {content: \"\";width: 100%;border-bottom: 1px solid gray;flex-grow: 1;}#sk-container-id-1 div.sk-label:hover label.sk-toggleable__label {background-color: #d4ebff;}#sk-container-id-1 div.sk-serial::before {content: \"\";position: absolute;border-left: 1px solid gray;box-sizing: border-box;top: 0;bottom: 0;left: 50%;z-index: 0;}#sk-container-id-1 div.sk-serial {display: flex;flex-direction: column;align-items: center;background-color: white;padding-right: 0.2em;padding-left: 0.2em;position: relative;}#sk-container-id-1 div.sk-item {position: relative;z-index: 1;}#sk-container-id-1 div.sk-parallel {display: flex;align-items: stretch;justify-content: center;background-color: white;position: relative;}#sk-container-id-1 div.sk-item::before, #sk-container-id-1 div.sk-parallel-item::before {content: \"\";position: absolute;border-left: 1px solid gray;box-sizing: border-box;top: 0;bottom: 0;left: 50%;z-index: -1;}#sk-container-id-1 div.sk-parallel-item {display: flex;flex-direction: column;z-index: 1;position: relative;background-color: white;}#sk-container-id-1 div.sk-parallel-item:first-child::after {align-self: flex-end;width: 50%;}#sk-container-id-1 div.sk-parallel-item:last-child::after {align-self: flex-start;width: 50%;}#sk-container-id-1 div.sk-parallel-item:only-child::after {width: 0;}#sk-container-id-1 div.sk-dashed-wrapped {border: 1px dashed gray;margin: 0 0.4em 0.5em 0.4em;box-sizing: border-box;padding-bottom: 0.4em;background-color: white;}#sk-container-id-1 div.sk-label label {font-family: monospace;font-weight: bold;display: inline-block;line-height: 1.2em;}#sk-container-id-1 div.sk-label-container {text-align: center;}#sk-container-id-1 div.sk-container {/* jupyter's `normalize.less` sets `[hidden] { display: none; }` but bootstrap.min.css set `[hidden] { display: none !important; }` so we also need the `!important` here to be able to override the default hidden behavior on the sphinx rendered scikit-learn.org. See: https://github.com/scikit-learn/scikit-learn/issues/21755 */display: inline-block !important;position: relative;}#sk-container-id-1 div.sk-text-repr-fallback {display: none;}</style><div id=\"sk-container-id-1\" class=\"sk-top-container\"><div class=\"sk-text-repr-fallback\"><pre>PCA()</pre><b>In a Jupyter environment, please rerun this cell to show the HTML representation or trust the notebook. <br />On GitHub, the HTML representation is unable to render, please try loading this page with nbviewer.org.</b></div><div class=\"sk-container\" hidden><div class=\"sk-item\"><div class=\"sk-estimator sk-toggleable\"><input class=\"sk-toggleable__control sk-hidden--visually\" id=\"sk-estimator-id-1\" type=\"checkbox\" checked><label for=\"sk-estimator-id-1\" class=\"sk-toggleable__label sk-toggleable__label-arrow\">PCA</label><div class=\"sk-toggleable__content\"><pre>PCA()</pre></div></div></div></div></div>"
      ],
      "text/plain": [
       "PCA()"
      ]
     },
     "execution_count": 36,
     "metadata": {},
     "output_type": "execute_result"
    }
   ],
   "source": [
    "pca = PCA()\n",
    "pca.fit(scaled_data)"
   ]
  },
  {
   "cell_type": "code",
   "execution_count": 37,
   "metadata": {},
   "outputs": [
    {
     "name": "stdout",
     "output_type": "stream",
     "text": [
      "Explained Variance: [1.48471242e-01 1.17135566e-01 1.12433397e-01 1.07625224e-01\n",
      " 6.31510752e-02 6.08902293e-02 5.72532429e-02 5.46770039e-02\n",
      " 5.40204707e-02 5.01669356e-02 4.87413092e-02 4.61738454e-02\n",
      " 4.22157620e-02 2.63543628e-02 1.06903333e-02 3.46962194e-33\n",
      " 1.03523774e-33 7.11299841e-34]\n",
      "Cumulative: [0.14847124 0.26560681 0.37804021 0.48566543 0.5488165  0.60970673\n",
      " 0.66695998 0.72163698 0.77565745 0.82582439 0.8745657  0.92073954\n",
      " 0.9629553  0.98930967 1.         1.         1.         1.        ]\n"
     ]
    }
   ],
   "source": [
    "explained_variance = pca.explained_variance_ratio_\n",
    "cumulative_expl_var = np.cumsum(explained_variance)\n",
    "print(f\"Explained Variance: {explained_variance}\")\n",
    "print(f\"Cumulative: {cumulative_expl_var}\")"
   ]
  },
  {
   "cell_type": "code",
   "execution_count": 38,
   "metadata": {},
   "outputs": [
    {
     "data": {
      "image/png": "[encoded data removed]",
      "text/plain": [
       "<Figure size 1000x500 with 1 Axes>"
      ]
     },
     "metadata": {},
     "output_type": "display_data"
    }
   ],
   "source": [
    "plt.figure(figsize=(10,5))\n",
    "plt.plot(range(1, len(cumulative_expl_var)+1), cumulative_expl_var, marker='o', linestyle='--')\n",
    "plt.title('Cumulative Explained Variance by PCA Components')\n",
    "plt.xlabel('Number of Components')\n",
    "plt.ylabel('Cumulative Explained Variance')\n",
    "plt.grid()\n",
    "plt.show()"
   ]
  },
  {
   "cell_type": "code",
   "execution_count": 39,
   "metadata": {},
   "outputs": [
    {
     "name": "stdout",
     "output_type": "stream",
     "text": [
      "Number of components explaining 95% variance: 13\n"
     ]
    }
   ],
   "source": [
    "num_components = np.argmax(cumulative_expl_var >= 0.95) + 1\n",
    "print(f\"Number of components explaining 95% variance: {num_components}\")"
   ]
  },
  {
   "cell_type": "code",
   "execution_count": 40,
   "metadata": {},
   "outputs": [
    {
     "data": {
      "text/plain": [
       "array([[ 0.09093279, -2.13430615, -0.52713385, ...,  1.21285471,\n",
       "         0.94469905, -0.0845863 ],\n",
       "       [-0.18542133,  0.72275874, -1.75830227, ...,  0.57261406,\n",
       "         0.08164514, -0.27106711],\n",
       "       [-0.29657394, -0.12735047, -0.81256308, ...,  0.29231531,\n",
       "        -0.4649884 , -0.14527898],\n",
       "       ...,\n",
       "       [-0.96776524,  2.11641361,  1.66891766, ..., -0.24783077,\n",
       "        -0.81118349, -0.81246588],\n",
       "       [-0.19591074,  0.68659114,  2.24577165, ..., -1.29441659,\n",
       "         0.17223239, -2.11151344],\n",
       "       [ 2.6591808 ,  1.75898978, -1.25154018, ..., -0.03050864,\n",
       "        -1.50865418,  0.25805715]])"
      ]
     },
     "execution_count": 40,
     "metadata": {},
     "output_type": "execute_result"
    }
   ],
   "source": [
    "pca = PCA(n_components=num_components)\n",
    "pca.fit_transform(scaled_data)"
   ]
  },
  {
   "cell_type": "code",
   "execution_count": 41,
   "metadata": {},
   "outputs": [
    {
     "data": {
      "text/plain": [
       "array([[-1.05714611e-01,  3.41223249e-01,  3.45083463e-01,\n",
       "        -1.70713301e-01,  4.12020852e-02,  5.92997900e-02,\n",
       "        -1.02353321e-01, -6.95347852e-03, -1.98379954e-02,\n",
       "         3.11226241e-02,  7.41642384e-02, -1.84765606e-02,\n",
       "         6.76120191e-01],\n",
       "       [-5.29892701e-02,  3.09661332e-01,  4.08087544e-01,\n",
       "        -1.40362319e-01,  4.36153507e-02,  2.60000882e-02,\n",
       "         1.09616053e-01,  2.66204049e-02, -5.69415249e-02,\n",
       "        -9.23876267e-03, -1.01426433e-01,  2.81390906e-02,\n",
       "        -6.59054549e-01],\n",
       "       [ 5.78358428e-02, -2.90062263e-01,  4.55518795e-01,\n",
       "         4.49195184e-01, -1.86192309e-02, -7.15848381e-03,\n",
       "        -1.18849088e-02,  2.28447318e-02,  1.12703420e-02,\n",
       "         1.18889852e-02, -4.67557548e-03, -2.17326815e-02,\n",
       "         3.27474510e-02],\n",
       "       [-4.24250009e-03, -4.56239077e-01,  1.98540036e-01,\n",
       "        -4.94561516e-01, -2.35009431e-02,  3.34366371e-02,\n",
       "         2.65562349e-02, -3.38666523e-02,  6.76062850e-03,\n",
       "         3.24630785e-02,  5.44078872e-02, -1.24952471e-02,\n",
       "         3.70776436e-03],\n",
       "       [ 4.35322063e-01,  2.36350829e-02,  2.04073942e-02,\n",
       "        -7.71328432e-02, -3.59244632e-02,  5.78637397e-02,\n",
       "        -5.73469422e-02,  7.49066844e-02, -3.00371964e-02,\n",
       "        -1.17026069e-01, -2.89236871e-01,  3.59470883e-01,\n",
       "        -1.33654971e-01],\n",
       "       [ 3.93160199e-01,  2.23028510e-02,  4.00093431e-02,\n",
       "        -5.14255931e-02, -9.10620602e-02,  9.19928486e-03,\n",
       "         6.84741297e-02, -3.30640574e-02,  9.29858770e-04,\n",
       "        -1.44699564e-01, -3.64903169e-01,  4.99396506e-01,\n",
       "         2.53890212e-01],\n",
       "       [ 2.56562136e-02,  5.49122203e-02, -7.88588151e-03,\n",
       "         1.01061929e-02, -5.84988087e-01,  7.85184743e-02,\n",
       "         2.65151773e-01, -4.38515369e-01,  6.17265476e-02,\n",
       "         3.41892029e-01, -3.97866923e-01, -3.14383190e-01,\n",
       "         3.70126285e-02],\n",
       "       [-1.38979200e-02,  3.76693684e-02,  1.55328041e-02,\n",
       "         2.23049573e-02,  4.71764690e-02, -2.13652006e-01,\n",
       "         8.60487798e-01,  1.71203947e-01, -8.57669782e-02,\n",
       "         1.76357761e-01,  2.57143219e-01,  2.34762952e-01,\n",
       "         8.95888685e-02],\n",
       "       [ 4.24250009e-03,  4.56239077e-01, -1.98540036e-01,\n",
       "         4.94561516e-01,  2.35009431e-02, -3.34366371e-02,\n",
       "        -2.65562349e-02,  3.38666523e-02, -6.76062850e-03,\n",
       "        -3.24630785e-02, -5.44078872e-02,  1.24952471e-02,\n",
       "        -3.70776436e-03],\n",
       "       [ 6.16052177e-02, -2.89749229e-01,  4.55750316e-01,\n",
       "         4.48547673e-01, -1.94905106e-02, -7.06740817e-03,\n",
       "        -1.12209955e-02,  2.25183633e-02,  1.12754916e-02,\n",
       "         1.04904763e-02, -8.19061239e-03, -1.69125841e-02,\n",
       "         3.51831482e-02],\n",
       "       [ 1.59567214e-03, -5.10396718e-02, -4.38840906e-02,\n",
       "         1.72425474e-02,  1.88050180e-01,  6.17083692e-01,\n",
       "         3.20924151e-01,  2.19189836e-01, -2.77833484e-01,\n",
       "        -3.76224499e-01, -2.63505435e-01, -3.62881515e-01,\n",
       "         8.58438179e-02],\n",
       "       [-2.94993610e-04, -1.06725877e-02, -5.44467143e-02,\n",
       "         4.97468969e-03, -4.24122377e-01,  2.54369438e-01,\n",
       "        -2.03536034e-01,  6.23973516e-01, -2.99148010e-01,\n",
       "         4.52728066e-01,  9.17647287e-02,  1.08202908e-01,\n",
       "        -1.88410413e-02],\n",
       "       [-2.23206982e-02, -7.37677937e-02, -2.27716305e-02,\n",
       "        -2.81297647e-02,  4.22165633e-01, -4.29770068e-01,\n",
       "        -7.77874632e-02,  3.91701110e-02, -5.07888493e-01,\n",
       "         3.42813521e-01, -4.66994345e-01, -1.58260991e-01,\n",
       "         5.99174560e-02],\n",
       "       [ 7.06827927e-02, -6.92757200e-03, -3.30404455e-02,\n",
       "         8.66155005e-02,  2.27467876e-01,  4.51449663e-01,\n",
       "        -5.21463552e-02, -5.53165414e-01, -4.00886883e-01,\n",
       "         2.97340414e-01,  2.97190788e-01,  2.85411562e-01,\n",
       "        -5.52626638e-02],\n",
       "       [ 5.19322204e-02, -1.26168175e-02, -3.56166555e-02,\n",
       "         8.29496258e-03,  4.37245786e-01,  3.02316652e-01,\n",
       "         4.19066895e-02,  1.45968595e-01,  6.30667710e-01,\n",
       "         5.02274084e-01, -1.98335906e-01,  1.40063637e-02,\n",
       "         3.91536779e-03],\n",
       "       [-1.08881995e-01,  4.12891596e-01,  4.56399478e-01,\n",
       "        -1.89167698e-01,  1.94062116e-02,  5.62797263e-02,\n",
       "        -4.58713905e-02,  1.74030067e-02, -2.30025675e-02,\n",
       "         3.91308431e-02, -3.46370658e-02,  1.73588428e-03,\n",
       "        -5.79391342e-03],\n",
       "       [ 5.54012450e-01,  9.73138670e-02,  3.12231838e-02,\n",
       "        -5.16689196e-02,  4.34787444e-02, -6.94880659e-02,\n",
       "        -5.41678517e-03,  2.33053573e-02, -1.29699331e-02,\n",
       "         6.20933046e-02,  2.36823907e-01, -3.27973494e-01,\n",
       "        -4.10757533e-03],\n",
       "       [ 5.54012450e-01,  9.73138670e-02,  3.12231838e-02,\n",
       "        -5.16689196e-02,  4.34787444e-02, -6.94880659e-02,\n",
       "        -5.41678517e-03,  2.33053573e-02, -1.29699331e-02,\n",
       "         6.20933046e-02,  2.36823907e-01, -3.27973494e-01,\n",
       "        -4.10757533e-03]])"
      ]
     },
     "execution_count": 41,
     "metadata": {},
     "output_type": "execute_result"
    }
   ],
   "source": [
    "loadings = pca.components_.T\n",
    "loadings"
   ]
  },
  {
   "cell_type": "code",
   "execution_count": 42,
   "metadata": {},
   "outputs": [
    {
     "data": {
      "text/html": [
       "<div>\n",
       "<style scoped>\n",
       "    .dataframe tbody tr th:only-of-type {\n",
       "        vertical-align: middle;\n",
       "    }\n",
       "\n",
       "    .dataframe tbody tr th {\n",
       "        vertical-align: top;\n",
       "    }\n",
       "\n",
       "    .dataframe thead th {\n",
       "        text-align: right;\n",
       "    }\n",
       "</style>\n",
       "<table border=\"1\" class=\"dataframe\">\n",
       "  <thead>\n",
       "    <tr style=\"text-align: right;\">\n",
       "      <th></th>\n",
       "      <th>1</th>\n",
       "      <th>2</th>\n",
       "      <th>3</th>\n",
       "      <th>4</th>\n",
       "      <th>5</th>\n",
       "      <th>6</th>\n",
       "      <th>7</th>\n",
       "      <th>8</th>\n",
       "      <th>9</th>\n",
       "      <th>10</th>\n",
       "      <th>11</th>\n",
       "      <th>12</th>\n",
       "      <th>13</th>\n",
       "    </tr>\n",
       "  </thead>\n",
       "  <tbody>\n",
       "    <tr>\n",
       "      <th>0</th>\n",
       "      <td>-0.105715</td>\n",
       "      <td>0.341223</td>\n",
       "      <td>0.345083</td>\n",
       "      <td>-0.170713</td>\n",
       "      <td>0.041202</td>\n",
       "      <td>0.059300</td>\n",
       "      <td>-0.102353</td>\n",
       "      <td>-0.006953</td>\n",
       "      <td>-0.019838</td>\n",
       "      <td>0.031123</td>\n",
       "      <td>0.074164</td>\n",
       "      <td>-0.018477</td>\n",
       "      <td>0.676120</td>\n",
       "    </tr>\n",
       "    <tr>\n",
       "      <th>1</th>\n",
       "      <td>-0.052989</td>\n",
       "      <td>0.309661</td>\n",
       "      <td>0.408088</td>\n",
       "      <td>-0.140362</td>\n",
       "      <td>0.043615</td>\n",
       "      <td>0.026000</td>\n",
       "      <td>0.109616</td>\n",
       "      <td>0.026620</td>\n",
       "      <td>-0.056942</td>\n",
       "      <td>-0.009239</td>\n",
       "      <td>-0.101426</td>\n",
       "      <td>0.028139</td>\n",
       "      <td>-0.659055</td>\n",
       "    </tr>\n",
       "    <tr>\n",
       "      <th>2</th>\n",
       "      <td>0.057836</td>\n",
       "      <td>-0.290062</td>\n",
       "      <td>0.455519</td>\n",
       "      <td>0.449195</td>\n",
       "      <td>-0.018619</td>\n",
       "      <td>-0.007158</td>\n",
       "      <td>-0.011885</td>\n",
       "      <td>0.022845</td>\n",
       "      <td>0.011270</td>\n",
       "      <td>0.011889</td>\n",
       "      <td>-0.004676</td>\n",
       "      <td>-0.021733</td>\n",
       "      <td>0.032747</td>\n",
       "    </tr>\n",
       "    <tr>\n",
       "      <th>3</th>\n",
       "      <td>-0.004243</td>\n",
       "      <td>-0.456239</td>\n",
       "      <td>0.198540</td>\n",
       "      <td>-0.494562</td>\n",
       "      <td>-0.023501</td>\n",
       "      <td>0.033437</td>\n",
       "      <td>0.026556</td>\n",
       "      <td>-0.033867</td>\n",
       "      <td>0.006761</td>\n",
       "      <td>0.032463</td>\n",
       "      <td>0.054408</td>\n",
       "      <td>-0.012495</td>\n",
       "      <td>0.003708</td>\n",
       "    </tr>\n",
       "    <tr>\n",
       "      <th>4</th>\n",
       "      <td>0.435322</td>\n",
       "      <td>0.023635</td>\n",
       "      <td>0.020407</td>\n",
       "      <td>-0.077133</td>\n",
       "      <td>-0.035924</td>\n",
       "      <td>0.057864</td>\n",
       "      <td>-0.057347</td>\n",
       "      <td>0.074907</td>\n",
       "      <td>-0.030037</td>\n",
       "      <td>-0.117026</td>\n",
       "      <td>-0.289237</td>\n",
       "      <td>0.359471</td>\n",
       "      <td>-0.133655</td>\n",
       "    </tr>\n",
       "    <tr>\n",
       "      <th>5</th>\n",
       "      <td>0.393160</td>\n",
       "      <td>0.022303</td>\n",
       "      <td>0.040009</td>\n",
       "      <td>-0.051426</td>\n",
       "      <td>-0.091062</td>\n",
       "      <td>0.009199</td>\n",
       "      <td>0.068474</td>\n",
       "      <td>-0.033064</td>\n",
       "      <td>0.000930</td>\n",
       "      <td>-0.144700</td>\n",
       "      <td>-0.364903</td>\n",
       "      <td>0.499397</td>\n",
       "      <td>0.253890</td>\n",
       "    </tr>\n",
       "    <tr>\n",
       "      <th>6</th>\n",
       "      <td>0.025656</td>\n",
       "      <td>0.054912</td>\n",
       "      <td>-0.007886</td>\n",
       "      <td>0.010106</td>\n",
       "      <td>-0.584988</td>\n",
       "      <td>0.078518</td>\n",
       "      <td>0.265152</td>\n",
       "      <td>-0.438515</td>\n",
       "      <td>0.061727</td>\n",
       "      <td>0.341892</td>\n",
       "      <td>-0.397867</td>\n",
       "      <td>-0.314383</td>\n",
       "      <td>0.037013</td>\n",
       "    </tr>\n",
       "    <tr>\n",
       "      <th>7</th>\n",
       "      <td>-0.013898</td>\n",
       "      <td>0.037669</td>\n",
       "      <td>0.015533</td>\n",
       "      <td>0.022305</td>\n",
       "      <td>0.047176</td>\n",
       "      <td>-0.213652</td>\n",
       "      <td>0.860488</td>\n",
       "      <td>0.171204</td>\n",
       "      <td>-0.085767</td>\n",
       "      <td>0.176358</td>\n",
       "      <td>0.257143</td>\n",
       "      <td>0.234763</td>\n",
       "      <td>0.089589</td>\n",
       "    </tr>\n",
       "    <tr>\n",
       "      <th>8</th>\n",
       "      <td>0.004243</td>\n",
       "      <td>0.456239</td>\n",
       "      <td>-0.198540</td>\n",
       "      <td>0.494562</td>\n",
       "      <td>0.023501</td>\n",
       "      <td>-0.033437</td>\n",
       "      <td>-0.026556</td>\n",
       "      <td>0.033867</td>\n",
       "      <td>-0.006761</td>\n",
       "      <td>-0.032463</td>\n",
       "      <td>-0.054408</td>\n",
       "      <td>0.012495</td>\n",
       "      <td>-0.003708</td>\n",
       "    </tr>\n",
       "    <tr>\n",
       "      <th>9</th>\n",
       "      <td>0.061605</td>\n",
       "      <td>-0.289749</td>\n",
       "      <td>0.455750</td>\n",
       "      <td>0.448548</td>\n",
       "      <td>-0.019491</td>\n",
       "      <td>-0.007067</td>\n",
       "      <td>-0.011221</td>\n",
       "      <td>0.022518</td>\n",
       "      <td>0.011275</td>\n",
       "      <td>0.010490</td>\n",
       "      <td>-0.008191</td>\n",
       "      <td>-0.016913</td>\n",
       "      <td>0.035183</td>\n",
       "    </tr>\n",
       "    <tr>\n",
       "      <th>10</th>\n",
       "      <td>0.001596</td>\n",
       "      <td>-0.051040</td>\n",
       "      <td>-0.043884</td>\n",
       "      <td>0.017243</td>\n",
       "      <td>0.188050</td>\n",
       "      <td>0.617084</td>\n",
       "      <td>0.320924</td>\n",
       "      <td>0.219190</td>\n",
       "      <td>-0.277833</td>\n",
       "      <td>-0.376224</td>\n",
       "      <td>-0.263505</td>\n",
       "      <td>-0.362882</td>\n",
       "      <td>0.085844</td>\n",
       "    </tr>\n",
       "    <tr>\n",
       "      <th>11</th>\n",
       "      <td>-0.000295</td>\n",
       "      <td>-0.010673</td>\n",
       "      <td>-0.054447</td>\n",
       "      <td>0.004975</td>\n",
       "      <td>-0.424122</td>\n",
       "      <td>0.254369</td>\n",
       "      <td>-0.203536</td>\n",
       "      <td>0.623974</td>\n",
       "      <td>-0.299148</td>\n",
       "      <td>0.452728</td>\n",
       "      <td>0.091765</td>\n",
       "      <td>0.108203</td>\n",
       "      <td>-0.018841</td>\n",
       "    </tr>\n",
       "    <tr>\n",
       "      <th>12</th>\n",
       "      <td>-0.022321</td>\n",
       "      <td>-0.073768</td>\n",
       "      <td>-0.022772</td>\n",
       "      <td>-0.028130</td>\n",
       "      <td>0.422166</td>\n",
       "      <td>-0.429770</td>\n",
       "      <td>-0.077787</td>\n",
       "      <td>0.039170</td>\n",
       "      <td>-0.507888</td>\n",
       "      <td>0.342814</td>\n",
       "      <td>-0.466994</td>\n",
       "      <td>-0.158261</td>\n",
       "      <td>0.059917</td>\n",
       "    </tr>\n",
       "    <tr>\n",
       "      <th>13</th>\n",
       "      <td>0.070683</td>\n",
       "      <td>-0.006928</td>\n",
       "      <td>-0.033040</td>\n",
       "      <td>0.086616</td>\n",
       "      <td>0.227468</td>\n",
       "      <td>0.451450</td>\n",
       "      <td>-0.052146</td>\n",
       "      <td>-0.553165</td>\n",
       "      <td>-0.400887</td>\n",
       "      <td>0.297340</td>\n",
       "      <td>0.297191</td>\n",
       "      <td>0.285412</td>\n",
       "      <td>-0.055263</td>\n",
       "    </tr>\n",
       "    <tr>\n",
       "      <th>14</th>\n",
       "      <td>0.051932</td>\n",
       "      <td>-0.012617</td>\n",
       "      <td>-0.035617</td>\n",
       "      <td>0.008295</td>\n",
       "      <td>0.437246</td>\n",
       "      <td>0.302317</td>\n",
       "      <td>0.041907</td>\n",
       "      <td>0.145969</td>\n",
       "      <td>0.630668</td>\n",
       "      <td>0.502274</td>\n",
       "      <td>-0.198336</td>\n",
       "      <td>0.014006</td>\n",
       "      <td>0.003915</td>\n",
       "    </tr>\n",
       "    <tr>\n",
       "      <th>15</th>\n",
       "      <td>-0.108882</td>\n",
       "      <td>0.412892</td>\n",
       "      <td>0.456399</td>\n",
       "      <td>-0.189168</td>\n",
       "      <td>0.019406</td>\n",
       "      <td>0.056280</td>\n",
       "      <td>-0.045871</td>\n",
       "      <td>0.017403</td>\n",
       "      <td>-0.023003</td>\n",
       "      <td>0.039131</td>\n",
       "      <td>-0.034637</td>\n",
       "      <td>0.001736</td>\n",
       "      <td>-0.005794</td>\n",
       "    </tr>\n",
       "    <tr>\n",
       "      <th>16</th>\n",
       "      <td>0.554012</td>\n",
       "      <td>0.097314</td>\n",
       "      <td>0.031223</td>\n",
       "      <td>-0.051669</td>\n",
       "      <td>0.043479</td>\n",
       "      <td>-0.069488</td>\n",
       "      <td>-0.005417</td>\n",
       "      <td>0.023305</td>\n",
       "      <td>-0.012970</td>\n",
       "      <td>0.062093</td>\n",
       "      <td>0.236824</td>\n",
       "      <td>-0.327973</td>\n",
       "      <td>-0.004108</td>\n",
       "    </tr>\n",
       "    <tr>\n",
       "      <th>17</th>\n",
       "      <td>0.554012</td>\n",
       "      <td>0.097314</td>\n",
       "      <td>0.031223</td>\n",
       "      <td>-0.051669</td>\n",
       "      <td>0.043479</td>\n",
       "      <td>-0.069488</td>\n",
       "      <td>-0.005417</td>\n",
       "      <td>0.023305</td>\n",
       "      <td>-0.012970</td>\n",
       "      <td>0.062093</td>\n",
       "      <td>0.236824</td>\n",
       "      <td>-0.327973</td>\n",
       "      <td>-0.004108</td>\n",
       "    </tr>\n",
       "  </tbody>\n",
       "</table>\n",
       "</div>"
      ],
      "text/plain": [
       "          1         2         3         4         5         6         7   \\\n",
       "0  -0.105715  0.341223  0.345083 -0.170713  0.041202  0.059300 -0.102353   \n",
       "1  -0.052989  0.309661  0.408088 -0.140362  0.043615  0.026000  0.109616   \n",
       "2   0.057836 -0.290062  0.455519  0.449195 -0.018619 -0.007158 -0.011885   \n",
       "3  -0.004243 -0.456239  0.198540 -0.494562 -0.023501  0.033437  0.026556   \n",
       "4   0.435322  0.023635  0.020407 -0.077133 -0.035924  0.057864 -0.057347   \n",
       "5   0.393160  0.022303  0.040009 -0.051426 -0.091062  0.009199  0.068474   \n",
       "6   0.025656  0.054912 -0.007886  0.010106 -0.584988  0.078518  0.265152   \n",
       "7  -0.013898  0.037669  0.015533  0.022305  0.047176 -0.213652  0.860488   \n",
       "8   0.004243  0.456239 -0.198540  0.494562  0.023501 -0.033437 -0.026556   \n",
       "9   0.061605 -0.289749  0.455750  0.448548 -0.019491 -0.007067 -0.011221   \n",
       "10  0.001596 -0.051040 -0.043884  0.017243  0.188050  0.617084  0.320924   \n",
       "11 -0.000295 -0.010673 -0.054447  0.004975 -0.424122  0.254369 -0.203536   \n",
       "12 -0.022321 -0.073768 -0.022772 -0.028130  0.422166 -0.429770 -0.077787   \n",
       "13  0.070683 -0.006928 -0.033040  0.086616  0.227468  0.451450 -0.052146   \n",
       "14  0.051932 -0.012617 -0.035617  0.008295  0.437246  0.302317  0.041907   \n",
       "15 -0.108882  0.412892  0.456399 -0.189168  0.019406  0.056280 -0.045871   \n",
       "16  0.554012  0.097314  0.031223 -0.051669  0.043479 -0.069488 -0.005417   \n",
       "17  0.554012  0.097314  0.031223 -0.051669  0.043479 -0.069488 -0.005417   \n",
       "\n",
       "          8         9         10        11        12        13  \n",
       "0  -0.006953 -0.019838  0.031123  0.074164 -0.018477  0.676120  \n",
       "1   0.026620 -0.056942 -0.009239 -0.101426  0.028139 -0.659055  \n",
       "2   0.022845  0.011270  0.011889 -0.004676 -0.021733  0.032747  \n",
       "3  -0.033867  0.006761  0.032463  0.054408 -0.012495  0.003708  \n",
       "4   0.074907 -0.030037 -0.117026 -0.289237  0.359471 -0.133655  \n",
       "5  -0.033064  0.000930 -0.144700 -0.364903  0.499397  0.253890  \n",
       "6  -0.438515  0.061727  0.341892 -0.397867 -0.314383  0.037013  \n",
       "7   0.171204 -0.085767  0.176358  0.257143  0.234763  0.089589  \n",
       "8   0.033867 -0.006761 -0.032463 -0.054408  0.012495 -0.003708  \n",
       "9   0.022518  0.011275  0.010490 -0.008191 -0.016913  0.035183  \n",
       "10  0.219190 -0.277833 -0.376224 -0.263505 -0.362882  0.085844  \n",
       "11  0.623974 -0.299148  0.452728  0.091765  0.108203 -0.018841  \n",
       "12  0.039170 -0.507888  0.342814 -0.466994 -0.158261  0.059917  \n",
       "13 -0.553165 -0.400887  0.297340  0.297191  0.285412 -0.055263  \n",
       "14  0.145969  0.630668  0.502274 -0.198336  0.014006  0.003915  \n",
       "15  0.017403 -0.023003  0.039131 -0.034637  0.001736 -0.005794  \n",
       "16  0.023305 -0.012970  0.062093  0.236824 -0.327973 -0.004108  \n",
       "17  0.023305 -0.012970  0.062093  0.236824 -0.327973 -0.004108  "
      ]
     },
     "execution_count": 42,
     "metadata": {},
     "output_type": "execute_result"
    }
   ],
   "source": [
    "loadings_df = pd.DataFrame(loadings)\n",
    "loadings_df.columns = [col for col in range(1,14)]\n",
    "loadings_df"
   ]
  },
  {
   "cell_type": "code",
   "execution_count": 43,
   "metadata": {},
   "outputs": [
    {
     "data": {
      "text/html": [
       "<div>\n",
       "<style scoped>\n",
       "    .dataframe tbody tr th:only-of-type {\n",
       "        vertical-align: middle;\n",
       "    }\n",
       "\n",
       "    .dataframe tbody tr th {\n",
       "        vertical-align: top;\n",
       "    }\n",
       "\n",
       "    .dataframe thead th {\n",
       "        text-align: right;\n",
       "    }\n",
       "</style>\n",
       "<table border=\"1\" class=\"dataframe\">\n",
       "  <thead>\n",
       "    <tr style=\"text-align: right;\">\n",
       "      <th></th>\n",
       "      <th>Feature</th>\n",
       "      <th>1</th>\n",
       "      <th>2</th>\n",
       "      <th>3</th>\n",
       "      <th>4</th>\n",
       "      <th>5</th>\n",
       "      <th>6</th>\n",
       "      <th>7</th>\n",
       "      <th>8</th>\n",
       "      <th>9</th>\n",
       "      <th>10</th>\n",
       "      <th>11</th>\n",
       "      <th>12</th>\n",
       "      <th>13</th>\n",
       "    </tr>\n",
       "  </thead>\n",
       "  <tbody>\n",
       "    <tr>\n",
       "      <th>0</th>\n",
       "      <td>Bedrooms</td>\n",
       "      <td>-0.105715</td>\n",
       "      <td>0.341223</td>\n",
       "      <td>0.345083</td>\n",
       "      <td>-0.170713</td>\n",
       "      <td>0.041202</td>\n",
       "      <td>0.059300</td>\n",
       "      <td>-0.102353</td>\n",
       "      <td>-0.006953</td>\n",
       "      <td>-0.019838</td>\n",
       "      <td>0.031123</td>\n",
       "      <td>0.074164</td>\n",
       "      <td>-0.018477</td>\n",
       "      <td>0.676120</td>\n",
       "    </tr>\n",
       "    <tr>\n",
       "      <th>1</th>\n",
       "      <td>Bathrooms</td>\n",
       "      <td>-0.052989</td>\n",
       "      <td>0.309661</td>\n",
       "      <td>0.408088</td>\n",
       "      <td>-0.140362</td>\n",
       "      <td>0.043615</td>\n",
       "      <td>0.026000</td>\n",
       "      <td>0.109616</td>\n",
       "      <td>0.026620</td>\n",
       "      <td>-0.056942</td>\n",
       "      <td>-0.009239</td>\n",
       "      <td>-0.101426</td>\n",
       "      <td>0.028139</td>\n",
       "      <td>-0.659055</td>\n",
       "    </tr>\n",
       "    <tr>\n",
       "      <th>2</th>\n",
       "      <td>SquareFootageHouse</td>\n",
       "      <td>0.057836</td>\n",
       "      <td>-0.290062</td>\n",
       "      <td>0.455519</td>\n",
       "      <td>0.449195</td>\n",
       "      <td>-0.018619</td>\n",
       "      <td>-0.007158</td>\n",
       "      <td>-0.011885</td>\n",
       "      <td>0.022845</td>\n",
       "      <td>0.011270</td>\n",
       "      <td>0.011889</td>\n",
       "      <td>-0.004676</td>\n",
       "      <td>-0.021733</td>\n",
       "      <td>0.032747</td>\n",
       "    </tr>\n",
       "    <tr>\n",
       "      <th>3</th>\n",
       "      <td>Age</td>\n",
       "      <td>-0.004243</td>\n",
       "      <td>-0.456239</td>\n",
       "      <td>0.198540</td>\n",
       "      <td>-0.494562</td>\n",
       "      <td>-0.023501</td>\n",
       "      <td>0.033437</td>\n",
       "      <td>0.026556</td>\n",
       "      <td>-0.033867</td>\n",
       "      <td>0.006761</td>\n",
       "      <td>0.032463</td>\n",
       "      <td>0.054408</td>\n",
       "      <td>-0.012495</td>\n",
       "      <td>0.003708</td>\n",
       "    </tr>\n",
       "    <tr>\n",
       "      <th>4</th>\n",
       "      <td>PoolQuality</td>\n",
       "      <td>0.435322</td>\n",
       "      <td>0.023635</td>\n",
       "      <td>0.020407</td>\n",
       "      <td>-0.077133</td>\n",
       "      <td>-0.035924</td>\n",
       "      <td>0.057864</td>\n",
       "      <td>-0.057347</td>\n",
       "      <td>0.074907</td>\n",
       "      <td>-0.030037</td>\n",
       "      <td>-0.117026</td>\n",
       "      <td>-0.289237</td>\n",
       "      <td>0.359471</td>\n",
       "      <td>-0.133655</td>\n",
       "    </tr>\n",
       "    <tr>\n",
       "      <th>5</th>\n",
       "      <td>SquareFootageGarden</td>\n",
       "      <td>0.393160</td>\n",
       "      <td>0.022303</td>\n",
       "      <td>0.040009</td>\n",
       "      <td>-0.051426</td>\n",
       "      <td>-0.091062</td>\n",
       "      <td>0.009199</td>\n",
       "      <td>0.068474</td>\n",
       "      <td>-0.033064</td>\n",
       "      <td>0.000930</td>\n",
       "      <td>-0.144700</td>\n",
       "      <td>-0.364903</td>\n",
       "      <td>0.499397</td>\n",
       "      <td>0.253890</td>\n",
       "    </tr>\n",
       "    <tr>\n",
       "      <th>6</th>\n",
       "      <td>PreviousOwnerRating</td>\n",
       "      <td>0.025656</td>\n",
       "      <td>0.054912</td>\n",
       "      <td>-0.007886</td>\n",
       "      <td>0.010106</td>\n",
       "      <td>-0.584988</td>\n",
       "      <td>0.078518</td>\n",
       "      <td>0.265152</td>\n",
       "      <td>-0.438515</td>\n",
       "      <td>0.061727</td>\n",
       "      <td>0.341892</td>\n",
       "      <td>-0.397867</td>\n",
       "      <td>-0.314383</td>\n",
       "      <td>0.037013</td>\n",
       "    </tr>\n",
       "    <tr>\n",
       "      <th>7</th>\n",
       "      <td>HeatingCosts</td>\n",
       "      <td>-0.013898</td>\n",
       "      <td>0.037669</td>\n",
       "      <td>0.015533</td>\n",
       "      <td>0.022305</td>\n",
       "      <td>0.047176</td>\n",
       "      <td>-0.213652</td>\n",
       "      <td>0.860488</td>\n",
       "      <td>0.171204</td>\n",
       "      <td>-0.085767</td>\n",
       "      <td>0.176358</td>\n",
       "      <td>0.257143</td>\n",
       "      <td>0.234763</td>\n",
       "      <td>0.089589</td>\n",
       "    </tr>\n",
       "    <tr>\n",
       "      <th>8</th>\n",
       "      <td>NewAge</td>\n",
       "      <td>0.004243</td>\n",
       "      <td>0.456239</td>\n",
       "      <td>-0.198540</td>\n",
       "      <td>0.494562</td>\n",
       "      <td>0.023501</td>\n",
       "      <td>-0.033437</td>\n",
       "      <td>-0.026556</td>\n",
       "      <td>0.033867</td>\n",
       "      <td>-0.006761</td>\n",
       "      <td>-0.032463</td>\n",
       "      <td>-0.054408</td>\n",
       "      <td>0.012495</td>\n",
       "      <td>-0.003708</td>\n",
       "    </tr>\n",
       "    <tr>\n",
       "      <th>9</th>\n",
       "      <td>general_square_footage</td>\n",
       "      <td>0.061605</td>\n",
       "      <td>-0.289749</td>\n",
       "      <td>0.455750</td>\n",
       "      <td>0.448548</td>\n",
       "      <td>-0.019491</td>\n",
       "      <td>-0.007067</td>\n",
       "      <td>-0.011221</td>\n",
       "      <td>0.022518</td>\n",
       "      <td>0.011275</td>\n",
       "      <td>0.010490</td>\n",
       "      <td>-0.008191</td>\n",
       "      <td>-0.016913</td>\n",
       "      <td>0.035183</td>\n",
       "    </tr>\n",
       "    <tr>\n",
       "      <th>10</th>\n",
       "      <td>Location_numeric</td>\n",
       "      <td>0.001596</td>\n",
       "      <td>-0.051040</td>\n",
       "      <td>-0.043884</td>\n",
       "      <td>0.017243</td>\n",
       "      <td>0.188050</td>\n",
       "      <td>0.617084</td>\n",
       "      <td>0.320924</td>\n",
       "      <td>0.219190</td>\n",
       "      <td>-0.277833</td>\n",
       "      <td>-0.376224</td>\n",
       "      <td>-0.263505</td>\n",
       "      <td>-0.362882</td>\n",
       "      <td>0.085844</td>\n",
       "    </tr>\n",
       "    <tr>\n",
       "      <th>11</th>\n",
       "      <td>HasPhotovoltaics_numeric</td>\n",
       "      <td>-0.000295</td>\n",
       "      <td>-0.010673</td>\n",
       "      <td>-0.054447</td>\n",
       "      <td>0.004975</td>\n",
       "      <td>-0.424122</td>\n",
       "      <td>0.254369</td>\n",
       "      <td>-0.203536</td>\n",
       "      <td>0.623974</td>\n",
       "      <td>-0.299148</td>\n",
       "      <td>0.452728</td>\n",
       "      <td>0.091765</td>\n",
       "      <td>0.108203</td>\n",
       "      <td>-0.018841</td>\n",
       "    </tr>\n",
       "    <tr>\n",
       "      <th>12</th>\n",
       "      <td>HasFiberglass_numeric</td>\n",
       "      <td>-0.022321</td>\n",
       "      <td>-0.073768</td>\n",
       "      <td>-0.022772</td>\n",
       "      <td>-0.028130</td>\n",
       "      <td>0.422166</td>\n",
       "      <td>-0.429770</td>\n",
       "      <td>-0.077787</td>\n",
       "      <td>0.039170</td>\n",
       "      <td>-0.507888</td>\n",
       "      <td>0.342814</td>\n",
       "      <td>-0.466994</td>\n",
       "      <td>-0.158261</td>\n",
       "      <td>0.059917</td>\n",
       "    </tr>\n",
       "    <tr>\n",
       "      <th>13</th>\n",
       "      <td>IsFurnished_numeric</td>\n",
       "      <td>0.070683</td>\n",
       "      <td>-0.006928</td>\n",
       "      <td>-0.033040</td>\n",
       "      <td>0.086616</td>\n",
       "      <td>0.227468</td>\n",
       "      <td>0.451450</td>\n",
       "      <td>-0.052146</td>\n",
       "      <td>-0.553165</td>\n",
       "      <td>-0.400887</td>\n",
       "      <td>0.297340</td>\n",
       "      <td>0.297191</td>\n",
       "      <td>0.285412</td>\n",
       "      <td>-0.055263</td>\n",
       "    </tr>\n",
       "    <tr>\n",
       "      <th>14</th>\n",
       "      <td>HasFireplace_numeric</td>\n",
       "      <td>0.051932</td>\n",
       "      <td>-0.012617</td>\n",
       "      <td>-0.035617</td>\n",
       "      <td>0.008295</td>\n",
       "      <td>0.437246</td>\n",
       "      <td>0.302317</td>\n",
       "      <td>0.041907</td>\n",
       "      <td>0.145969</td>\n",
       "      <td>0.630668</td>\n",
       "      <td>0.502274</td>\n",
       "      <td>-0.198336</td>\n",
       "      <td>0.014006</td>\n",
       "      <td>0.003915</td>\n",
       "    </tr>\n",
       "    <tr>\n",
       "      <th>15</th>\n",
       "      <td>Rooms</td>\n",
       "      <td>-0.108882</td>\n",
       "      <td>0.412892</td>\n",
       "      <td>0.456399</td>\n",
       "      <td>-0.189168</td>\n",
       "      <td>0.019406</td>\n",
       "      <td>0.056280</td>\n",
       "      <td>-0.045871</td>\n",
       "      <td>0.017403</td>\n",
       "      <td>-0.023003</td>\n",
       "      <td>0.039131</td>\n",
       "      <td>-0.034637</td>\n",
       "      <td>0.001736</td>\n",
       "      <td>-0.005794</td>\n",
       "    </tr>\n",
       "    <tr>\n",
       "      <th>16</th>\n",
       "      <td>overall_quality</td>\n",
       "      <td>0.554012</td>\n",
       "      <td>0.097314</td>\n",
       "      <td>0.031223</td>\n",
       "      <td>-0.051669</td>\n",
       "      <td>0.043479</td>\n",
       "      <td>-0.069488</td>\n",
       "      <td>-0.005417</td>\n",
       "      <td>0.023305</td>\n",
       "      <td>-0.012970</td>\n",
       "      <td>0.062093</td>\n",
       "      <td>0.236824</td>\n",
       "      <td>-0.327973</td>\n",
       "      <td>-0.004108</td>\n",
       "    </tr>\n",
       "    <tr>\n",
       "      <th>17</th>\n",
       "      <td>average_overall_quality</td>\n",
       "      <td>0.554012</td>\n",
       "      <td>0.097314</td>\n",
       "      <td>0.031223</td>\n",
       "      <td>-0.051669</td>\n",
       "      <td>0.043479</td>\n",
       "      <td>-0.069488</td>\n",
       "      <td>-0.005417</td>\n",
       "      <td>0.023305</td>\n",
       "      <td>-0.012970</td>\n",
       "      <td>0.062093</td>\n",
       "      <td>0.236824</td>\n",
       "      <td>-0.327973</td>\n",
       "      <td>-0.004108</td>\n",
       "    </tr>\n",
       "  </tbody>\n",
       "</table>\n",
       "</div>"
      ],
      "text/plain": [
       "                     Feature         1         2         3         4  \\\n",
       "0                   Bedrooms -0.105715  0.341223  0.345083 -0.170713   \n",
       "1                  Bathrooms -0.052989  0.309661  0.408088 -0.140362   \n",
       "2         SquareFootageHouse  0.057836 -0.290062  0.455519  0.449195   \n",
       "3                        Age -0.004243 -0.456239  0.198540 -0.494562   \n",
       "4                PoolQuality  0.435322  0.023635  0.020407 -0.077133   \n",
       "5        SquareFootageGarden  0.393160  0.022303  0.040009 -0.051426   \n",
       "6        PreviousOwnerRating  0.025656  0.054912 -0.007886  0.010106   \n",
       "7               HeatingCosts -0.013898  0.037669  0.015533  0.022305   \n",
       "8                     NewAge  0.004243  0.456239 -0.198540  0.494562   \n",
       "9     general_square_footage  0.061605 -0.289749  0.455750  0.448548   \n",
       "10          Location_numeric  0.001596 -0.051040 -0.043884  0.017243   \n",
       "11  HasPhotovoltaics_numeric -0.000295 -0.010673 -0.054447  0.004975   \n",
       "12     HasFiberglass_numeric -0.022321 -0.073768 -0.022772 -0.028130   \n",
       "13       IsFurnished_numeric  0.070683 -0.006928 -0.033040  0.086616   \n",
       "14      HasFireplace_numeric  0.051932 -0.012617 -0.035617  0.008295   \n",
       "15                     Rooms -0.108882  0.412892  0.456399 -0.189168   \n",
       "16           overall_quality  0.554012  0.097314  0.031223 -0.051669   \n",
       "17   average_overall_quality  0.554012  0.097314  0.031223 -0.051669   \n",
       "\n",
       "           5         6         7         8         9        10        11  \\\n",
       "0   0.041202  0.059300 -0.102353 -0.006953 -0.019838  0.031123  0.074164   \n",
       "1   0.043615  0.026000  0.109616  0.026620 -0.056942 -0.009239 -0.101426   \n",
       "2  -0.018619 -0.007158 -0.011885  0.022845  0.011270  0.011889 -0.004676   \n",
       "3  -0.023501  0.033437  0.026556 -0.033867  0.006761  0.032463  0.054408   \n",
       "4  -0.035924  0.057864 -0.057347  0.074907 -0.030037 -0.117026 -0.289237   \n",
       "5  -0.091062  0.009199  0.068474 -0.033064  0.000930 -0.144700 -0.364903   \n",
       "6  -0.584988  0.078518  0.265152 -0.438515  0.061727  0.341892 -0.397867   \n",
       "7   0.047176 -0.213652  0.860488  0.171204 -0.085767  0.176358  0.257143   \n",
       "8   0.023501 -0.033437 -0.026556  0.033867 -0.006761 -0.032463 -0.054408   \n",
       "9  -0.019491 -0.007067 -0.011221  0.022518  0.011275  0.010490 -0.008191   \n",
       "10  0.188050  0.617084  0.320924  0.219190 -0.277833 -0.376224 -0.263505   \n",
       "11 -0.424122  0.254369 -0.203536  0.623974 -0.299148  0.452728  0.091765   \n",
       "12  0.422166 -0.429770 -0.077787  0.039170 -0.507888  0.342814 -0.466994   \n",
       "13  0.227468  0.451450 -0.052146 -0.553165 -0.400887  0.297340  0.297191   \n",
       "14  0.437246  0.302317  0.041907  0.145969  0.630668  0.502274 -0.198336   \n",
       "15  0.019406  0.056280 -0.045871  0.017403 -0.023003  0.039131 -0.034637   \n",
       "16  0.043479 -0.069488 -0.005417  0.023305 -0.012970  0.062093  0.236824   \n",
       "17  0.043479 -0.069488 -0.005417  0.023305 -0.012970  0.062093  0.236824   \n",
       "\n",
       "          12        13  \n",
       "0  -0.018477  0.676120  \n",
       "1   0.028139 -0.659055  \n",
       "2  -0.021733  0.032747  \n",
       "3  -0.012495  0.003708  \n",
       "4   0.359471 -0.133655  \n",
       "5   0.499397  0.253890  \n",
       "6  -0.314383  0.037013  \n",
       "7   0.234763  0.089589  \n",
       "8   0.012495 -0.003708  \n",
       "9  -0.016913  0.035183  \n",
       "10 -0.362882  0.085844  \n",
       "11  0.108203 -0.018841  \n",
       "12 -0.158261  0.059917  \n",
       "13  0.285412 -0.055263  \n",
       "14  0.014006  0.003915  \n",
       "15  0.001736 -0.005794  \n",
       "16 -0.327973 -0.004108  \n",
       "17 -0.327973 -0.004108  "
      ]
     },
     "execution_count": 43,
     "metadata": {},
     "output_type": "execute_result"
    }
   ],
   "source": [
    "loadings_df.insert(loc=0, column='Feature', value=features_rfr)\n",
    "loadings_df"
   ]
  },
  {
   "cell_type": "code",
   "execution_count": 44,
   "metadata": {},
   "outputs": [],
   "source": [
    "from sklearn.model_selection import GridSearchCV"
   ]
  },
  {
   "cell_type": "code",
   "execution_count": 45,
   "metadata": {},
   "outputs": [
    {
     "data": {
      "text/plain": [
       "array([[-0.48203259, -0.52172168, -0.16900088, ..., -1.12772887,\n",
       "        -0.15618466, -0.15618466],\n",
       "       [-0.48203259, -0.52172168, -0.11771486, ..., -1.12772887,\n",
       "        -0.15618466, -0.15618466],\n",
       "       [-0.48203259, -0.52172168, -0.0761976 , ..., -0.1258626 ,\n",
       "        -0.15618466, -0.15618466],\n",
       "       ...,\n",
       "       [ 0.76698414,  1.98002806, -0.06887103, ...,  1.87786995,\n",
       "        -0.15618466, -0.15618466],\n",
       "       [-0.48203259,  3.23090293, -0.0481124 , ...,  1.87786995,\n",
       "        -0.15618466, -0.15618466],\n",
       "       [-0.48203259, -0.52172168, -0.11649377, ..., -0.1258626 ,\n",
       "         1.92977151,  1.92977151]])"
      ]
     },
     "execution_count": 45,
     "metadata": {},
     "output_type": "execute_result"
    }
   ],
   "source": [
    "scaled_data"
   ]
  },
  {
   "cell_type": "code",
   "execution_count": 46,
   "metadata": {},
   "outputs": [
    {
     "data": {
      "text/plain": [
       "0       96.41513\n",
       "1       78.56870\n",
       "2      184.70391\n",
       "3      246.09376\n",
       "4      241.27139\n",
       "         ...    \n",
       "995    359.48594\n",
       "996    128.11242\n",
       "997    290.95095\n",
       "998    226.64546\n",
       "999    227.99903\n",
       "Name: Price, Length: 995, dtype: float64"
      ]
     },
     "execution_count": 46,
     "metadata": {},
     "output_type": "execute_result"
    }
   ],
   "source": [
    "y_rfr"
   ]
  },
  {
   "cell_type": "code",
   "execution_count": 47,
   "metadata": {},
   "outputs": [],
   "source": [
    "x_train_rfc, x_test_rfc, y_train_rfc, y_test_rfc = train_test_split(scaled_data, y_rfr, test_size=0.2, random_state=42)"
   ]
  },
  {
   "cell_type": "code",
   "execution_count": 48,
   "metadata": {},
   "outputs": [
    {
     "data": {
      "text/plain": [
       "array([[-0.48203259,  0.72915319, -0.14457897, ..., -0.1258626 ,\n",
       "        -0.15618466, -0.15618466],\n",
       "       [-0.48203259, -0.52172168, -0.11893596, ..., -0.1258626 ,\n",
       "        -0.15618466, -0.15618466],\n",
       "       [-0.48203259,  0.72915319, -0.08108199, ..., -0.1258626 ,\n",
       "        -0.15618466, -0.15618466],\n",
       "       ...,\n",
       "       [ 2.01600088, -0.52172168, -0.10428281, ...,  0.87600368,\n",
       "        -0.15618466, -0.15618466],\n",
       "       [ 0.76698414,  0.72915319, -0.14457897, ...,  0.87600368,\n",
       "        -0.15618466, -0.15618466],\n",
       "       [-0.48203259,  0.72915319, -0.06764993, ..., -0.1258626 ,\n",
       "        -0.15618466, -0.15618466]])"
      ]
     },
     "execution_count": 48,
     "metadata": {},
     "output_type": "execute_result"
    }
   ],
   "source": [
    "x_train_rfc"
   ]
  },
  {
   "cell_type": "code",
   "execution_count": 49,
   "metadata": {},
   "outputs": [
    {
     "data": {
      "text/plain": [
       "914    209.01239\n",
       "930    111.83389\n",
       "979    385.56389\n",
       "770    135.92850\n",
       "916     81.76093\n",
       "         ...    \n",
       "107     71.01309\n",
       "272    177.42720\n",
       "865    203.16892\n",
       "437    184.94654\n",
       "103    198.68932\n",
       "Name: Price, Length: 796, dtype: float64"
      ]
     },
     "execution_count": 49,
     "metadata": {},
     "output_type": "execute_result"
    }
   ],
   "source": [
    "y_train_rfc"
   ]
  },
  {
   "cell_type": "code",
   "execution_count": 50,
   "metadata": {},
   "outputs": [
    {
     "data": {
      "text/html": [
       "<style>#sk-container-id-2 {color: black;}#sk-container-id-2 pre{padding: 0;}#sk-container-id-2 div.sk-toggleable {background-color: white;}#sk-container-id-2 label.sk-toggleable__label {cursor: pointer;display: block;width: 100%;margin-bottom: 0;padding: 0.3em;box-sizing: border-box;text-align: center;}#sk-container-id-2 label.sk-toggleable__label-arrow:before {content: \"▸\";float: left;margin-right: 0.25em;color: #696969;}#sk-container-id-2 label.sk-toggleable__label-arrow:hover:before {color: black;}#sk-container-id-2 div.sk-estimator:hover label.sk-toggleable__label-arrow:before {color: black;}#sk-container-id-2 div.sk-toggleable__content {max-height: 0;max-width: 0;overflow: hidden;text-align: left;background-color: #f0f8ff;}#sk-container-id-2 div.sk-toggleable__content pre {margin: 0.2em;color: black;border-radius: 0.25em;background-color: #f0f8ff;}#sk-container-id-2 input.sk-toggleable__control:checked~div.sk-toggleable__content {max-height: 200px;max-width: 100%;overflow: auto;}#sk-container-id-2 input.sk-toggleable__control:checked~label.sk-toggleable__label-arrow:before {content: \"▾\";}#sk-container-id-2 div.sk-estimator input.sk-toggleable__control:checked~label.sk-toggleable__label {background-color: #d4ebff;}#sk-container-id-2 div.sk-label input.sk-toggleable__control:checked~label.sk-toggleable__label {background-color: #d4ebff;}#sk-container-id-2 input.sk-hidden--visually {border: 0;clip: rect(1px 1px 1px 1px);clip: rect(1px, 1px, 1px, 1px);height: 1px;margin: -1px;overflow: hidden;padding: 0;position: absolute;width: 1px;}#sk-container-id-2 div.sk-estimator {font-family: monospace;background-color: #f0f8ff;border: 1px dotted black;border-radius: 0.25em;box-sizing: border-box;margin-bottom: 0.5em;}#sk-container-id-2 div.sk-estimator:hover {background-color: #d4ebff;}#sk-container-id-2 div.sk-parallel-item::after {content: \"\";width: 100%;border-bottom: 1px solid gray;flex-grow: 1;}#sk-container-id-2 div.sk-label:hover label.sk-toggleable__label {background-color: #d4ebff;}#sk-container-id-2 div.sk-serial::before {content: \"\";position: absolute;border-left: 1px solid gray;box-sizing: border-box;top: 0;bottom: 0;left: 50%;z-index: 0;}#sk-container-id-2 div.sk-serial {display: flex;flex-direction: column;align-items: center;background-color: white;padding-right: 0.2em;padding-left: 0.2em;position: relative;}#sk-container-id-2 div.sk-item {position: relative;z-index: 1;}#sk-container-id-2 div.sk-parallel {display: flex;align-items: stretch;justify-content: center;background-color: white;position: relative;}#sk-container-id-2 div.sk-item::before, #sk-container-id-2 div.sk-parallel-item::before {content: \"\";position: absolute;border-left: 1px solid gray;box-sizing: border-box;top: 0;bottom: 0;left: 50%;z-index: -1;}#sk-container-id-2 div.sk-parallel-item {display: flex;flex-direction: column;z-index: 1;position: relative;background-color: white;}#sk-container-id-2 div.sk-parallel-item:first-child::after {align-self: flex-end;width: 50%;}#sk-container-id-2 div.sk-parallel-item:last-child::after {align-self: flex-start;width: 50%;}#sk-container-id-2 div.sk-parallel-item:only-child::after {width: 0;}#sk-container-id-2 div.sk-dashed-wrapped {border: 1px dashed gray;margin: 0 0.4em 0.5em 0.4em;box-sizing: border-box;padding-bottom: 0.4em;background-color: white;}#sk-container-id-2 div.sk-label label {font-family: monospace;font-weight: bold;display: inline-block;line-height: 1.2em;}#sk-container-id-2 div.sk-label-container {text-align: center;}#sk-container-id-2 div.sk-container {/* jupyter's `normalize.less` sets `[hidden] { display: none; }` but bootstrap.min.css set `[hidden] { display: none !important; }` so we also need the `!important` here to be able to override the default hidden behavior on the sphinx rendered scikit-learn.org. See: https://github.com/scikit-learn/scikit-learn/issues/21755 */display: inline-block !important;position: relative;}#sk-container-id-2 div.sk-text-repr-fallback {display: none;}</style><div id=\"sk-container-id-2\" class=\"sk-top-container\"><div class=\"sk-text-repr-fallback\"><pre>GridSearchCV(cv=5, estimator=RandomForestRegressor(),\n",
       "             param_grid={&#x27;max_depth&#x27;: [None, 10, 20, 30],\n",
       "                         &#x27;min_samples_split&#x27;: [2, 5, 10],\n",
       "                         &#x27;n_estimators&#x27;: [100, 200, 300]})</pre><b>In a Jupyter environment, please rerun this cell to show the HTML representation or trust the notebook. <br />On GitHub, the HTML representation is unable to render, please try loading this page with nbviewer.org.</b></div><div class=\"sk-container\" hidden><div class=\"sk-item sk-dashed-wrapped\"><div class=\"sk-label-container\"><div class=\"sk-label sk-toggleable\"><input class=\"sk-toggleable__control sk-hidden--visually\" id=\"sk-estimator-id-2\" type=\"checkbox\" ><label for=\"sk-estimator-id-2\" class=\"sk-toggleable__label sk-toggleable__label-arrow\">GridSearchCV</label><div class=\"sk-toggleable__content\"><pre>GridSearchCV(cv=5, estimator=RandomForestRegressor(),\n",
       "             param_grid={&#x27;max_depth&#x27;: [None, 10, 20, 30],\n",
       "                         &#x27;min_samples_split&#x27;: [2, 5, 10],\n",
       "                         &#x27;n_estimators&#x27;: [100, 200, 300]})</pre></div></div></div><div class=\"sk-parallel\"><div class=\"sk-parallel-item\"><div class=\"sk-item\"><div class=\"sk-label-container\"><div class=\"sk-label sk-toggleable\"><input class=\"sk-toggleable__control sk-hidden--visually\" id=\"sk-estimator-id-3\" type=\"checkbox\" ><label for=\"sk-estimator-id-3\" class=\"sk-toggleable__label sk-toggleable__label-arrow\">estimator: RandomForestRegressor</label><div class=\"sk-toggleable__content\"><pre>RandomForestRegressor()</pre></div></div></div><div class=\"sk-serial\"><div class=\"sk-item\"><div class=\"sk-estimator sk-toggleable\"><input class=\"sk-toggleable__control sk-hidden--visually\" id=\"sk-estimator-id-4\" type=\"checkbox\" ><label for=\"sk-estimator-id-4\" class=\"sk-toggleable__label sk-toggleable__label-arrow\">RandomForestRegressor</label><div class=\"sk-toggleable__content\"><pre>RandomForestRegressor()</pre></div></div></div></div></div></div></div></div></div></div>"
      ],
      "text/plain": [
       "GridSearchCV(cv=5, estimator=RandomForestRegressor(),\n",
       "             param_grid={'max_depth': [None, 10, 20, 30],\n",
       "                         'min_samples_split': [2, 5, 10],\n",
       "                         'n_estimators': [100, 200, 300]})"
      ]
     },
     "execution_count": 50,
     "metadata": {},
     "output_type": "execute_result"
    }
   ],
   "source": [
    "param_grid_rfc = {\n",
    "    'n_estimators': [100, 200, 300],\n",
    "    'max_depth': [None, 10, 20, 30],\n",
    "    'min_samples_split': [2, 5, 10]\n",
    "}\n",
    "\n",
    "randfo = RandomForestRegressor()\n",
    "grid_search = GridSearchCV(estimator=randfo, param_grid=param_grid_rfc, cv=5) #, scoring='f1')\n",
    "grid_search.fit(x_train_rfc, y_train_rfc)"
   ]
  },
  {
   "cell_type": "code",
   "execution_count": 51,
   "metadata": {},
   "outputs": [
    {
     "name": "stdout",
     "output_type": "stream",
     "text": [
      "Best parameters: {'max_depth': None, 'min_samples_split': 10, 'n_estimators': 300}\n"
     ]
    }
   ],
   "source": [
    "best_params = grid_search.best_params_\n",
    "print(f\"Best parameters: {best_params}\")"
   ]
  },
  {
   "cell_type": "code",
   "execution_count": 52,
   "metadata": {},
   "outputs": [
    {
     "data": {
      "text/html": [
       "<style>#sk-container-id-3 {color: black;}#sk-container-id-3 pre{padding: 0;}#sk-container-id-3 div.sk-toggleable {background-color: white;}#sk-container-id-3 label.sk-toggleable__label {cursor: pointer;display: block;width: 100%;margin-bottom: 0;padding: 0.3em;box-sizing: border-box;text-align: center;}#sk-container-id-3 label.sk-toggleable__label-arrow:before {content: \"▸\";float: left;margin-right: 0.25em;color: #696969;}#sk-container-id-3 label.sk-toggleable__label-arrow:hover:before {color: black;}#sk-container-id-3 div.sk-estimator:hover label.sk-toggleable__label-arrow:before {color: black;}#sk-container-id-3 div.sk-toggleable__content {max-height: 0;max-width: 0;overflow: hidden;text-align: left;background-color: #f0f8ff;}#sk-container-id-3 div.sk-toggleable__content pre {margin: 0.2em;color: black;border-radius: 0.25em;background-color: #f0f8ff;}#sk-container-id-3 input.sk-toggleable__control:checked~div.sk-toggleable__content {max-height: 200px;max-width: 100%;overflow: auto;}#sk-container-id-3 input.sk-toggleable__control:checked~label.sk-toggleable__label-arrow:before {content: \"▾\";}#sk-container-id-3 div.sk-estimator input.sk-toggleable__control:checked~label.sk-toggleable__label {background-color: #d4ebff;}#sk-container-id-3 div.sk-label input.sk-toggleable__control:checked~label.sk-toggleable__label {background-color: #d4ebff;}#sk-container-id-3 input.sk-hidden--visually {border: 0;clip: rect(1px 1px 1px 1px);clip: rect(1px, 1px, 1px, 1px);height: 1px;margin: -1px;overflow: hidden;padding: 0;position: absolute;width: 1px;}#sk-container-id-3 div.sk-estimator {font-family: monospace;background-color: #f0f8ff;border: 1px dotted black;border-radius: 0.25em;box-sizing: border-box;margin-bottom: 0.5em;}#sk-container-id-3 div.sk-estimator:hover {background-color: #d4ebff;}#sk-container-id-3 div.sk-parallel-item::after {content: \"\";width: 100%;border-bottom: 1px solid gray;flex-grow: 1;}#sk-container-id-3 div.sk-label:hover label.sk-toggleable__label {background-color: #d4ebff;}#sk-container-id-3 div.sk-serial::before {content: \"\";position: absolute;border-left: 1px solid gray;box-sizing: border-box;top: 0;bottom: 0;left: 50%;z-index: 0;}#sk-container-id-3 div.sk-serial {display: flex;flex-direction: column;align-items: center;background-color: white;padding-right: 0.2em;padding-left: 0.2em;position: relative;}#sk-container-id-3 div.sk-item {position: relative;z-index: 1;}#sk-container-id-3 div.sk-parallel {display: flex;align-items: stretch;justify-content: center;background-color: white;position: relative;}#sk-container-id-3 div.sk-item::before, #sk-container-id-3 div.sk-parallel-item::before {content: \"\";position: absolute;border-left: 1px solid gray;box-sizing: border-box;top: 0;bottom: 0;left: 50%;z-index: -1;}#sk-container-id-3 div.sk-parallel-item {display: flex;flex-direction: column;z-index: 1;position: relative;background-color: white;}#sk-container-id-3 div.sk-parallel-item:first-child::after {align-self: flex-end;width: 50%;}#sk-container-id-3 div.sk-parallel-item:last-child::after {align-self: flex-start;width: 50%;}#sk-container-id-3 div.sk-parallel-item:only-child::after {width: 0;}#sk-container-id-3 div.sk-dashed-wrapped {border: 1px dashed gray;margin: 0 0.4em 0.5em 0.4em;box-sizing: border-box;padding-bottom: 0.4em;background-color: white;}#sk-container-id-3 div.sk-label label {font-family: monospace;font-weight: bold;display: inline-block;line-height: 1.2em;}#sk-container-id-3 div.sk-label-container {text-align: center;}#sk-container-id-3 div.sk-container {/* jupyter's `normalize.less` sets `[hidden] { display: none; }` but bootstrap.min.css set `[hidden] { display: none !important; }` so we also need the `!important` here to be able to override the default hidden behavior on the sphinx rendered scikit-learn.org. See: https://github.com/scikit-learn/scikit-learn/issues/21755 */display: inline-block !important;position: relative;}#sk-container-id-3 div.sk-text-repr-fallback {display: none;}</style><div id=\"sk-container-id-3\" class=\"sk-top-container\"><div class=\"sk-text-repr-fallback\"><pre>RandomForestRegressor(min_samples_split=10, n_estimators=300, random_state=42)</pre><b>In a Jupyter environment, please rerun this cell to show the HTML representation or trust the notebook. <br />On GitHub, the HTML representation is unable to render, please try loading this page with nbviewer.org.</b></div><div class=\"sk-container\" hidden><div class=\"sk-item\"><div class=\"sk-estimator sk-toggleable\"><input class=\"sk-toggleable__control sk-hidden--visually\" id=\"sk-estimator-id-5\" type=\"checkbox\" checked><label for=\"sk-estimator-id-5\" class=\"sk-toggleable__label sk-toggleable__label-arrow\">RandomForestRegressor</label><div class=\"sk-toggleable__content\"><pre>RandomForestRegressor(min_samples_split=10, n_estimators=300, random_state=42)</pre></div></div></div></div></div>"
      ],
      "text/plain": [
       "RandomForestRegressor(min_samples_split=10, n_estimators=300, random_state=42)"
      ]
     },
     "execution_count": 52,
     "metadata": {},
     "output_type": "execute_result"
    }
   ],
   "source": [
    "best_randfo = RandomForestRegressor(**best_params, random_state=42)\n",
    "best_randfo.fit(x_train_rfc, y_train_rfc)"
   ]
  },
  {
   "cell_type": "code",
   "execution_count": 53,
   "metadata": {},
   "outputs": [
    {
     "name": "stdout",
     "output_type": "stream",
     "text": [
      "Mean Squared Error: 312172.2421220193\n",
      "Mean Absolute Error: 267.80598783919595\n",
      "R² Score: -0.2970197989933261\n"
     ]
    }
   ],
   "source": [
    "from sklearn.metrics import mean_squared_error, mean_absolute_error, r2_score\n",
    "\n",
    "print(\"Mean Squared Error:\", mean_squared_error(y_test_rfc, y_pred))\n",
    "print(\"Mean Absolute Error:\", mean_absolute_error(y_test_rfc, y_pred))\n",
    "print(\"R² Score:\", r2_score(y_test_rfc, y_pred))"
   ]
  },
  {
   "cell_type": "code",
   "execution_count": 54,
   "metadata": {},
   "outputs": [],
   "source": [
    "from sklearn.model_selection import cross_val_score"
   ]
  },
  {
   "cell_type": "code",
   "execution_count": 55,
   "metadata": {},
   "outputs": [
    {
     "name": "stdout",
     "output_type": "stream",
     "text": [
      "Cross-Validation Mean Squared Errors: [-119803.97415188  -59772.75361017 -483132.36942178 -188376.79254552\n",
      " -173564.45968845]\n",
      "Average Mean Squared Error: -204930.06988356\n"
     ]
    }
   ],
   "source": [
    "cv_scores = cross_val_score(best_randfo, scaled_data, y_rfr, cv=5, scoring='neg_mean_squared_error')\n",
    "print(f\"Cross-Validation Mean Squared Errors: {cv_scores}\")\n",
    "print(f\"Average Mean Squared Error: {cv_scores.mean()}\")"
   ]
  },
  {
   "cell_type": "code",
   "execution_count": 56,
   "metadata": {},
   "outputs": [],
   "source": [
    "from sklearn.metrics import make_scorer, mean_squared_error"
   ]
  },
  {
   "cell_type": "code",
   "execution_count": 57,
   "metadata": {},
   "outputs": [
    {
     "name": "stdout",
     "output_type": "stream",
     "text": [
      "Cross-Validation MSE Scores: [-119803.97415188  -59772.75361017 -483132.36942178 -188376.79254552\n",
      " -173564.45968845]\n",
      "Average MSE: -204930.06988356\n"
     ]
    }
   ],
   "source": [
    "mse_scorer = make_scorer(mean_squared_error, greater_is_better=False)\n",
    "cv_scores = cross_val_score(best_randfo, scaled_data, y_rfr, cv=5, scoring=mse_scorer)\n",
    "print(f\"Cross-Validation MSE Scores: {cv_scores}\")\n",
    "print(f\"Average MSE: {cv_scores.mean()}\")"
   ]
  },
  {
   "cell_type": "markdown",
   "metadata": {},
   "source": [
    "## Convert to discrete values"
   ]
  },
  {
   "cell_type": "code",
   "execution_count": 58,
   "metadata": {},
   "outputs": [],
   "source": [
    "from sklearn.preprocessing import LabelEncoder"
   ]
  },
  {
   "cell_type": "code",
   "execution_count": 59,
   "metadata": {},
   "outputs": [],
   "source": [
    "le = LabelEncoder()\n",
    "y_train_rfc = le.fit_transform(y_train_rfc)"
   ]
  },
  {
   "cell_type": "code",
   "execution_count": null,
   "metadata": {},
   "outputs": [],
   "source": []
  }
 ],
 "metadata": {
  "kernelspec": {
   "display_name": "Python 3",
   "language": "python",
   "name": "python3"
  },
  "language_info": {
   "codemirror_mode": {
    "name": "ipython",
    "version": 3
   },
   "file_extension": ".py",
   "mimetype": "text/x-python",
   "name": "python",
   "nbconvert_exporter": "python",
   "pygments_lexer": "ipython3",
   "version": "3.11.5"
  }
 },
 "nbformat": 4,
 "nbformat_minor": 2
}
