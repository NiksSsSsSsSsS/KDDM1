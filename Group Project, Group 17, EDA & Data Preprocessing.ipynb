{
 "cells": [
  {
   "cell_type": "markdown",
   "metadata": {},
   "source": [
    "# KDDM Group 17\n"
   ]
  },
  {
   "cell_type": "markdown",
   "metadata": {},
   "source": [
    "## 0: Package and data Import "
   ]
  },
  {
   "cell_type": "markdown",
   "metadata": {},
   "source": [
    "Importing and load necessary packages"
   ]
  },
  {
   "cell_type": "code",
   "execution_count": 1,
   "metadata": {},
   "outputs": [],
   "source": [
    "import os\n",
    "import pandas as pd\n",
    "import numpy as np\n",
    "import matplotlib.pylab as plt\n",
    "import seaborn as sns\n",
    "plt.style.use('ggplot')\n",
    "pd.set_option('display.max_columns', None)"
   ]
  },
  {
   "cell_type": "markdown",
   "metadata": {},
   "source": [
    "## 1: Data Understanding"
   ]
  },
  {
   "cell_type": "markdown",
   "metadata": {},
   "source": [
    "Set directory and load data"
   ]
  },
  {
   "cell_type": "code",
   "execution_count": 2,
   "metadata": {},
   "outputs": [],
   "source": [
    "# Change the current working directory\n",
    "os.chdir(\"C:/Users/schra/OneDrive/Dokumente/CSS/2. Semester/KDDM/Group Project, 17\")\n",
    "# Reading the CSV file into a DataFrame\n",
    "df = pd.read_csv('data_7.csv')"
   ]
  },
  {
   "cell_type": "markdown",
   "metadata": {},
   "source": [
    "Overview and summary of the data"
   ]
  },
  {
   "cell_type": "code",
   "execution_count": null,
   "metadata": {},
   "outputs": [],
   "source": [
    "df.shape\n",
    "#print(df.head())\n",
    "#print(df.info())\n",
    "\n",
    "# Summary Statistics\n",
    "print(df.describe())\n",
    "\n",
    "# Exportiert summary Tabelle\n",
    "#summary_stats = df.describe()\n",
    "#summary_stats.to_excel('summary_statistics.xlsx', index=True)\n"
   ]
  },
  {
   "cell_type": "markdown",
   "metadata": {},
   "source": [
    "## 2: Data Preparation"
   ]
  },
  {
   "cell_type": "markdown",
   "metadata": {},
   "source": [
    "Handling Missing data"
   ]
  },
  {
   "cell_type": "code",
   "execution_count": 3,
   "metadata": {},
   "outputs": [
    {
     "name": "stdout",
     "output_type": "stream",
     "text": [
      "   Bedrooms  Bathrooms  SquareFootageHouse   Location   Age PoolQuality  \\\n",
      "0       1.0        1.0                46.0  Suburbann  68.0         NaN   \n",
      "1       1.0        1.0                88.0  Suburbann  20.0         NaN   \n",
      "2       NaN        1.0               122.0      Urban  40.0         NaN   \n",
      "3       NaN        2.0               112.0      Rural  69.0         NaN   \n",
      "4       1.0        NaN                42.0        NaN  16.0   Excellent   \n",
      "\n",
      "  HasPhotovoltaics  HeatingType HasFiberglass IsFurnished DateSinceForSale  \\\n",
      "0              NaN          Gas         False        True       2024-02-04   \n",
      "1             True     Electric         False        True       2024-01-31   \n",
      "2              NaN          Gas         False        True       2023-08-30   \n",
      "3            False  Electricity          True        True       2023-03-18   \n",
      "4            False  Oil Heating         False       False       2023-07-26   \n",
      "\n",
      "  HouseColor PreviousOwnerName HasFireplace KitchensQuality BathroomsQuality  \\\n",
      "0     Yellow            Stefan        False            Good             Good   \n",
      "1      Green             Roman        False            Good             Good   \n",
      "2      Green           Natalie        False            Good             Good   \n",
      "3     Yellow             Denis        False       Excellent        Excellent   \n",
      "4       Gray             Roman        False            Good        Excellent   \n",
      "\n",
      "  BedroomsQuality LivingRoomsQuality  SquareFootageGarden  \\\n",
      "0       Excellent               Good                 13.0   \n",
      "1            Good          Excellent                  6.0   \n",
      "2            Poor               Good                  6.0   \n",
      "3       Excellent               Good                  6.0   \n",
      "4       Excellent               Poor                 30.0   \n",
      "\n",
      "   PreviousOwnerRating  HeatingCosts                 WindowModelNames  \\\n",
      "0                 1.65           NaN           J9DM Wood PDMC1 Window   \n",
      "1                 3.06           NaN          Aluminum 9XWSANM Window   \n",
      "2                 3.12           NaN          Aluminum OT6ZBRV Window   \n",
      "3                 4.27          67.2  ZUOV7S4 Aluminum I49HRNC Window   \n",
      "4                 1.41           NaN        MD1VKS Steel Y9DOV Window   \n",
      "\n",
      "       Price  \n",
      "0   96.41513  \n",
      "1   78.56870  \n",
      "2  184.70391  \n",
      "3  246.09376  \n",
      "4  241.27139  \n"
     ]
    }
   ],
   "source": [
    "# Handling Missing Values\n",
    "#print(df.isna().sum())\n",
    "\n",
    "#Drop na (HeatingType), removes the 5 missing values across all values\n",
    "df = df.dropna(how='all').copy()\n",
    "#print(df.isna().sum())\n",
    "print(df.head())\n",
    "\n",
    "#Remove all missing data\n",
    "# !! Not for Pool\n",
    "#df = df.dropna().copy()"
   ]
  },
  {
   "cell_type": "code",
   "execution_count": 4,
   "metadata": {},
   "outputs": [
    {
     "data": {
      "text/html": [
       "<div>\n",
       "<style scoped>\n",
       "    .dataframe tbody tr th:only-of-type {\n",
       "        vertical-align: middle;\n",
       "    }\n",
       "\n",
       "    .dataframe tbody tr th {\n",
       "        vertical-align: top;\n",
       "    }\n",
       "\n",
       "    .dataframe thead th {\n",
       "        text-align: right;\n",
       "    }\n",
       "</style>\n",
       "<table border=\"1\" class=\"dataframe\">\n",
       "  <thead>\n",
       "    <tr style=\"text-align: right;\">\n",
       "      <th></th>\n",
       "      <th>Bedrooms</th>\n",
       "      <th>Bathrooms</th>\n",
       "      <th>SquareFootageHouse</th>\n",
       "      <th>Age</th>\n",
       "      <th>SquareFootageGarden</th>\n",
       "      <th>PreviousOwnerRating</th>\n",
       "      <th>HeatingCosts</th>\n",
       "      <th>Price</th>\n",
       "    </tr>\n",
       "  </thead>\n",
       "  <tbody>\n",
       "    <tr>\n",
       "      <th>count</th>\n",
       "      <td>618.000000</td>\n",
       "      <td>630.000000</td>\n",
       "      <td>995.000000</td>\n",
       "      <td>868.000000</td>\n",
       "      <td>995.000000</td>\n",
       "      <td>995.000000</td>\n",
       "      <td>516.000000</td>\n",
       "      <td>995.000000</td>\n",
       "    </tr>\n",
       "    <tr>\n",
       "      <th>mean</th>\n",
       "      <td>1.621359</td>\n",
       "      <td>1.658730</td>\n",
       "      <td>175.727638</td>\n",
       "      <td>43.324885</td>\n",
       "      <td>11.538693</td>\n",
       "      <td>2.576905</td>\n",
       "      <td>125.134496</td>\n",
       "      <td>253.826843</td>\n",
       "    </tr>\n",
       "    <tr>\n",
       "      <th>std</th>\n",
       "      <td>0.941909</td>\n",
       "      <td>0.922796</td>\n",
       "      <td>821.254214</td>\n",
       "      <td>18.770587</td>\n",
       "      <td>7.898836</td>\n",
       "      <td>0.894898</td>\n",
       "      <td>507.796163</td>\n",
       "      <td>428.592868</td>\n",
       "    </tr>\n",
       "    <tr>\n",
       "      <th>min</th>\n",
       "      <td>1.000000</td>\n",
       "      <td>1.000000</td>\n",
       "      <td>-895.000000</td>\n",
       "      <td>-94.000000</td>\n",
       "      <td>6.000000</td>\n",
       "      <td>1.000000</td>\n",
       "      <td>-443.000000</td>\n",
       "      <td>29.123820</td>\n",
       "    </tr>\n",
       "    <tr>\n",
       "      <th>25%</th>\n",
       "      <td>1.000000</td>\n",
       "      <td>1.000000</td>\n",
       "      <td>53.000000</td>\n",
       "      <td>33.000000</td>\n",
       "      <td>6.000000</td>\n",
       "      <td>1.870000</td>\n",
       "      <td>49.000000</td>\n",
       "      <td>128.396785</td>\n",
       "    </tr>\n",
       "    <tr>\n",
       "      <th>50%</th>\n",
       "      <td>1.000000</td>\n",
       "      <td>1.000000</td>\n",
       "      <td>86.000000</td>\n",
       "      <td>45.000000</td>\n",
       "      <td>6.000000</td>\n",
       "      <td>2.490000</td>\n",
       "      <td>76.900000</td>\n",
       "      <td>188.658440</td>\n",
       "    </tr>\n",
       "    <tr>\n",
       "      <th>75%</th>\n",
       "      <td>2.000000</td>\n",
       "      <td>2.000000</td>\n",
       "      <td>116.000000</td>\n",
       "      <td>57.000000</td>\n",
       "      <td>18.000000</td>\n",
       "      <td>3.165000</td>\n",
       "      <td>127.650000</td>\n",
       "      <td>270.963420</td>\n",
       "    </tr>\n",
       "    <tr>\n",
       "      <th>max</th>\n",
       "      <td>5.000000</td>\n",
       "      <td>5.000000</td>\n",
       "      <td>8578.000000</td>\n",
       "      <td>71.000000</td>\n",
       "      <td>30.000000</td>\n",
       "      <td>4.970000</td>\n",
       "      <td>8292.000000</td>\n",
       "      <td>6050.591600</td>\n",
       "    </tr>\n",
       "  </tbody>\n",
       "</table>\n",
       "</div>"
      ],
      "text/plain": [
       "         Bedrooms   Bathrooms  SquareFootageHouse         Age  \\\n",
       "count  618.000000  630.000000          995.000000  868.000000   \n",
       "mean     1.621359    1.658730          175.727638   43.324885   \n",
       "std      0.941909    0.922796          821.254214   18.770587   \n",
       "min      1.000000    1.000000         -895.000000  -94.000000   \n",
       "25%      1.000000    1.000000           53.000000   33.000000   \n",
       "50%      1.000000    1.000000           86.000000   45.000000   \n",
       "75%      2.000000    2.000000          116.000000   57.000000   \n",
       "max      5.000000    5.000000         8578.000000   71.000000   \n",
       "\n",
       "       SquareFootageGarden  PreviousOwnerRating  HeatingCosts        Price  \n",
       "count           995.000000           995.000000    516.000000   995.000000  \n",
       "mean             11.538693             2.576905    125.134496   253.826843  \n",
       "std               7.898836             0.894898    507.796163   428.592868  \n",
       "min               6.000000             1.000000   -443.000000    29.123820  \n",
       "25%               6.000000             1.870000     49.000000   128.396785  \n",
       "50%               6.000000             2.490000     76.900000   188.658440  \n",
       "75%              18.000000             3.165000    127.650000   270.963420  \n",
       "max              30.000000             4.970000   8292.000000  6050.591600  "
      ]
     },
     "execution_count": 4,
     "metadata": {},
     "output_type": "execute_result"
    }
   ],
   "source": [
    "df.describe()"
   ]
  },
  {
   "cell_type": "markdown",
   "metadata": {},
   "source": [
    "Data type transformation"
   ]
  },
  {
   "cell_type": "code",
   "execution_count": null,
   "metadata": {},
   "outputs": [],
   "source": [
    "# Location\n",
    "# There are 4 instead of 3 categories:\n",
    "# ['Rural', 'Suburban', 'Suburbann', 'Urban'] \n",
    "# The typo will be corrected and the data summarized\n",
    "df['Location'].replace('Suburbann', 'Suburban', inplace=True)\n",
    "pd.Categorical(df['Location'])\n",
    "\n",
    "# Heating Type\n",
    "# There are 5 instead of 3 categories:\n",
    "# ['Electric', 'Electricity', 'Gas', 'Oil', 'Oil Heating'] \n",
    "# The data will be summarized\n",
    "# ['Electric', 'Gas', 'Oil']\n",
    "df['HeatingType'].replace('Electricity', 'Electric', inplace=True)\n",
    "df['HeatingType'].replace('Oil Heating', 'Oil', inplace=True)\n",
    "pd.Categorical(df['HeatingType'])"
   ]
  },
  {
   "cell_type": "markdown",
   "metadata": {},
   "source": [
    "Test for categories"
   ]
  },
  {
   "cell_type": "code",
   "execution_count": null,
   "metadata": {},
   "outputs": [],
   "source": [
    "# Pool Quality\n",
    "# 3 categories:\n",
    "# ['Excellent', 'Good', 'Poor']\n",
    "pd.Categorical(df['PoolQuality'])\n",
    "\n",
    "# Has Photovoltaics \n",
    "# Bool\n",
    "# [False, True]\n",
    "pd.Categorical(df['HasPhotovoltaics'])\n",
    "\n",
    "# Heating Type \n",
    "# 3 categories:\n",
    "# ['Excellent', 'Good', 'Poor']\n",
    "pd.Categorical(df['HeatingType'])\n",
    "\n",
    "# Has Fiberglass\n",
    "# Bool\n",
    "# [False, True]\n",
    "pd.Categorical(df['HasFiberglass'])\n",
    "\n",
    "# Is Furnished\n",
    "# Bool\n",
    "# [False, True]\n",
    "pd.Categorical(df['IsFurnished'])\n",
    "\n",
    "# House Color \n",
    "# 4 categories:\n",
    "# ['Gray', 'Green', 'White', 'Yellow']\n",
    "pd.Categorical(df['HouseColor'])\n",
    "\n",
    "# Has Fireplace \n",
    "# Bool\n",
    "# [False, True]\n",
    "pd.Categorical(df['HasFireplace'])\n",
    "\n",
    "# Kitchens Quality \n",
    "# 3 categories:\n",
    "# ['Excellent', 'Good', 'Poor']\n",
    "pd.Categorical(df['KitchensQuality'])\n",
    "\n",
    "# Bathrooms Quality \n",
    "# 3 categories:\n",
    "# ['Excellent', 'Good', 'Poor']\n",
    "pd.Categorical(df['BathroomsQuality'])\n",
    "\n",
    "# Bedrooms Quality \n",
    "# 3 categories:\n",
    "# ['Excellent', 'Good', 'Poor']\n",
    "pd.Categorical(df['BedroomsQuality'])\n",
    "\n",
    "# Livingrooms Quality \n",
    "# 3 categories:\n",
    "# ['Excellent', 'Good', 'Poor']\n",
    "pd.Categorical(df['LivingRoomsQuality'])\n",
    "\n",
    "# Previous Ownder Rating\n",
    "# 1.00 to 4.97\n",
    "# [1.00, 1.01, 1.02, 1.03, ..., 4.93, 4.94, 4.96, 4.97]\n",
    "pd.Categorical(df['PreviousOwnerRating'])\n",
    "\n",
    "# Window Model Names\n",
    "# Way too many categories\n",
    "# 995\n",
    "# Each house has its own category (No duplicates)\n",
    "pd.Categorical(df['WindowModelNames'])\n",
    "print(len(df['WindowModelNames']))\n",
    "duplicates_mask = df['WindowModelNames'].duplicated()\n",
    "duplicates_df = df[duplicates_mask]\n",
    "print(\"Duplicate rows:\")\n",
    "print(duplicates_df)"
   ]
  },
  {
   "cell_type": "markdown",
   "metadata": {},
   "source": [
    "Test for duplicates"
   ]
  },
  {
   "cell_type": "code",
   "execution_count": null,
   "metadata": {},
   "outputs": [],
   "source": [
    "df.loc[df.duplicated()]\n",
    "# No duplicate rows "
   ]
  },
  {
   "cell_type": "markdown",
   "metadata": {},
   "source": [
    "Output of all cases with SquareFootageHouse <0"
   ]
  },
  {
   "cell_type": "code",
   "execution_count": null,
   "metadata": {},
   "outputs": [],
   "source": [
    "# Count the cases where 'SquareFootageHouse       ' is smaller than 0\n",
    "negative_square_footage_house_count = (df['SquareFootageHouse'] < 0).sum()\n",
    "# Display the count\n",
    "print(\"Number of cases where SquareFootageHouse is smaller than 0:\", negative_square_footage_house_count)\n",
    "\n",
    "# Filter the DataFrame to get rows where 'SquareFootageHouse' is smaller than 0\n",
    "negative_square_footage_house_cases = df[df['SquareFootageHouse'] < 0]\n",
    "# Print the cases where 'SquareFootageHouse       ' is smaller than 0\n",
    "print(\"Cases where SquareFootageHouse  is smaller than 0:\")\n",
    "print(negative_square_footage_house_cases)\n",
    "\n",
    "# There are 8 cases\n",
    "# I would suggest to simply make them positive (Could be just a typo)\n",
    "# Everything else seems okay"
   ]
  },
  {
   "cell_type": "markdown",
   "metadata": {},
   "source": [
    "Output of all cases with Age <0"
   ]
  },
  {
   "cell_type": "code",
   "execution_count": null,
   "metadata": {},
   "outputs": [],
   "source": [
    "# Count the cases where 'Age' is smaller than 0\n",
    "negative_age_house_count = (df['Age'] < 0).sum()\n",
    "# Display the count\n",
    "print(\"Number of cases where Age is smaller than 0:\", negative_age_house_count)\n",
    "\n",
    "# Filter the DataFrame to get rows where 'Age' is smaller than 0\n",
    "negative_age_house_cases = df[df['Age'] < 0]\n",
    "# Print the cases where 'Age' is smaller than 0\n",
    "print(\"Cases where Age  is smaller than 0:\")\n",
    "print(negative_age_house_cases)\n",
    "\n",
    "# There are 12 cases\n",
    "# I would suggest to simply make them positive (Could be just a typo)\n",
    "# Everything else seems okay"
   ]
  },
  {
   "cell_type": "markdown",
   "metadata": {},
   "source": [
    "Output of all cases with HeatingCost <0"
   ]
  },
  {
   "cell_type": "code",
   "execution_count": null,
   "metadata": {},
   "outputs": [],
   "source": [
    "# Count the cases where 'HeatingCost' is smaller than 0\n",
    "negative_heating_cost_count = (df['HeatingCosts'] < 0).sum()\n",
    "# Display the count\n",
    "print(\"Number of cases where Age is smaller than 0:\", negative_heating_cost_count)\n",
    "\n",
    "# Filter the DataFrame to get rows where 'HeatingCost' is smaller than 0\n",
    "negative_heating_cost_cases = df[df['HeatingCosts'] < 0]\n",
    "# Print the cases where 'HeatingCost' is smaller than 0\n",
    "print(\"Cases where HeatingCost  is smaller than 0:\")\n",
    "print(negative_heating_cost_cases)\n",
    "\n",
    "# There are 5 cases \n",
    "# I would suggest to simply make them positive (Could be just a typo)\n",
    "# Everything else seems okay"
   ]
  },
  {
   "cell_type": "markdown",
   "metadata": {},
   "source": [
    "Comparison of Age and DateSinceForSale"
   ]
  },
  {
   "cell_type": "code",
   "execution_count": null,
   "metadata": {},
   "outputs": [],
   "source": [
    "# Extracts the Year since the house is for sale\n",
    "df['Year'] = df['DateSinceForSale'].str.extract(r'(\\d{4})')\n",
    "# Calculates the Year, the house was build in\n",
    "df['NewAge'] =  2024 - df['Age'] \n",
    "\n",
    "# Subtracts Age the house was build in from the Year since sale, to look for anomalies\n",
    "result = df[df['Year'] < df['NewAge']]\n",
    "print(result)\n",
    "\n",
    "# Shows no errors/anomalies in the code, expect the cases with negative Age \n",
    "# and houses that were build this year and were put up for sale"
   ]
  },
  {
   "cell_type": "markdown",
   "metadata": {},
   "source": [
    "Calculating General Square Footage"
   ]
  },
  {
   "cell_type": "code",
   "execution_count": null,
   "metadata": {},
   "outputs": [],
   "source": [
    "#Overall Square Footage\n",
    "# Negative Outliners need to be corrected first!\n",
    "df['seneral_square_footage'] = df['SquareFootageHouse'] + df['SquareFootageGarden']\n",
    "#print(df['seneral_square_footage'].describe())\n"
   ]
  },
  {
   "cell_type": "markdown",
   "metadata": {},
   "source": [
    "Calculating Room Count"
   ]
  },
  {
   "cell_type": "code",
   "execution_count": null,
   "metadata": {},
   "outputs": [],
   "source": [
    "# Overall Room Count \n",
    "# Negative Outliners need to be corrected first! \n",
    "df['Rooms'] = df['Bedrooms'] + df['Bathrooms'] \n",
    "#print(df['Rooms'].describe()) \n",
    "#df['Rooms'] "
   ]
  },
  {
   "cell_type": "markdown",
   "metadata": {},
   "source": [
    "Calculating Overall House Quality"
   ]
  },
  {
   "cell_type": "code",
   "execution_count": 8,
   "metadata": {},
   "outputs": [
    {
     "data": {
      "text/plain": [
       "count    995.000000\n",
       "mean       4.353769\n",
       "std        0.478379\n",
       "min        4.000000\n",
       "25%        4.000000\n",
       "50%        4.000000\n",
       "75%        5.000000\n",
       "max        5.000000\n",
       "dtype: float64"
      ]
     },
     "execution_count": 8,
     "metadata": {},
     "output_type": "execute_result"
    }
   ],
   "source": [
    "# Overall House Quality\n",
    "# Quality Categories need to be converted to numeric values\n",
    "category_map = {'Excellent': 3, 'Good': 2, 'Poor': 1}\n",
    "\n",
    "# Convert categorical values to numerical values\n",
    "df[\"PoolQuality\"] = df[\"PoolQuality\"].replace(category_map)\n",
    "df[\"KitchensQuality\"] = df[\"KitchensQuality\"].replace(category_map)\n",
    "df[\"BathroomsQuality\"] = df[\"BathroomsQuality\"].replace(category_map)\n",
    "df[\"BedroomsQuality\"] = df[\"BedroomsQuality\"].replace(category_map)\n",
    "df[\"LivingRoomsQuality\"] = df[\"LivingRoomsQuality\"].replace(category_map)\n",
    "\n",
    "# Calculate average score across columns\n",
    "df[\"overall_quality\"] = df[\"PoolQuality\"] + df[\"KitchensQuality\"] + df[\"BathroomsQuality\"] + df[\"BedroomsQuality\"] + df[\"LivingRoomsQuality\"] \n",
    "#print(df[\"overall_quality\"].describe())\n",
    "\n",
    "# Count the number of non-missing values for each row\n",
    "num_non_missing_values = df[[\"PoolQuality\", \"KitchensQuality\", \"BathroomsQuality\", \"BedroomsQuality\", \"LivingRoomsQuality\"]].notnull().sum(axis=1)\n",
    "#num_non_missing_values.describe()\n",
    "\n",
    "# Calculate the average overall quality score\n",
    "df[\"average_overall_quality\"] = df[\"overall_quality\"] / num_non_missing_values.replace(0, np.nan)  # Replace 0 with NaN to handle division by zero\n",
    "\n",
    "# Print summary statistics of the average overall quality score\n",
    "#print(df[\"average_overall_quality\"].describe())"
   ]
  },
  {
   "cell_type": "markdown",
   "metadata": {},
   "source": [
    "## 3:"
   ]
  }
 ],
 "metadata": {
  "kernelspec": {
   "display_name": "Python 3",
   "language": "python",
   "name": "python3"
  },
  "language_info": {
   "codemirror_mode": {
    "name": "ipython",
    "version": 3
   },
   "file_extension": ".py",
   "mimetype": "text/x-python",
   "name": "python",
   "nbconvert_exporter": "python",
   "pygments_lexer": "ipython3",
   "version": "3.12.0"
  }
 },
 "nbformat": 4,
 "nbformat_minor": 2
}
