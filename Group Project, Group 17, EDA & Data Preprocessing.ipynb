{
 "cells": [
  {
   "cell_type": "markdown",
   "metadata": {},
   "source": [
    "# KDDM Group 17\n"
   ]
  },
  {
   "cell_type": "markdown",
   "metadata": {},
   "source": [
    "## 0: Package and df Import "
   ]
  },
  {
   "cell_type": "markdown",
   "metadata": {},
   "source": [
    "Importing and load necessary packages"
   ]
  },
  {
   "cell_type": "code",
   "execution_count": 1,
   "metadata": {},
   "outputs": [],
   "source": [
    "import os\n",
    "import pandas as pd\n",
    "import numpy as np\n",
    "import matplotlib.pylab as plt\n",
    "import seaborn as sns\n",
    "plt.style.use('ggplot')\n",
    "pd.set_option('display.max_columns', None)\n",
    "\n",
    "# For logistic regression\n",
    "from sklearn.model_selection import train_test_split  # Split df into training set\n",
    "from sklearn.linear_model import LogisticRegression # Using to predict category\n",
    "from sklearn.preprocessing import OneHotEncoder\n",
    "from sklearn.metrics import classification_report\n"
   ]
  },
  {
   "cell_type": "markdown",
   "metadata": {},
   "source": [
    "## 1: Data Understanding"
   ]
  },
  {
   "cell_type": "markdown",
   "metadata": {},
   "source": [
    "#### Set directory and load data"
   ]
  },
  {
   "cell_type": "code",
   "execution_count": 2,
   "metadata": {},
   "outputs": [],
   "source": [
    "# Reading the CSV file into a DataFrame\n",
    "df = pd.read_csv('data_7.csv')"
   ]
  },
  {
   "cell_type": "markdown",
   "metadata": {},
   "source": [
    "#### Overview and summary of the data"
   ]
  },
  {
   "cell_type": "code",
   "execution_count": 3,
   "metadata": {},
   "outputs": [
    {
     "name": "stdout",
     "output_type": "stream",
     "text": [
      "         Bedrooms   Bathrooms  SquareFootageHouse         Age  \\\n",
      "count  618.000000  630.000000          995.000000  868.000000   \n",
      "mean     1.621359    1.658730          175.727638   43.324885   \n",
      "std      0.941909    0.922796          821.254214   18.770587   \n",
      "min      1.000000    1.000000         -895.000000  -94.000000   \n",
      "25%      1.000000    1.000000           53.000000   33.000000   \n",
      "50%      1.000000    1.000000           86.000000   45.000000   \n",
      "75%      2.000000    2.000000          116.000000   57.000000   \n",
      "max      5.000000    5.000000         8578.000000   71.000000   \n",
      "\n",
      "       SquareFootageGarden  PreviousOwnerRating  HeatingCosts        Price  \n",
      "count           995.000000           995.000000    516.000000   995.000000  \n",
      "mean             11.538693             2.576905    125.134496   253.826843  \n",
      "std               7.898836             0.894898    507.796163   428.592868  \n",
      "min               6.000000             1.000000   -443.000000    29.123820  \n",
      "25%               6.000000             1.870000     49.000000   128.396785  \n",
      "50%               6.000000             2.490000     76.900000   188.658440  \n",
      "75%              18.000000             3.165000    127.650000   270.963420  \n",
      "max              30.000000             4.970000   8292.000000  6050.591600  \n"
     ]
    }
   ],
   "source": [
    "df.shape\n",
    "#print(df.head())\n",
    "#print(df.info())\n",
    "\n",
    "# Summary Statistics\n",
    "print(df.describe())\n",
    "\n",
    "# Exportiert summary Tabelle\n",
    "#summary_stats = df.describe()\n",
    "#summary_stats.to_excel('summary_statistics.xlsx', index=True)\n"
   ]
  },
  {
   "cell_type": "markdown",
   "metadata": {},
   "source": [
    "## 2: Data Preparation"
   ]
  },
  {
   "cell_type": "markdown",
   "metadata": {},
   "source": [
    "#### How are the NA's distributed?"
   ]
  },
  {
   "cell_type": "code",
   "execution_count": 4,
   "metadata": {},
   "outputs": [
    {
     "name": "stdout",
     "output_type": "stream",
     "text": [
      "Missing values count for each column:\n",
      "Bedrooms               377\n",
      "Bathrooms              365\n",
      "SquareFootageHouse       0\n",
      "Location               194\n",
      "Age                    127\n",
      "PoolQuality            643\n",
      "HasPhotovoltaics        79\n",
      "HeatingType              0\n",
      "HasFiberglass            0\n",
      "IsFurnished              0\n",
      "DateSinceForSale         0\n",
      "HouseColor               8\n",
      "PreviousOwnerName      146\n",
      "HasFireplace             0\n",
      "KitchensQuality          0\n",
      "BathroomsQuality         0\n",
      "BedroomsQuality          0\n",
      "LivingRoomsQuality       0\n",
      "SquareFootageGarden      0\n",
      "PreviousOwnerRating      0\n",
      "HeatingCosts           479\n",
      "WindowModelNames         0\n",
      "Price                    0\n",
      "dtype: int64\n"
     ]
    }
   ],
   "source": [
    "# Handling Missing Values\n",
    "#print(df.isna().sum())\n",
    "\n",
    "#Drop na (HeatingType), removes the 5 missing values across all values\n",
    "df = df.dropna(how='all').copy()\n",
    "#print(df.isna().sum())\n",
    "#print(df.head())\n",
    "\n",
    "#Remove all missing data\n",
    "# !! Not for Pool\n",
    "#df = df.dropna().copy()\n",
    "missing_values_count = df.isna().sum()\n",
    "print(\"Missing values count for each column:\")\n",
    "print(missing_values_count)"
   ]
  },
  {
   "cell_type": "code",
   "execution_count": 5,
   "metadata": {},
   "outputs": [
    {
     "data": {
      "image/png": "[encoded data removed]",
      "text/plain": [
       "<Figure size 800x600 with 1 Axes>"
      ]
     },
     "metadata": {},
     "output_type": "display_data"
    }
   ],
   "source": [
    "\n",
    "# Create column counting NA's\n",
    "df['NaCount'] = df.isna().sum(axis=1)\n",
    "\n",
    "\n",
    "# Plot a histogram for the 'NaCount' column\n",
    "plt.figure(figsize=(8, 6))\n",
    "plt.hist(df['NaCount'], bins=10, color='skyblue', edgecolor='black')\n",
    "plt.xlabel('Number of NaN Values')\n",
    "plt.ylabel('Frequency')\n",
    "plt.title('Histogram of NaN Values Count')\n",
    "plt.grid(True)\n",
    "plt.show()\n"
   ]
  },
  {
   "cell_type": "code",
   "execution_count": 6,
   "metadata": {},
   "outputs": [
    {
     "data": {
      "text/plain": [
       "(995, 24)"
      ]
     },
     "execution_count": 6,
     "metadata": {},
     "output_type": "execute_result"
    }
   ],
   "source": [
    "df.shape"
   ]
  },
  {
   "cell_type": "markdown",
   "metadata": {},
   "source": [
    "#### Data type transformation"
   ]
  },
  {
   "cell_type": "code",
   "execution_count": 7,
   "metadata": {},
   "outputs": [
    {
     "data": {
      "text/plain": [
       "['Gas', 'Electric', 'Gas', 'Electric', 'Oil', ..., 'Gas', 'Oil', 'Oil', 'Electric', 'Electric']\n",
       "Length: 995\n",
       "Categories (3, object): ['Electric', 'Gas', 'Oil']"
      ]
     },
     "execution_count": 7,
     "metadata": {},
     "output_type": "execute_result"
    }
   ],
   "source": [
    "# Location\n",
    "# There are 4 instead of 3 categories:\n",
    "# ['Rural', 'Suburban', 'Suburbann', 'Urban'] \n",
    "# The typo will be corrected and the data summarized\n",
    "df['Location'].replace('Suburbann', 'Suburban', inplace=True)\n",
    "pd.Categorical(df['Location'])\n",
    "\n",
    "# Heating Type\n",
    "# There are 5 instead of 3 categories:\n",
    "# ['Electric', 'Electricity', 'Gas', 'Oil', 'Oil Heating'] \n",
    "# The data will be summarized\n",
    "# ['Electric', 'Gas', 'Oil']\n",
    "df['HeatingType'].replace('Electricity', 'Electric', inplace=True)\n",
    "df['HeatingType'].replace('Oil Heating', 'Oil', inplace=True)\n",
    "pd.Categorical(df['HeatingType'])"
   ]
  },
  {
   "cell_type": "markdown",
   "metadata": {},
   "source": [
    "#### Test for categories"
   ]
  },
  {
   "cell_type": "code",
   "execution_count": 8,
   "metadata": {},
   "outputs": [
    {
     "name": "stdout",
     "output_type": "stream",
     "text": [
      "995\n",
      "Duplicate rows:\n",
      "Empty DataFrame\n",
      "Columns: [Bedrooms, Bathrooms, SquareFootageHouse, Location, Age, PoolQuality, HasPhotovoltaics, HeatingType, HasFiberglass, IsFurnished, DateSinceForSale, HouseColor, PreviousOwnerName, HasFireplace, KitchensQuality, BathroomsQuality, BedroomsQuality, LivingRoomsQuality, SquareFootageGarden, PreviousOwnerRating, HeatingCosts, WindowModelNames, Price, NaCount]\n",
      "Index: []\n"
     ]
    }
   ],
   "source": [
    "# Pool Quality\n",
    "# 3 categories:\n",
    "# ['Excellent', 'Good', 'Poor']\n",
    "pd.Categorical(df['PoolQuality'])\n",
    "\n",
    "# Has Photovoltaics \n",
    "# Bool\n",
    "# [False, True]\n",
    "pd.Categorical(df['HasPhotovoltaics'])\n",
    "\n",
    "# Heating Type \n",
    "# 3 categories:\n",
    "# ['Excellent', 'Good', 'Poor']\n",
    "pd.Categorical(df['HeatingType'])\n",
    "\n",
    "# Has Fiberglass\n",
    "# Bool\n",
    "# [False, True]\n",
    "pd.Categorical(df['HasFiberglass'])\n",
    "\n",
    "# Is Furnished\n",
    "# Bool\n",
    "# [False, True]\n",
    "pd.Categorical(df['IsFurnished'])\n",
    "\n",
    "# House Color \n",
    "# 4 categories:\n",
    "# ['Gray', 'Green', 'White', 'Yellow']\n",
    "pd.Categorical(df['HouseColor'])\n",
    "\n",
    "# Has Fireplace \n",
    "# Bool\n",
    "# [False, True]\n",
    "pd.Categorical(df['HasFireplace'])\n",
    "\n",
    "# Kitchens Quality \n",
    "# 3 categories:\n",
    "# ['Excellent', 'Good', 'Poor']\n",
    "pd.Categorical(df['KitchensQuality'])\n",
    "\n",
    "# Bathrooms Quality \n",
    "# 3 categories:\n",
    "# ['Excellent', 'Good', 'Poor']\n",
    "pd.Categorical(df['BathroomsQuality'])\n",
    "\n",
    "# Bedrooms Quality \n",
    "# 3 categories:\n",
    "# ['Excellent', 'Good', 'Poor']\n",
    "pd.Categorical(df['BedroomsQuality'])\n",
    "\n",
    "# Livingrooms Quality \n",
    "# 3 categories:\n",
    "# ['Excellent', 'Good', 'Poor']\n",
    "pd.Categorical(df['LivingRoomsQuality'])\n",
    "\n",
    "# Previous Ownder Rating\n",
    "# 1.00 to 4.97\n",
    "# [1.00, 1.01, 1.02, 1.03, ..., 4.93, 4.94, 4.96, 4.97]\n",
    "pd.Categorical(df['PreviousOwnerRating'])\n",
    "\n",
    "# Window Model Names\n",
    "# Way too many categories\n",
    "# 995\n",
    "# Each house has its own category (No duplicates)\n",
    "pd.Categorical(df['WindowModelNames'])\n",
    "print(len(df['WindowModelNames']))\n",
    "duplicates_mask = df['WindowModelNames'].duplicated()\n",
    "duplicates_df = df[duplicates_mask]\n",
    "print(\"Duplicate rows:\")\n",
    "print(duplicates_df)"
   ]
  },
  {
   "cell_type": "markdown",
   "metadata": {},
   "source": [
    "#### Test for duplicates"
   ]
  },
  {
   "cell_type": "code",
   "execution_count": 9,
   "metadata": {},
   "outputs": [
    {
     "data": {
      "text/html": [
       "<div>\n",
       "<style scoped>\n",
       "    .dataframe tbody tr th:only-of-type {\n",
       "        vertical-align: middle;\n",
       "    }\n",
       "\n",
       "    .dataframe tbody tr th {\n",
       "        vertical-align: top;\n",
       "    }\n",
       "\n",
       "    .dataframe thead th {\n",
       "        text-align: right;\n",
       "    }\n",
       "</style>\n",
       "<table border=\"1\" class=\"dataframe\">\n",
       "  <thead>\n",
       "    <tr style=\"text-align: right;\">\n",
       "      <th></th>\n",
       "      <th>Bedrooms</th>\n",
       "      <th>Bathrooms</th>\n",
       "      <th>SquareFootageHouse</th>\n",
       "      <th>Location</th>\n",
       "      <th>Age</th>\n",
       "      <th>PoolQuality</th>\n",
       "      <th>HasPhotovoltaics</th>\n",
       "      <th>HeatingType</th>\n",
       "      <th>HasFiberglass</th>\n",
       "      <th>IsFurnished</th>\n",
       "      <th>DateSinceForSale</th>\n",
       "      <th>HouseColor</th>\n",
       "      <th>PreviousOwnerName</th>\n",
       "      <th>HasFireplace</th>\n",
       "      <th>KitchensQuality</th>\n",
       "      <th>BathroomsQuality</th>\n",
       "      <th>BedroomsQuality</th>\n",
       "      <th>LivingRoomsQuality</th>\n",
       "      <th>SquareFootageGarden</th>\n",
       "      <th>PreviousOwnerRating</th>\n",
       "      <th>HeatingCosts</th>\n",
       "      <th>WindowModelNames</th>\n",
       "      <th>Price</th>\n",
       "      <th>NaCount</th>\n",
       "    </tr>\n",
       "  </thead>\n",
       "  <tbody>\n",
       "  </tbody>\n",
       "</table>\n",
       "</div>"
      ],
      "text/plain": [
       "Empty DataFrame\n",
       "Columns: [Bedrooms, Bathrooms, SquareFootageHouse, Location, Age, PoolQuality, HasPhotovoltaics, HeatingType, HasFiberglass, IsFurnished, DateSinceForSale, HouseColor, PreviousOwnerName, HasFireplace, KitchensQuality, BathroomsQuality, BedroomsQuality, LivingRoomsQuality, SquareFootageGarden, PreviousOwnerRating, HeatingCosts, WindowModelNames, Price, NaCount]\n",
       "Index: []"
      ]
     },
     "execution_count": 9,
     "metadata": {},
     "output_type": "execute_result"
    }
   ],
   "source": [
    "df.loc[df.duplicated()]\n",
    "# No duplicate rows "
   ]
  },
  {
   "cell_type": "markdown",
   "metadata": {},
   "source": [
    "#### Output of all cases with SquareFootageHouse <0"
   ]
  },
  {
   "cell_type": "code",
   "execution_count": null,
   "metadata": {},
   "outputs": [],
   "source": [
    "# Count the cases where 'SquareFootageHouse       ' is smaller than 0\n",
    "negative_square_footage_house_count = (df['SquareFootageHouse'] < 0).sum()\n",
    "\n",
    "# Display the count\n",
    "print(\"Number of cases where SquareFootageHouse is smaller than 0:\", negative_square_footage_house_count)\n",
    "\n",
    "# Filter the DataFrame to get rows where 'SquareFootageHouse' is smaller than 0\n",
    "negative_square_footage_house_cases = df[df['SquareFootageHouse'] < 0]\n",
    "# Print the cases where 'SquareFootageHouse       ' is smaller than 0\n",
    "print(\"Cases where SquareFootageHouse  is smaller than 0:\")\n",
    "print(negative_square_footage_house_cases)\n",
    "\n",
    "# There are 8 cases\n",
    "# I would suggest to simply make them positive (Could be just a typo)\n",
    "\n",
    "\n",
    "# Correcting negative values in the SquareFootageHouse column # Paul\n",
    "df.loc[df['SquareFootageHouse'] < 0, 'SquareFootageHouse'] = df['SquareFootageHouse'] * -1\n",
    "print(f\"Remaining number of houses with negative Square Footage: {(df['SquareFootageHouse'] < 0).sum()}\")"
   ]
  },
  {
   "cell_type": "markdown",
   "metadata": {},
   "source": [
    "#### Output of all cases with Age <0"
   ]
  },
  {
   "cell_type": "code",
   "execution_count": null,
   "metadata": {},
   "outputs": [],
   "source": [
    "# Count the cases where 'Age' is smaller than 0\n",
    "negative_age_house_count = (df['Age'] < 0).sum()\n",
    "# Display the count\n",
    "print(\"Number of cases where Age is smaller than 0:\", negative_age_house_count)\n",
    "\n",
    "# Filter the DataFrame to get rows where 'Age' is smaller than 0\n",
    "negative_age_house_cases = df[df['Age'] < 0]\n",
    "# Print the cases where 'Age' is smaller than 0\n",
    "print(\"Cases where Age  is smaller than 0:\")\n",
    "print(negative_age_house_cases)\n",
    "\n",
    "# There are 12 cases\n",
    "# I would suggest to simply make them positive (Could be just a typo)\n",
    "# Everything else seems okay\n",
    "\n",
    "# Correcting negative values in the Age column  # Paul\n",
    "df.loc[df['Age'] < 0, 'Age'] = df['Age'] * -1\n",
    "\n",
    "print(f\"Remaining number of houses with negative age: {(df['Age'] < 0).sum()}\")\n"
   ]
  },
  {
   "cell_type": "markdown",
   "metadata": {},
   "source": [
    "#### Output of all cases with HeatingCost <0"
   ]
  },
  {
   "cell_type": "code",
   "execution_count": null,
   "metadata": {},
   "outputs": [],
   "source": [
    "# Count the cases where 'HeatingCost' is smaller than 0\n",
    "negative_heating_cost_count = (df['HeatingCosts'] < 0).sum()\n",
    "# Display the count\n",
    "print(\"Number of cases where Age is smaller than 0:\", negative_heating_cost_count)\n",
    "\n",
    "# Filter the DataFrame to get rows where 'HeatingCost' is smaller than 0\n",
    "negative_heating_cost_cases = df[df['HeatingCosts'] < 0]\n",
    "# Print the cases where 'HeatingCost' is smaller than 0\n",
    "print(\"Cases where HeatingCost  is smaller than 0:\")\n",
    "print(negative_heating_cost_cases)\n",
    "\n",
    "# There are 5 cases \n",
    "# I would suggest to simply make them positive (Could be just a typo)\n",
    "# Everything else seems okay # Nik\n",
    "\n",
    "# Correcting negative values in the HeatingCosts column  # Paul\n",
    "df.loc[df['HeatingCosts'] < 0, 'HeatingCosts'] = df['HeatingCosts'] * -1\n",
    "\n",
    "print(f\"Remaining number of houses with negative heating costs: {(df['HeatingCosts'] < 0).sum()}\")"
   ]
  },
  {
   "cell_type": "markdown",
   "metadata": {},
   "source": [
    "#### Comparison of Age and DateSinceForSale"
   ]
  },
  {
   "cell_type": "code",
   "execution_count": null,
   "metadata": {},
   "outputs": [],
   "source": [
    "# Extracts the Year since the house is for sale\n",
    "df['Year'] = df['DateSinceForSale'].str.extract(r'(\\d{4})')\n",
    "# Converting the 'Year' column to numeric # Paul\n",
    "df['Year'] = pd.to_numeric(df['Year'], errors='coerce')\n",
    "\n",
    "# Calculates the Year, the house was build in\n",
    "df['NewAge'] =  2024 - df['Age'] \n",
    "\n",
    "# Subtracts Age the house was build in from the Year since sale, to look for anomalies\n",
    "result = df[df['Year'] < df['NewAge']]\n",
    "print(result)\n",
    "\n",
    "# Shows no errors/anomalies in the code, expect the cases with negative Age \n",
    "# and houses that were build this year and were put up for sale"
   ]
  },
  {
   "cell_type": "markdown",
   "metadata": {},
   "source": [
    "Calculating General Square Footage"
   ]
  },
  {
   "cell_type": "code",
   "execution_count": 14,
   "metadata": {},
   "outputs": [
    {
     "name": "stdout",
     "output_type": "stream",
     "text": [
      "count     995.000000\n",
      "mean      195.939698\n",
      "std       819.625602\n",
      "min        25.000000\n",
      "25%        66.000000\n",
      "50%        97.000000\n",
      "75%       128.000000\n",
      "max      8608.000000\n",
      "Name: general_square_footage, dtype: float64\n"
     ]
    }
   ],
   "source": [
    "#Overall Square Footage\n",
    "# Negative Outliners need to be corrected first!\n",
    "df['general_square_footage'] = df['SquareFootageHouse'] + df['SquareFootageGarden']\n",
    "print(df['general_square_footage'].describe())\n"
   ]
  },
  {
   "cell_type": "markdown",
   "metadata": {},
   "source": [
    "#### Recoding to numeric values "
   ]
  },
  {
   "cell_type": "markdown",
   "metadata": {},
   "source": [
    "Location"
   ]
  },
  {
   "cell_type": "code",
   "execution_count": 36,
   "metadata": {},
   "outputs": [],
   "source": [
    "df['Location'].replace('Rural', '1', inplace=True)\n",
    "df['Location'].replace('Suburban', '2', inplace=True)\n",
    "df['Location'].replace('Urban', '3', inplace=True)\n",
    "# ['Rural', 'Suburban', 'Suburbann', 'Urban'] \n",
    "df['Location_numeric'] = pd.to_numeric(df['Location'], errors='coerce')"
   ]
  },
  {
   "cell_type": "markdown",
   "metadata": {},
   "source": [
    "Heating Types"
   ]
  },
  {
   "cell_type": "code",
   "execution_count": 38,
   "metadata": {},
   "outputs": [],
   "source": [
    "df['HeatingType'].replace('Electric', '1', inplace=True)\n",
    "df['HeatingType'].replace('Gas', '2', inplace=True)\n",
    "df['HeatingType'].replace('Oil', '3', inplace=True)\n",
    "df['HeatingType_numeric'] = pd.to_numeric(df['HeatingType'], errors='coerce')"
   ]
  },
  {
   "cell_type": "markdown",
   "metadata": {},
   "source": [
    "Booleans to Numeric"
   ]
  },
  {
   "cell_type": "code",
   "execution_count": 45,
   "metadata": {},
   "outputs": [],
   "source": [
    "# Convert custom strings to booleans\n",
    "df['HasPhotovoltaics'] = df['HasPhotovoltaics'].astype(bool)\n",
    "df['HasFiberglass'] = df['HasFiberglass'].astype(bool)\n",
    "df['IsFurnished'] = df['IsFurnished'].astype(bool)\n",
    "df['HasFireplace'] = df['HasFireplace'].astype(bool)"
   ]
  },
  {
   "cell_type": "code",
   "execution_count": 48,
   "metadata": {},
   "outputs": [],
   "source": [
    "df['HasPhotovoltaics_numeric'] = df['HasPhotovoltaics'].astype(float)\n",
    "df['HasFiberglass_numeric'] = df['HasFiberglass'].astype(float)\n",
    "df['IsFurnished_numeric'] = df['IsFurnished'].astype(float)\n",
    "df['HasFireplace_numeric'] = df['HasFireplace'].astype(float)"
   ]
  },
  {
   "cell_type": "markdown",
   "metadata": {},
   "source": [
    "#### Calculating Room Count"
   ]
  },
  {
   "cell_type": "code",
   "execution_count": 15,
   "metadata": {},
   "outputs": [],
   "source": [
    "# Overall Room Count \n",
    "# Negative Outliners need to be corrected first! \n",
    "df['Rooms'] = df['Bedrooms'] + df['Bathrooms'] \n",
    "#print(df['Rooms'].describe()) \n",
    "#df['Rooms'] "
   ]
  },
  {
   "cell_type": "markdown",
   "metadata": {},
   "source": [
    "#### Calculating Overall House Quality"
   ]
  },
  {
   "cell_type": "code",
   "execution_count": 20,
   "metadata": {},
   "outputs": [],
   "source": [
    "# Overall House Quality\n",
    "# Quality Categories need to be converted to numeric values\n",
    "category_map = {'Excellent': 3, 'Good': 2, 'Poor': 1}\n",
    "\n",
    "# Convert categorical values to numerical values\n",
    "df[\"PoolQuality\"] = df[\"PoolQuality\"].replace(category_map)\n",
    "df[\"KitchensQuality\"] = df[\"KitchensQuality\"].replace(category_map)\n",
    "df[\"BathroomsQuality\"] = df[\"BathroomsQuality\"].replace(category_map)\n",
    "df[\"BedroomsQuality\"] = df[\"BedroomsQuality\"].replace(category_map)\n",
    "df[\"LivingRoomsQuality\"] = df[\"LivingRoomsQuality\"].replace(category_map)\n",
    "\n",
    "# Calculate average score across columns\n",
    "df[\"overall_quality\"] = df[\"PoolQuality\"] + df[\"KitchensQuality\"] + df[\"BathroomsQuality\"] + df[\"BedroomsQuality\"] + df[\"LivingRoomsQuality\"] \n",
    "#print(df[\"overall_quality\"].describe())\n",
    "\n",
    "# Count the number of non-missing values for each row\n",
    "num_non_missing_values = df[[\"PoolQuality\", \"KitchensQuality\", \"BathroomsQuality\", \"BedroomsQuality\", \"LivingRoomsQuality\"]].notnull().sum(axis=1)\n",
    "#num_non_missing_values.describe()\n",
    "\n",
    "# Calculate the average overall quality score\n",
    "df[\"average_overall_quality\"] = df[\"overall_quality\"] / num_non_missing_values.replace(0, np.nan)  # Replace 0 with NaN to handle division by zero\n",
    "\n",
    "# Print summary statistics of the average overall quality score\n",
    "#print(df[\"average_overall_quality\"].describe())"
   ]
  },
  {
   "cell_type": "markdown",
   "metadata": {},
   "source": [
    "### Handling NA's\n",
    "\n",
    "#### Creating variable 'HasPool' Assuming Houses with Pool Quality = NA don't have a pool"
   ]
  },
  {
   "cell_type": "code",
   "execution_count": 17,
   "metadata": {},
   "outputs": [],
   "source": [
    "# Create a new column 'HasPool' based on the presence of 'PoolQuality'\n",
    "df['HasPool'] = df['PoolQuality'].notna().astype(int)"
   ]
  },
  {
   "cell_type": "markdown",
   "metadata": {},
   "source": [
    "#### 1: Try to predict NA's based off location\n",
    "\n",
    "##### Difficulty: how to treat extreme values\n",
    "-> for training the model, values below 3 SD are not included"
   ]
  },
  {
   "cell_type": "code",
   "execution_count": 18,
   "metadata": {},
   "outputs": [
    {
     "name": "stdout",
     "output_type": "stream",
     "text": [
      "Extreme Prices:\n",
      "          Price  SquareFootageHouse\n",
      "13   3456.1926                74.0\n",
      "114  3064.1810                66.0\n",
      "244  2506.0022               112.0\n",
      "419  5041.2354               136.0\n",
      "439  6050.5916                76.0\n",
      "458  2578.1786                41.0\n",
      "561  3620.8370               108.0\n",
      "566  4229.2804                48.0\n",
      "604  3419.3726                77.0\n",
      "625  4311.0886                79.0\n",
      "698  1688.5490               106.0\n",
      "814  2749.9452                91.0\n",
      "877  2733.1256                81.0\n",
      "906  2045.7770                66.0\n",
      "935  3353.4360                61.0\n",
      "970  2032.4594                28.0\n",
      "Extreme Square Feet:\n",
      "          Price  SquareFootageHouse\n",
      "14    51.50734              5871.0\n",
      "94   118.74909              6653.0\n",
      "183  528.42211              8578.0\n",
      "209  191.94354              6641.0\n",
      "272  177.42720              8403.0\n",
      "287  301.07468              6997.0\n",
      "469  113.91137              5842.0\n",
      "482   90.84932              5747.0\n",
      "515  133.81882              8223.0\n",
      "555  166.75554              5310.0\n",
      "556   89.37498              7436.0\n",
      "558  132.92976              6440.0\n",
      "763  209.99847              7804.0\n",
      "990  292.07195              7314.0\n"
     ]
    }
   ],
   "source": [
    "# Identify outliers for Price and Squarefootage\n",
    "\n",
    "# Calculate mean and standard deviation\n",
    "price_mean = df['Price'].mean()\n",
    "price_std = df['Price'].std()\n",
    "square_feet_mean = df['SquareFootageHouse'].mean()\n",
    "square_feet_std = df['SquareFootageHouse'].std()\n",
    "\n",
    "# Define bounds for being within 3 standard deviations\n",
    "price_upper_bound = price_mean + 3 * price_std\n",
    "price_lower_bound = price_mean - 3 * price_std\n",
    "square_feet_upper_bound = square_feet_mean + 3 * square_feet_std\n",
    "square_feet_lower_bound = square_feet_mean - 3 * square_feet_std\n",
    "\n",
    "# Filter data for outliers\n",
    "extreme_prices = df[(df['Price'] > price_upper_bound) | (df['Price'] < price_lower_bound)]\n",
    "extreme_square_feet = df[(df['SquareFootageHouse'] > square_feet_upper_bound) | \n",
    "                           (df['SquareFootageHouse'] < square_feet_lower_bound)]\n",
    "\n",
    "# Print results\n",
    "print(\"Extreme Prices:\\n\", extreme_prices[['Price', 'SquareFootageHouse']])\n",
    "print(\"Extreme Square Feet:\\n\", extreme_square_feet[['Price', 'SquareFootageHouse']])\n",
    "\n",
    "df_filtered_price_sf = df[\n",
    "    (df['Price'] >= price_lower_bound) & (df['Price'] <= price_upper_bound) &\n",
    "    (df['SquareFootageHouse'] >= square_feet_lower_bound) & \n",
    "    (df['SquareFootageHouse'] <= square_feet_upper_bound)\n",
    "]\n"
   ]
  },
  {
   "cell_type": "code",
   "execution_count": 19,
   "metadata": {},
   "outputs": [
    {
     "ename": "TypeError",
     "evalue": "OneHotEncoder.__init__() got an unexpected keyword argument 'sparse'",
     "output_type": "error",
     "traceback": [
      "\u001b[1;31m---------------------------------------------------------------------------\u001b[0m",
      "\u001b[1;31mTypeError\u001b[0m                                 Traceback (most recent call last)",
      "Cell \u001b[1;32mIn[19], line 6\u001b[0m\n\u001b[0;32m      3\u001b[0m y \u001b[38;5;241m=\u001b[39m df[\u001b[38;5;124m'\u001b[39m\u001b[38;5;124mLocation\u001b[39m\u001b[38;5;124m'\u001b[39m]\n\u001b[0;32m      5\u001b[0m \u001b[38;5;66;03m# Encoding the categorical data\u001b[39;00m\n\u001b[1;32m----> 6\u001b[0m encoder \u001b[38;5;241m=\u001b[39m \u001b[43mOneHotEncoder\u001b[49m\u001b[43m(\u001b[49m\u001b[43msparse\u001b[49m\u001b[38;5;241;43m=\u001b[39;49m\u001b[38;5;28;43;01mFalse\u001b[39;49;00m\u001b[43m)\u001b[49m\n\u001b[0;32m      7\u001b[0m y_encoded \u001b[38;5;241m=\u001b[39m encoder\u001b[38;5;241m.\u001b[39mfit_transform(y\u001b[38;5;241m.\u001b[39mvalues\u001b[38;5;241m.\u001b[39mreshape(\u001b[38;5;241m-\u001b[39m\u001b[38;5;241m1\u001b[39m, \u001b[38;5;241m1\u001b[39m))\n\u001b[0;32m      8\u001b[0m target_names \u001b[38;5;241m=\u001b[39m [\u001b[38;5;28mstr\u001b[39m(name) \u001b[38;5;28;01mfor\u001b[39;00m name \u001b[38;5;129;01min\u001b[39;00m encoder\u001b[38;5;241m.\u001b[39mcategories_[\u001b[38;5;241m0\u001b[39m]]  \u001b[38;5;66;03m# Converting categories to strings immediately\u001b[39;00m\n",
      "\u001b[1;31mTypeError\u001b[0m: OneHotEncoder.__init__() got an unexpected keyword argument 'sparse'"
     ]
    }
   ],
   "source": [
    "\n",
    "#defining independent and dependent variables\n",
    "X = df[['SquareFootageHouse', 'Price']]\n",
    "y = df['Location']\n",
    "\n",
    "# Encoding the categorical data\n",
    "encoder = OneHotEncoder(sparse=False)\n",
    "y_encoded = encoder.fit_transform(y.values.reshape(-1, 1))\n",
    "target_names = [str(name) for name in encoder.categories_[0]]  # Converting categories to strings immediately\n",
    "\n",
    "# Splitting the dataset into training and testing sets: 20% for testing; 80% for training\n",
    "X_train, X_test, y_train, y_test = train_test_split(X, y_encoded, test_size=0.2, random_state=42)\n",
    "\n",
    "# Convert one-hot encoded y_train and y_test back to label encoded\n",
    "y_train_label = np.argmax(y_train, axis=1)\n",
    "y_test_label = np.argmax(y_test, axis=1)\n",
    "\n",
    "# Create and train the logistic regression model\n",
    "model = LogisticRegression()\n",
    "model.fit(X_train, y_train_label)\n",
    "\n",
    "# Predicting and evaluating the model\n",
    "y_pred = model.predict(X_test)\n",
    "print(classification_report(y_test_label, y_pred, target_names=target_names))"
   ]
  },
  {
   "cell_type": "markdown",
   "metadata": {},
   "source": [
    "#### Conclusion for location:\n",
    "The prediction of location was not satisfying. We should not try to replace NA's with predictions.\n",
    "\n",
    "Na's will be replaced by Median values"
   ]
  },
  {
   "cell_type": "code",
   "execution_count": 53,
   "metadata": {},
   "outputs": [],
   "source": [
    "float_columns = df.select_dtypes(include=['float64']).columns\n",
    "df_float = df[float_columns]\n",
    "df_median = df_float.fillna(df_float.median())"
   ]
  },
  {
   "cell_type": "code",
   "execution_count": 57,
   "metadata": {},
   "outputs": [],
   "source": [
    "df = df_median.copy()"
   ]
  },
  {
   "cell_type": "markdown",
   "metadata": {},
   "source": [
    "## 3:"
   ]
  }
 ],
 "metadata": {
  "kernelspec": {
   "display_name": "Python 3",
   "language": "python",
   "name": "python3"
  },
  "language_info": {
   "codemirror_mode": {
    "name": "ipython",
    "version": 3
   },
   "file_extension": ".py",
   "mimetype": "text/x-python",
   "name": "python",
   "nbconvert_exporter": "python",
   "pygments_lexer": "ipython3",
   "version": "3.12.0"
  }
 },
 "nbformat": 4,
 "nbformat_minor": 2
}
