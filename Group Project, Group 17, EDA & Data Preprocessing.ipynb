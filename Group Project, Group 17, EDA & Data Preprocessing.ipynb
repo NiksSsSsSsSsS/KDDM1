{
 "cells": [
  {
   "cell_type": "markdown",
   "metadata": {},
   "source": [
    "# KDDM Group 17\n"
   ]
  },
  {
   "cell_type": "markdown",
   "metadata": {},
   "source": [
    "## 0: Package and data Import "
   ]
  },
  {
   "cell_type": "markdown",
   "metadata": {},
   "source": [
    "Importing and load necessary packages"
   ]
  },
  {
   "cell_type": "code",
   "execution_count": 5,
   "metadata": {},
   "outputs": [],
   "source": [
    "import os\n",
    "import pandas as pd\n",
    "import numpy as np\n",
    "import matplotlib.pylab as plt\n",
    "import seaborn as sns\n",
    "plt.style.use('ggplot')\n",
    "pd.set_option('display.max_columns', None)"
   ]
  },
  {
   "cell_type": "markdown",
   "metadata": {},
   "source": [
    "## 1: Data Understanding"
   ]
  },
  {
   "cell_type": "markdown",
   "metadata": {},
   "source": [
    "Set directory and load data"
   ]
  },
  {
   "cell_type": "code",
   "execution_count": 27,
   "metadata": {},
   "outputs": [],
   "source": [
    "# Change the current working directory\n",
    "os.chdir(\"C:/Users/schra/OneDrive/Dokumente/CSS/2. Semester/KDDM/Group Project, 17\")\n",
    "# Reading the CSV file into a DataFrame\n",
    "df = pd.read_csv('data_7.csv')"
   ]
  },
  {
   "cell_type": "markdown",
   "metadata": {},
   "source": [
    "Overview and summary of the data"
   ]
  },
  {
   "cell_type": "code",
   "execution_count": 85,
   "metadata": {},
   "outputs": [
    {
     "name": "stdout",
     "output_type": "stream",
     "text": [
      "         Bedrooms   Bathrooms  SquareFootageHouse         Age  \\\n",
      "count  618.000000  630.000000          995.000000  868.000000   \n",
      "mean     1.621359    1.658730          175.727638   43.324885   \n",
      "std      0.941909    0.922796          821.254214   18.770587   \n",
      "min      1.000000    1.000000         -895.000000  -94.000000   \n",
      "25%      1.000000    1.000000           53.000000   33.000000   \n",
      "50%      1.000000    1.000000           86.000000   45.000000   \n",
      "75%      2.000000    2.000000          116.000000   57.000000   \n",
      "max      5.000000    5.000000         8578.000000   71.000000   \n",
      "\n",
      "       SquareFootageGarden  PreviousOwnerRating  HeatingCosts        Price  \n",
      "count           995.000000           995.000000    516.000000   995.000000  \n",
      "mean             11.538693             2.576905    125.134496   253.826843  \n",
      "std               7.898836             0.894898    507.796163   428.592868  \n",
      "min               6.000000             1.000000   -443.000000    29.123820  \n",
      "25%               6.000000             1.870000     49.000000   128.396785  \n",
      "50%               6.000000             2.490000     76.900000   188.658440  \n",
      "75%              18.000000             3.165000    127.650000   270.963420  \n",
      "max              30.000000             4.970000   8292.000000  6050.591600  \n"
     ]
    }
   ],
   "source": [
    "df.shape\n",
    "#print(df.head())\n",
    "#print(df.info())\n",
    "\n",
    "# Summary Statistics\n",
    "print(df.describe())\n",
    "\n",
    "# Exportiert summary Tabelle\n",
    "#summary_stats = df.describe()\n",
    "#summary_stats.to_excel('summary_statistics.xlsx', index=True)\n"
   ]
  },
  {
   "cell_type": "markdown",
   "metadata": {},
   "source": [
    "## 2: Data Preparation"
   ]
  },
  {
   "cell_type": "markdown",
   "metadata": {},
   "source": [
    "Handling Missing data"
   ]
  },
  {
   "cell_type": "code",
   "execution_count": 29,
   "metadata": {},
   "outputs": [
    {
     "name": "stdout",
     "output_type": "stream",
     "text": [
      "   Bedrooms  Bathrooms  SquareFootageHouse   Location   Age PoolQuality  \\\n",
      "0       1.0        1.0                46.0  Suburbann  68.0         NaN   \n",
      "1       1.0        1.0                88.0  Suburbann  20.0         NaN   \n",
      "2       NaN        1.0               122.0      Urban  40.0         NaN   \n",
      "3       NaN        2.0               112.0      Rural  69.0         NaN   \n",
      "4       1.0        NaN                42.0        NaN  16.0   Excellent   \n",
      "\n",
      "  HasPhotovoltaics  HeatingType HasFiberglass IsFurnished DateSinceForSale  \\\n",
      "0              NaN          Gas         False        True       2024-02-04   \n",
      "1             True     Electric         False        True       2024-01-31   \n",
      "2              NaN          Gas         False        True       2023-08-30   \n",
      "3            False  Electricity          True        True       2023-03-18   \n",
      "4            False  Oil Heating         False       False       2023-07-26   \n",
      "\n",
      "  HouseColor PreviousOwnerName HasFireplace KitchensQuality BathroomsQuality  \\\n",
      "0     Yellow            Stefan        False            Good             Good   \n",
      "1      Green             Roman        False            Good             Good   \n",
      "2      Green           Natalie        False            Good             Good   \n",
      "3     Yellow             Denis        False       Excellent        Excellent   \n",
      "4       Gray             Roman        False            Good        Excellent   \n",
      "\n",
      "  BedroomsQuality LivingRoomsQuality  SquareFootageGarden  \\\n",
      "0       Excellent               Good                 13.0   \n",
      "1            Good          Excellent                  6.0   \n",
      "2            Poor               Good                  6.0   \n",
      "3       Excellent               Good                  6.0   \n",
      "4       Excellent               Poor                 30.0   \n",
      "\n",
      "   PreviousOwnerRating  HeatingCosts                 WindowModelNames  \\\n",
      "0                 1.65           NaN           J9DM Wood PDMC1 Window   \n",
      "1                 3.06           NaN          Aluminum 9XWSANM Window   \n",
      "2                 3.12           NaN          Aluminum OT6ZBRV Window   \n",
      "3                 4.27          67.2  ZUOV7S4 Aluminum I49HRNC Window   \n",
      "4                 1.41           NaN        MD1VKS Steel Y9DOV Window   \n",
      "\n",
      "       Price  \n",
      "0   96.41513  \n",
      "1   78.56870  \n",
      "2  184.70391  \n",
      "3  246.09376  \n",
      "4  241.27139  \n"
     ]
    }
   ],
   "source": [
    "# Handling Missing Values\n",
    "#print(df.isna().sum())\n",
    "\n",
    "#Drop na (HeatingType), removes the 5 missing values across all values\n",
    "df = df.dropna(how='all').copy()\n",
    "#print(df.isna().sum())\n",
    "print(df.head())\n",
    "\n",
    "#Remove all missing data\n",
    "# !! Not for Pool\n",
    "#df = df.dropna().copy()"
   ]
  },
  {
   "cell_type": "code",
   "execution_count": 50,
   "metadata": {},
   "outputs": [
    {
     "data": {
      "text/plain": [
       "(995, 23)"
      ]
     },
     "execution_count": 50,
     "metadata": {},
     "output_type": "execute_result"
    }
   ],
   "source": [
    "df.shape"
   ]
  },
  {
   "cell_type": "markdown",
   "metadata": {},
   "source": [
    "Data type transformation"
   ]
  },
  {
   "cell_type": "code",
   "execution_count": 59,
   "metadata": {},
   "outputs": [
    {
     "data": {
      "text/plain": [
       "['Gas', 'Electric', 'Gas', 'Electric', 'Oil', ..., 'Gas', 'Oil', 'Oil', 'Electric', 'Electric']\n",
       "Length: 995\n",
       "Categories (3, object): ['Electric', 'Gas', 'Oil']"
      ]
     },
     "execution_count": 59,
     "metadata": {},
     "output_type": "execute_result"
    }
   ],
   "source": [
    "# Location\n",
    "# There are 4 instead of 3 categories:\n",
    "# ['Rural', 'Suburban', 'Suburbann', 'Urban'] \n",
    "# The typo will be corrected and the data summarized\n",
    "df['Location'].replace('Suburbann', 'Suburban', inplace=True)\n",
    "pd.Categorical(df['Location'])\n",
    "\n",
    "# Heating Type\n",
    "# There are 5 instead of 3 categories:\n",
    "# ['Electric', 'Electricity', 'Gas', 'Oil', 'Oil Heating'] \n",
    "# The data will be summarized\n",
    "# ['Electric', 'Gas', 'Oil']\n",
    "df['HeatingType'].replace('Electricity', 'Electric', inplace=True)\n",
    "df['HeatingType'].replace('Oil Heating', 'Oil', inplace=True)\n",
    "pd.Categorical(df['HeatingType'])"
   ]
  },
  {
   "cell_type": "markdown",
   "metadata": {},
   "source": [
    "Test for categories"
   ]
  },
  {
   "cell_type": "code",
   "execution_count": 78,
   "metadata": {},
   "outputs": [
    {
     "name": "stdout",
     "output_type": "stream",
     "text": [
      "995\n",
      "Duplicate rows:\n",
      "Empty DataFrame\n",
      "Columns: [Bedrooms, Bathrooms, SquareFootageHouse, Location, Age, PoolQuality, HasPhotovoltaics, HeatingType, HasFiberglass, IsFurnished, DateSinceForSale, HouseColor, PreviousOwnerName, HasFireplace, KitchensQuality, BathroomsQuality, BedroomsQuality, LivingRoomsQuality, SquareFootageGarden, PreviousOwnerRating, HeatingCosts, WindowModelNames, Price]\n",
      "Index: []\n"
     ]
    }
   ],
   "source": [
    "# Pool Quality\n",
    "# 3 categories:\n",
    "# ['Excellent', 'Good', 'Poor']\n",
    "pd.Categorical(df['PoolQuality'])\n",
    "\n",
    "# Has Photovoltaics \n",
    "# Bool\n",
    "# [False, True]\n",
    "pd.Categorical(df['HasPhotovoltaics'])\n",
    "\n",
    "# Heating Type \n",
    "# 3 categories:\n",
    "# ['Excellent', 'Good', 'Poor']\n",
    "pd.Categorical(df['HeatingType'])\n",
    "\n",
    "# Has Fiberglass\n",
    "# Bool\n",
    "# [False, True]\n",
    "pd.Categorical(df['HasFiberglass'])\n",
    "\n",
    "# Is Furnished\n",
    "# Bool\n",
    "# [False, True]\n",
    "pd.Categorical(df['IsFurnished'])\n",
    "\n",
    "# House Color \n",
    "# 4 categories:\n",
    "# ['Gray', 'Green', 'White', 'Yellow']\n",
    "pd.Categorical(df['HouseColor'])\n",
    "\n",
    "# Has Fireplace \n",
    "# Bool\n",
    "# [False, True]\n",
    "pd.Categorical(df['HasFireplace'])\n",
    "\n",
    "# Kitchens Quality \n",
    "# 3 categories:\n",
    "# ['Excellent', 'Good', 'Poor']\n",
    "pd.Categorical(df['KitchensQuality'])\n",
    "\n",
    "# Bathrooms Quality \n",
    "# 3 categories:\n",
    "# ['Excellent', 'Good', 'Poor']\n",
    "pd.Categorical(df['BathroomsQuality'])\n",
    "\n",
    "# Bedrooms Quality \n",
    "# 3 categories:\n",
    "# ['Excellent', 'Good', 'Poor']\n",
    "pd.Categorical(df['BedroomsQuality'])\n",
    "\n",
    "# Livingrooms Quality \n",
    "# 3 categories:\n",
    "# ['Excellent', 'Good', 'Poor']\n",
    "pd.Categorical(df['LivingRoomsQuality'])\n",
    "\n",
    "# Previous Ownder Rating\n",
    "# 1.00 to 4.97\n",
    "# [1.00, 1.01, 1.02, 1.03, ..., 4.93, 4.94, 4.96, 4.97]\n",
    "pd.Categorical(df['PreviousOwnerRating'])\n",
    "\n",
    "# Window Model Names\n",
    "# Way too many categories\n",
    "# 995\n",
    "# Each house has its own category (No duplicates)\n",
    "pd.Categorical(df['WindowModelNames'])\n",
    "print(len(df['WindowModelNames']))\n",
    "duplicates_mask = df['WindowModelNames'].duplicated()\n",
    "duplicates_df = df[duplicates_mask]\n",
    "print(\"Duplicate rows:\")\n",
    "print(duplicates_df)"
   ]
  },
  {
   "cell_type": "markdown",
   "metadata": {},
   "source": [
    "Test for duplicates"
   ]
  },
  {
   "cell_type": "code",
   "execution_count": 82,
   "metadata": {},
   "outputs": [
    {
     "data": {
      "text/html": [
       "<div>\n",
       "<style scoped>\n",
       "    .dataframe tbody tr th:only-of-type {\n",
       "        vertical-align: middle;\n",
       "    }\n",
       "\n",
       "    .dataframe tbody tr th {\n",
       "        vertical-align: top;\n",
       "    }\n",
       "\n",
       "    .dataframe thead th {\n",
       "        text-align: right;\n",
       "    }\n",
       "</style>\n",
       "<table border=\"1\" class=\"dataframe\">\n",
       "  <thead>\n",
       "    <tr style=\"text-align: right;\">\n",
       "      <th></th>\n",
       "      <th>Bedrooms</th>\n",
       "      <th>Bathrooms</th>\n",
       "      <th>SquareFootageHouse</th>\n",
       "      <th>Location</th>\n",
       "      <th>Age</th>\n",
       "      <th>PoolQuality</th>\n",
       "      <th>HasPhotovoltaics</th>\n",
       "      <th>HeatingType</th>\n",
       "      <th>HasFiberglass</th>\n",
       "      <th>IsFurnished</th>\n",
       "      <th>DateSinceForSale</th>\n",
       "      <th>HouseColor</th>\n",
       "      <th>PreviousOwnerName</th>\n",
       "      <th>HasFireplace</th>\n",
       "      <th>KitchensQuality</th>\n",
       "      <th>BathroomsQuality</th>\n",
       "      <th>BedroomsQuality</th>\n",
       "      <th>LivingRoomsQuality</th>\n",
       "      <th>SquareFootageGarden</th>\n",
       "      <th>PreviousOwnerRating</th>\n",
       "      <th>HeatingCosts</th>\n",
       "      <th>WindowModelNames</th>\n",
       "      <th>Price</th>\n",
       "    </tr>\n",
       "  </thead>\n",
       "  <tbody>\n",
       "  </tbody>\n",
       "</table>\n",
       "</div>"
      ],
      "text/plain": [
       "Empty DataFrame\n",
       "Columns: [Bedrooms, Bathrooms, SquareFootageHouse, Location, Age, PoolQuality, HasPhotovoltaics, HeatingType, HasFiberglass, IsFurnished, DateSinceForSale, HouseColor, PreviousOwnerName, HasFireplace, KitchensQuality, BathroomsQuality, BedroomsQuality, LivingRoomsQuality, SquareFootageGarden, PreviousOwnerRating, HeatingCosts, WindowModelNames, Price]\n",
       "Index: []"
      ]
     },
     "execution_count": 82,
     "metadata": {},
     "output_type": "execute_result"
    }
   ],
   "source": [
    "df.loc[df.duplicated()]\n",
    "# No duplicate rows "
   ]
  },
  {
   "cell_type": "markdown",
   "metadata": {},
   "source": [
    "Output of all cases with SquareFootageHouse <0"
   ]
  },
  {
   "cell_type": "code",
   "execution_count": 83,
   "metadata": {},
   "outputs": [
    {
     "name": "stdout",
     "output_type": "stream",
     "text": [
      "Number of cases where SquareFootageHouse is smaller than 0: 8\n",
      "Cases where SquareFootageHouse  is smaller than 0:\n",
      "     Bedrooms  Bathrooms  SquareFootageHouse  Location   Age PoolQuality  \\\n",
      "48        2.0        3.0              -634.0     Rural  45.0        Poor   \n",
      "290       1.0        2.0              -658.0       NaN  54.0         NaN   \n",
      "316       1.0        1.0              -727.0     Rural  27.0         NaN   \n",
      "479       3.0        NaN              -682.0     Rural  46.0         NaN   \n",
      "481       2.0        1.0              -232.0     Urban  48.0         NaN   \n",
      "531       3.0        NaN              -265.0     Urban  23.0         NaN   \n",
      "778       1.0        NaN              -895.0  Suburban  15.0         NaN   \n",
      "971       NaN        NaN              -222.0     Rural   NaN         NaN   \n",
      "\n",
      "    HasPhotovoltaics HeatingType HasFiberglass IsFurnished DateSinceForSale  \\\n",
      "48             False    Electric          True        True       2021-06-20   \n",
      "290            False    Electric         False        True       2020-05-17   \n",
      "316            False         Oil          True        True       2020-10-28   \n",
      "479            False    Electric          True        True       2022-11-09   \n",
      "481             True         Oil         False        True       2022-01-10   \n",
      "531            False         Oil         False        True       2021-03-16   \n",
      "778            False    Electric         False        True       2023-03-16   \n",
      "971              NaN         Gas         False        True       2020-01-14   \n",
      "\n",
      "    HouseColor PreviousOwnerName HasFireplace KitchensQuality  \\\n",
      "48       Green           Natalie        False            Good   \n",
      "290     Yellow            Daniel        False       Excellent   \n",
      "316       Gray               NaN        False            Poor   \n",
      "479       Gray           Florian        False       Excellent   \n",
      "481      Green               NaN        False       Excellent   \n",
      "531      White           Sabrina        False            Poor   \n",
      "778      Green             Roman        False            Good   \n",
      "971       Gray           Theresa        False       Excellent   \n",
      "\n",
      "    BathroomsQuality BedroomsQuality LivingRoomsQuality  SquareFootageGarden  \\\n",
      "48         Excellent       Excellent               Good                 13.0   \n",
      "290        Excellent       Excellent               Poor                  6.0   \n",
      "316             Good            Good               Good                  6.0   \n",
      "479        Excellent            Poor          Excellent                  6.0   \n",
      "481             Poor            Good          Excellent                  6.0   \n",
      "531             Poor            Poor          Excellent                  6.0   \n",
      "778             Poor       Excellent               Poor                  6.0   \n",
      "971             Good            Good               Good                  6.0   \n",
      "\n",
      "     PreviousOwnerRating  HeatingCosts          WindowModelNames      Price  \n",
      "48                  1.70          61.8           5QFA Steel RBVP  391.18856  \n",
      "290                 4.04           NaN  RKSBC0 Steel BJBC Window  313.64935  \n",
      "316                 1.37           NaN            M60K Steel V8N  260.34790  \n",
      "479                 1.29           NaN           Aluminum OO0MM2  251.95490  \n",
      "481                 3.44         155.2           9M1 Steel S3K7I  287.15197  \n",
      "531                 2.55         161.6      Steel XB3M97C Window  282.78057  \n",
      "778                 1.82          13.8             Aluminum VNJB   34.56370  \n",
      "971                 1.28          30.0   G1I Wood 1MRQW6F Window  152.02114  \n"
     ]
    }
   ],
   "source": [
    "# Count the cases where 'SquareFootageHouse       ' is smaller than 0\n",
    "negative_square_footage_house_count = (df['SquareFootageHouse'] < 0).sum()\n",
    "# Display the count\n",
    "print(\"Number of cases where SquareFootageHouse is smaller than 0:\", negative_square_footage_house_count)\n",
    "\n",
    "# Filter the DataFrame to get rows where 'SquareFootageHouse' is smaller than 0\n",
    "negative_square_footage_house_cases = df[df['SquareFootageHouse'] < 0]\n",
    "# Print the cases where 'SquareFootageHouse       ' is smaller than 0\n",
    "print(\"Cases where SquareFootageHouse  is smaller than 0:\")\n",
    "print(negative_square_footage_house_cases)\n",
    "\n",
    "# There are 8 cases\n",
    "# I would suggest to simply make them positive (Could be just a typo)\n",
    "# Everything else seems okay"
   ]
  },
  {
   "cell_type": "markdown",
   "metadata": {},
   "source": [
    "Output of all cases with Age <0"
   ]
  },
  {
   "cell_type": "code",
   "execution_count": 86,
   "metadata": {},
   "outputs": [
    {
     "name": "stdout",
     "output_type": "stream",
     "text": [
      "Number of cases where Age is smaller than 0: 12\n",
      "Cases where Age  is smaller than 0:\n",
      "     Bedrooms  Bathrooms  SquareFootageHouse  Location   Age PoolQuality  \\\n",
      "69        NaN        2.0                64.0     Urban -14.0         NaN   \n",
      "172       2.0        1.0                81.0     Urban -43.0        Poor   \n",
      "174       2.0        1.0                98.0  Suburban  -1.0         NaN   \n",
      "201       2.0        3.0               111.0     Urban -32.0         NaN   \n",
      "236       2.0        1.0                92.0     Rural -94.0         NaN   \n",
      "274       1.0        1.0                88.0     Rural -34.0         NaN   \n",
      "324       NaN        2.0                90.0       NaN -64.0        Poor   \n",
      "371       NaN        3.0               112.0  Suburban -69.0        Good   \n",
      "470       NaN        NaN               136.0     Rural  -1.0        Good   \n",
      "656       1.0        NaN                27.0     Urban  -1.0         NaN   \n",
      "781       1.0        1.0                40.0       NaN -18.0   Excellent   \n",
      "793       1.0        1.0                37.0       NaN  -1.0         NaN   \n",
      "\n",
      "    HasPhotovoltaics HeatingType HasFiberglass IsFurnished DateSinceForSale  \\\n",
      "69              True    Electric         False        True       2022-04-10   \n",
      "172            False         Oil         False        True       2022-08-04   \n",
      "174             True    Electric         False        True       2022-02-15   \n",
      "201            False    Electric          True        True       2020-03-14   \n",
      "236             True    Electric          True        True       2020-06-11   \n",
      "274            False         Gas          True        True       2022-01-06   \n",
      "324            False    Electric         False       False       2022-03-16   \n",
      "371            False         Oil         False        True       2021-09-11   \n",
      "470            False    Electric         False       False       2020-10-05   \n",
      "656              NaN         Oil          True        True       2021-03-26   \n",
      "781            False         Oil         False        True       2020-04-22   \n",
      "793             True         Oil         False        True       2020-03-05   \n",
      "\n",
      "    HouseColor PreviousOwnerName HasFireplace KitchensQuality  \\\n",
      "69       White            Sandra        False            Good   \n",
      "172     Yellow             Denis        False       Excellent   \n",
      "174      White             Maria        False            Poor   \n",
      "201       Gray            Stefan        False       Excellent   \n",
      "236      Green            Daniel        False            Good   \n",
      "274      Green           Andreas        False            Good   \n",
      "324     Yellow           Sabrina        False            Good   \n",
      "371      White            Daniel        False            Poor   \n",
      "470      White           Natalie        False            Poor   \n",
      "656      White             Lukas        False       Excellent   \n",
      "781     Yellow            Stefan        False            Poor   \n",
      "793     Yellow           Natalie        False            Good   \n",
      "\n",
      "    BathroomsQuality BedroomsQuality LivingRoomsQuality  SquareFootageGarden  \\\n",
      "69              Poor       Excellent               Good                  6.0   \n",
      "172        Excellent            Poor               Good                 13.0   \n",
      "174             Good            Good               Good                  6.0   \n",
      "201        Excellent       Excellent          Excellent                  6.0   \n",
      "236             Poor            Poor               Good                  6.0   \n",
      "274             Poor       Excellent               Poor                  6.0   \n",
      "324             Good       Excellent          Excellent                 13.0   \n",
      "371             Good       Excellent               Good                 18.0   \n",
      "470        Excellent            Good          Excellent                 18.0   \n",
      "656             Good            Good               Good                  6.0   \n",
      "781             Good            Good               Good                 30.0   \n",
      "793             Poor            Good               Good                  6.0   \n",
      "\n",
      "     PreviousOwnerRating  HeatingCosts         WindowModelNames      Price  \n",
      "69                  2.25           NaN   FI9 Wood EMROKA Window  135.85347  \n",
      "172                 4.65         129.6   RYMVVA Wood 0F9 Window  242.03227  \n",
      "174                 3.70           NaN  Aluminum Z3PK0QJ Window   80.30705  \n",
      "201                 1.18          66.6   ZO14A Steel R7C Window  274.26260  \n",
      "236                 1.60           NaN           5U4 Steel RJXG  309.78986  \n",
      "274                 3.44          89.0               Wood FVFIO  269.54300  \n",
      "324                 1.84           NaN              Steel 3ZW9N  306.56834  \n",
      "371                 3.14         179.2            Steel LVGVD3C  211.94804  \n",
      "470                 3.31          81.0     Steel OBHHNOT Window  371.39670  \n",
      "656                 3.52          43.2       Steel R6S1D Window  200.78245  \n",
      "781                 4.47           NaN               Wood PWP6E  116.07669  \n",
      "793                 4.92          60.8  UWSGM1U Wood 3NG Window  140.39316  \n"
     ]
    }
   ],
   "source": [
    "# Count the cases where 'Age' is smaller than 0\n",
    "negative_age_house_count = (df['Age'] < 0).sum()\n",
    "# Display the count\n",
    "print(\"Number of cases where Age is smaller than 0:\", negative_age_house_count)\n",
    "\n",
    "# Filter the DataFrame to get rows where 'Age' is smaller than 0\n",
    "negative_age_house_cases = df[df['Age'] < 0]\n",
    "# Print the cases where 'Age' is smaller than 0\n",
    "print(\"Cases where Age  is smaller than 0:\")\n",
    "print(negative_age_house_cases)\n",
    "\n",
    "# There are 12 cases\n",
    "# I would suggest to simply make them positive (Could be just a typo)\n",
    "# Everything else seems okay"
   ]
  },
  {
   "cell_type": "markdown",
   "metadata": {},
   "source": [
    "Output of all cases with HeatingCost <0"
   ]
  },
  {
   "cell_type": "code",
   "execution_count": 90,
   "metadata": {},
   "outputs": [
    {
     "name": "stdout",
     "output_type": "stream",
     "text": [
      "Number of cases where Age is smaller than 0: 5\n",
      "Cases where HeatingCost  is smaller than 0:\n",
      "     Bedrooms  Bathrooms  SquareFootageHouse  Location   Age PoolQuality  \\\n",
      "158       2.0        NaN                98.0     Rural  37.0         NaN   \n",
      "228       2.0        NaN                99.0     Urban  50.0   Excellent   \n",
      "666       2.0        2.0               100.0       NaN  36.0        Good   \n",
      "895       2.0        1.0                67.0     Urban  40.0        Good   \n",
      "924       1.0        1.0                40.0  Suburban  33.0         NaN   \n",
      "\n",
      "    HasPhotovoltaics HeatingType HasFiberglass IsFurnished DateSinceForSale  \\\n",
      "158            False    Electric         False       False       2022-12-15   \n",
      "228             True    Electric         False        True       2021-01-30   \n",
      "666            False         Oil         False       False       2023-02-20   \n",
      "895            False         Gas         False        True       2021-04-24   \n",
      "924             True    Electric          True        True       2023-04-03   \n",
      "\n",
      "    HouseColor PreviousOwnerName HasFireplace KitchensQuality  \\\n",
      "158     Yellow             Maria        False            Poor   \n",
      "228      Green            Martin        False       Excellent   \n",
      "666       Gray            Stefan        False       Excellent   \n",
      "895       Gray           Andreas        False       Excellent   \n",
      "924      White               NaN        False       Excellent   \n",
      "\n",
      "    BathroomsQuality BedroomsQuality LivingRoomsQuality  SquareFootageGarden  \\\n",
      "158             Good            Poor          Excellent                  6.0   \n",
      "228             Good            Poor          Excellent                 30.0   \n",
      "666             Good            Poor               Good                 18.0   \n",
      "895        Excellent            Poor          Excellent                 18.0   \n",
      "924             Good            Poor               Good                 30.0   \n",
      "\n",
      "     PreviousOwnerRating  HeatingCosts          WindowModelNames      Price  \n",
      "158                 3.73        -153.0       Aluminum I3J Window  151.75748  \n",
      "228                 2.16        -429.0   KJDZ2T Aluminum 8QIY24N  194.68713  \n",
      "666                 1.53        -421.0  ASRR Steel 4NR0N3 Window  391.29628  \n",
      "895                 2.26        -188.0         SOW Steel VKQ5239  257.89198  \n",
      "924                 3.00        -443.0   Aluminum RE21OFP Window   92.06353  \n"
     ]
    }
   ],
   "source": [
    "# Count the cases where 'HeatingCost' is smaller than 0\n",
    "negative_heating_cost_count = (df['HeatingCosts'] < 0).sum()\n",
    "# Display the count\n",
    "print(\"Number of cases where Age is smaller than 0:\", negative_heating_cost_count)\n",
    "\n",
    "# Filter the DataFrame to get rows where 'HeatingCost' is smaller than 0\n",
    "negative_heating_cost_cases = df[df['HeatingCosts'] < 0]\n",
    "# Print the cases where 'HeatingCost' is smaller than 0\n",
    "print(\"Cases where HeatingCost  is smaller than 0:\")\n",
    "print(negative_heating_cost_cases)\n",
    "\n",
    "# There are 5 cases \n",
    "# I would suggest to simply make them positive (Could be just a typo)\n",
    "# Everything else seems okay"
   ]
  },
  {
   "cell_type": "markdown",
   "metadata": {},
   "source": [
    "Comparison of Age and DateSinceForSale"
   ]
  },
  {
   "cell_type": "code",
   "execution_count": 116,
   "metadata": {},
   "outputs": [
    {
     "name": "stdout",
     "output_type": "stream",
     "text": [
      "     Bedrooms  Bathrooms  SquareFootageHouse  Location   Age PoolQuality  \\\n",
      "69        NaN        2.0                64.0     Urban -14.0         NaN   \n",
      "172       2.0        1.0                81.0     Urban -43.0        Poor   \n",
      "174       2.0        1.0                98.0  Suburban  -1.0         NaN   \n",
      "201       2.0        3.0               111.0     Urban -32.0         NaN   \n",
      "236       2.0        1.0                92.0     Rural -94.0         NaN   \n",
      "248       NaN        2.0                82.0     Rural   3.0         NaN   \n",
      "274       1.0        1.0                88.0     Rural -34.0         NaN   \n",
      "289       1.0        NaN                58.0     Rural   0.0         NaN   \n",
      "324       NaN        2.0                90.0       NaN -64.0        Poor   \n",
      "371       NaN        3.0               112.0  Suburban -69.0        Good   \n",
      "437       2.0        2.0                66.0  Suburban   0.0   Excellent   \n",
      "470       NaN        NaN               136.0     Rural  -1.0        Good   \n",
      "656       1.0        NaN                27.0     Urban  -1.0         NaN   \n",
      "781       1.0        1.0                40.0       NaN -18.0   Excellent   \n",
      "793       1.0        1.0                37.0       NaN  -1.0         NaN   \n",
      "887       1.0        NaN                59.0  Suburban   1.0        Poor   \n",
      "956       2.0        2.0                90.0  Suburban   0.0         NaN   \n",
      "976       3.0        NaN               146.0  Suburban   0.0        Good   \n",
      "\n",
      "    HasPhotovoltaics HeatingType HasFiberglass IsFurnished DateSinceForSale  \\\n",
      "69              True    Electric         False        True       2022-04-10   \n",
      "172            False         Oil         False        True       2022-08-04   \n",
      "174             True    Electric         False        True       2022-02-15   \n",
      "201            False    Electric          True        True       2020-03-14   \n",
      "236             True    Electric          True        True       2020-06-11   \n",
      "248            False    Electric         False        True       2020-09-23   \n",
      "274            False         Gas          True        True       2022-01-06   \n",
      "289            False         Gas         False        True       2021-12-17   \n",
      "324            False    Electric         False       False       2022-03-16   \n",
      "371            False         Oil         False        True       2021-09-11   \n",
      "437            False         Gas          True        True       2022-10-15   \n",
      "470            False    Electric         False       False       2020-10-05   \n",
      "656              NaN         Oil          True        True       2021-03-26   \n",
      "781            False         Oil         False        True       2020-04-22   \n",
      "793             True         Oil         False        True       2020-03-05   \n",
      "887            False    Electric          True        True       2020-04-20   \n",
      "956            False         Oil         False       False       2023-01-16   \n",
      "976            False    Electric          True        True       2020-10-10   \n",
      "\n",
      "    HouseColor PreviousOwnerName HasFireplace KitchensQuality  \\\n",
      "69       White            Sandra        False            Good   \n",
      "172     Yellow             Denis        False       Excellent   \n",
      "174      White             Maria        False            Poor   \n",
      "201       Gray            Stefan        False       Excellent   \n",
      "236      Green            Daniel        False            Good   \n",
      "248      White            Stefan        False            Poor   \n",
      "274      Green           Andreas        False            Good   \n",
      "289      Green               NaN        False       Excellent   \n",
      "324     Yellow           Sabrina        False            Good   \n",
      "371      White            Daniel        False            Poor   \n",
      "437     Yellow             Roman        False            Good   \n",
      "470      White           Natalie        False            Poor   \n",
      "656      White             Lukas        False       Excellent   \n",
      "781     Yellow            Stefan        False            Poor   \n",
      "793     Yellow           Natalie        False            Good   \n",
      "887     Yellow            Stefan        False            Good   \n",
      "956      Green           Andreas        False       Excellent   \n",
      "976      Green             Lukas        False            Good   \n",
      "\n",
      "    BathroomsQuality BedroomsQuality LivingRoomsQuality  SquareFootageGarden  \\\n",
      "69              Poor       Excellent               Good                  6.0   \n",
      "172        Excellent            Poor               Good                 13.0   \n",
      "174             Good            Good               Good                  6.0   \n",
      "201        Excellent       Excellent          Excellent                  6.0   \n",
      "236             Poor            Poor               Good                  6.0   \n",
      "248             Good            Good          Excellent                  6.0   \n",
      "274             Poor       Excellent               Poor                  6.0   \n",
      "289             Good            Good               Poor                 18.0   \n",
      "324             Good       Excellent          Excellent                 13.0   \n",
      "371             Good       Excellent               Good                 18.0   \n",
      "437             Good            Poor               Good                 30.0   \n",
      "470        Excellent            Good          Excellent                 18.0   \n",
      "656             Good            Good               Good                  6.0   \n",
      "781             Good            Good               Good                 30.0   \n",
      "793             Poor            Good               Good                  6.0   \n",
      "887        Excellent            Good          Excellent                 13.0   \n",
      "956        Excellent       Excellent               Poor                  6.0   \n",
      "976             Good       Excellent               Poor                 18.0   \n",
      "\n",
      "     PreviousOwnerRating  HeatingCosts            WindowModelNames      Price  \\\n",
      "69                  2.25           NaN      FI9 Wood EMROKA Window  135.85347   \n",
      "172                 4.65         129.6      RYMVVA Wood 0F9 Window  242.03227   \n",
      "174                 3.70           NaN     Aluminum Z3PK0QJ Window   80.30705   \n",
      "201                 1.18          66.6      ZO14A Steel R7C Window  274.26260   \n",
      "236                 1.60           NaN              5U4 Steel RJXG  309.78986   \n",
      "248                 3.72          49.2  3NY33U Steel RBTBSO Window  306.37479   \n",
      "274                 3.44          89.0                  Wood FVFIO  269.54300   \n",
      "289                 2.06          59.0       Aluminum F6TGD Window  205.05907   \n",
      "324                 1.84           NaN                 Steel 3ZW9N  306.56834   \n",
      "371                 3.14         179.2               Steel LVGVD3C  211.94804   \n",
      "437                 4.63           NaN                Steel ISBCS1  184.94654   \n",
      "470                 3.31          81.0        Steel OBHHNOT Window  371.39670   \n",
      "656                 3.52          43.2          Steel R6S1D Window  200.78245   \n",
      "781                 4.47           NaN                  Wood PWP6E  116.07669   \n",
      "793                 4.92          60.8     UWSGM1U Wood 3NG Window  140.39316   \n",
      "887                 3.66           NaN             Wood Z8T Window  109.52799   \n",
      "956                 2.54           NaN             Aluminum 7Y8043  101.11640   \n",
      "976                 2.32          88.8             Wood DD4 Window  176.79039   \n",
      "\n",
      "     Year  NewAge  NewAge1  \n",
      "69   2022  2038.0   2038.0  \n",
      "172  2022  2067.0   2067.0  \n",
      "174  2022  2025.0   2025.0  \n",
      "201  2020  2056.0   2056.0  \n",
      "236  2020  2118.0   2118.0  \n",
      "248  2020  2021.0   2021.0  \n",
      "274  2022  2058.0   2058.0  \n",
      "289  2021  2024.0   2024.0  \n",
      "324  2022  2088.0   2088.0  \n",
      "371  2021  2093.0   2093.0  \n",
      "437  2022  2024.0   2024.0  \n",
      "470  2020  2025.0   2025.0  \n",
      "656  2021  2025.0   2025.0  \n",
      "781  2020  2042.0   2042.0  \n",
      "793  2020  2025.0   2025.0  \n",
      "887  2020  2023.0   2023.0  \n",
      "956  2023  2024.0   2024.0  \n",
      "976  2020  2024.0   2024.0  \n"
     ]
    }
   ],
   "source": [
    "# Extracts the Year since the house is for sale\n",
    "df['Year'] = df['DateSinceForSale'].str.extract(r'(\\d{4})')\n",
    "# Calculates the Year, the house was build in\n",
    "df['NewAge'] =  2024 - df['Age'] \n",
    "\n",
    "# Subtracts Age the house was build in from the Year since sale, to look for anomalies\n",
    "result = df[df['Year'] < df['NewAge']]\n",
    "print(result)\n",
    "\n",
    "# Shows no errors/anomalies in the code, expect the cases with negative Age \n",
    "# and houses that were build this year and were put up for sale"
   ]
  },
  {
   "cell_type": "markdown",
   "metadata": {},
   "source": [
    "## 3:"
   ]
  }
 ],
 "metadata": {
  "kernelspec": {
   "display_name": "Python 3",
   "language": "python",
   "name": "python3"
  },
  "language_info": {
   "codemirror_mode": {
    "name": "ipython",
    "version": 3
   },
   "file_extension": ".py",
   "mimetype": "text/x-python",
   "name": "python",
   "nbconvert_exporter": "python",
   "pygments_lexer": "ipython3",
   "version": "3.12.0"
  }
 },
 "nbformat": 4,
 "nbformat_minor": 2
}
