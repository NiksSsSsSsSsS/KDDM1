{
 "cells": [
  {
   "cell_type": "markdown",
   "metadata": {},
   "source": [
    "# KDDM Group 17\n"
   ]
  },
  {
   "cell_type": "markdown",
   "metadata": {},
   "source": [
    "## 0: Package and df Import "
   ]
  },
  {
   "cell_type": "markdown",
   "metadata": {},
   "source": [
    "Importing and load necessary packages"
   ]
  },
  {
   "cell_type": "code",
   "execution_count": 2,
   "metadata": {},
   "outputs": [],
   "source": [
    "import os\n",
    "import pandas as pd\n",
    "import numpy as np\n",
    "import matplotlib.pylab as plt\n",
    "import seaborn as sns\n",
    "plt.style.use('ggplot')\n",
    "pd.set_option('display.max_columns', None)\n",
    "\n",
    "# For logistic regression\n",
    "from sklearn.model_selection import train_test_split  # Split df into training set\n",
    "from sklearn.linear_model import LogisticRegression # Using to predict category\n",
    "from sklearn.preprocessing import OneHotEncoder\n",
    "from sklearn.metrics import classification_report\n"
   ]
  },
  {
   "cell_type": "markdown",
   "metadata": {},
   "source": [
    "## 1: Data Understanding"
   ]
  },
  {
   "cell_type": "markdown",
   "metadata": {},
   "source": [
    "#### Set directory and load data"
   ]
  },
  {
   "cell_type": "code",
   "execution_count": 3,
   "metadata": {},
   "outputs": [],
   "source": [
    "# Reading the CSV file into a DataFrame\n",
    "df = pd.read_csv('data_7.csv')"
   ]
  },
  {
   "cell_type": "markdown",
   "metadata": {},
   "source": [
    "#### Overview and summary of the data"
   ]
  },
  {
   "cell_type": "code",
   "execution_count": 4,
   "metadata": {},
   "outputs": [
    {
     "name": "stdout",
     "output_type": "stream",
     "text": [
      "         Bedrooms   Bathrooms  SquareFootageHouse         Age  \\\n",
      "count  618.000000  630.000000          995.000000  868.000000   \n",
      "mean     1.621359    1.658730          175.727638   43.324885   \n",
      "std      0.941909    0.922796          821.254214   18.770587   \n",
      "min      1.000000    1.000000         -895.000000  -94.000000   \n",
      "25%      1.000000    1.000000           53.000000   33.000000   \n",
      "50%      1.000000    1.000000           86.000000   45.000000   \n",
      "75%      2.000000    2.000000          116.000000   57.000000   \n",
      "max      5.000000    5.000000         8578.000000   71.000000   \n",
      "\n",
      "       SquareFootageGarden  PreviousOwnerRating  HeatingCosts        Price  \n",
      "count           995.000000           995.000000    516.000000   995.000000  \n",
      "mean             11.538693             2.576905    125.134496   253.826843  \n",
      "std               7.898836             0.894898    507.796163   428.592868  \n",
      "min               6.000000             1.000000   -443.000000    29.123820  \n",
      "25%               6.000000             1.870000     49.000000   128.396785  \n",
      "50%               6.000000             2.490000     76.900000   188.658440  \n",
      "75%              18.000000             3.165000    127.650000   270.963420  \n",
      "max              30.000000             4.970000   8292.000000  6050.591600  \n"
     ]
    }
   ],
   "source": [
    "df.shape\n",
    "#print(df.head())\n",
    "#print(df.info())\n",
    "\n",
    "# Summary Statistics\n",
    "print(df.describe())\n",
    "\n",
    "# Exportiert summary Tabelle\n",
    "#summary_stats = df.describe()\n",
    "#summary_stats.to_excel('summary_statistics.xlsx', index=True)\n"
   ]
  },
  {
   "cell_type": "markdown",
   "metadata": {},
   "source": [
    "## 2: Data Preparation"
   ]
  },
  {
   "cell_type": "markdown",
   "metadata": {},
   "source": [
    "#### How are the NA's distributed?"
   ]
  },
  {
   "cell_type": "code",
   "execution_count": 5,
   "metadata": {},
   "outputs": [
    {
     "name": "stdout",
     "output_type": "stream",
     "text": [
      "Missing values count for each column:\n",
      "Bedrooms               377\n",
      "Bathrooms              365\n",
      "SquareFootageHouse       0\n",
      "Location               194\n",
      "Age                    127\n",
      "PoolQuality            643\n",
      "HasPhotovoltaics        79\n",
      "HeatingType              0\n",
      "HasFiberglass            0\n",
      "IsFurnished              0\n",
      "DateSinceForSale         0\n",
      "HouseColor               8\n",
      "PreviousOwnerName      146\n",
      "HasFireplace             0\n",
      "KitchensQuality          0\n",
      "BathroomsQuality         0\n",
      "BedroomsQuality          0\n",
      "LivingRoomsQuality       0\n",
      "SquareFootageGarden      0\n",
      "PreviousOwnerRating      0\n",
      "HeatingCosts           479\n",
      "WindowModelNames         0\n",
      "Price                    0\n",
      "dtype: int64\n"
     ]
    }
   ],
   "source": [
    "# Handling Missing Values\n",
    "#print(df.isna().sum())\n",
    "\n",
    "#Drop na (HeatingType), removes the 5 missing values across all values\n",
    "df = df.dropna(how='all').copy()\n",
    "#print(df.isna().sum())\n",
    "#print(df.head())\n",
    "\n",
    "#Remove all missing data\n",
    "# !! Not for Pool\n",
    "#df = df.dropna().copy()\n",
    "missing_values_count = df.isna().sum()\n",
    "print(\"Missing values count for each column:\")\n",
    "print(missing_values_count)"
   ]
  },
  {
   "cell_type": "code",
   "execution_count": 36,
   "metadata": {},
   "outputs": [
    {
     "data": {
      "image/png": "[encoded data removed]",
      "text/plain": [
       "<Figure size 800x600 with 1 Axes>"
      ]
     },
     "metadata": {},
     "output_type": "display_data"
    }
   ],
   "source": [
    "\n",
    "# Create column counting NA's\n",
    "df['NaCount'] = df.isna().sum(axis=1)\n",
    "\n",
    "\n",
    "# Plot a histogram for the 'NaCount' column\n",
    "plt.figure(figsize=(8, 6))\n",
    "plt.hist(df['NaCount'], bins=10, color='skyblue', edgecolor='black')\n",
    "plt.xlabel('Number of NaN Values')\n",
    "plt.ylabel('Frequency')\n",
    "plt.title('Histogram of NaN Values Count')\n",
    "plt.grid(True)\n",
    "plt.show()\n"
   ]
  },
  {
   "cell_type": "code",
   "execution_count": 34,
   "metadata": {},
   "outputs": [
    {
     "data": {
      "text/plain": [
       "(995, 30)"
      ]
     },
     "execution_count": 34,
     "metadata": {},
     "output_type": "execute_result"
    }
   ],
   "source": [
    "df.shape"
   ]
  },
  {
   "cell_type": "markdown",
   "metadata": {},
   "source": [
    "#### Data type transformation"
   ]
  },
  {
   "cell_type": "code",
   "execution_count": 7,
   "metadata": {},
   "outputs": [
    {
     "data": {
      "text/plain": [
       "['Gas', 'Electric', 'Gas', 'Electric', 'Oil', ..., 'Gas', 'Oil', 'Oil', 'Electric', 'Electric']\n",
       "Length: 995\n",
       "Categories (3, object): ['Electric', 'Gas', 'Oil']"
      ]
     },
     "execution_count": 7,
     "metadata": {},
     "output_type": "execute_result"
    }
   ],
   "source": [
    "# Location\n",
    "# There are 4 instead of 3 categories:\n",
    "# ['Rural', 'Suburban', 'Suburbann', 'Urban'] \n",
    "# The typo will be corrected and the data summarized\n",
    "df['Location'].replace('Suburbann', 'Suburban', inplace=True)\n",
    "pd.Categorical(df['Location'])\n",
    "\n",
    "# Heating Type\n",
    "# There are 5 instead of 3 categories:\n",
    "# ['Electric', 'Electricity', 'Gas', 'Oil', 'Oil Heating'] \n",
    "# The data will be summarized\n",
    "# ['Electric', 'Gas', 'Oil']\n",
    "df['HeatingType'].replace('Electricity', 'Electric', inplace=True)\n",
    "df['HeatingType'].replace('Oil Heating', 'Oil', inplace=True)\n",
    "pd.Categorical(df['HeatingType'])"
   ]
  },
  {
   "cell_type": "markdown",
   "metadata": {},
   "source": [
    "#### Test for categories"
   ]
  },
  {
   "cell_type": "code",
   "execution_count": 8,
   "metadata": {},
   "outputs": [
    {
     "name": "stdout",
     "output_type": "stream",
     "text": [
      "995\n",
      "Duplicate rows:\n",
      "Empty DataFrame\n",
      "Columns: [Bedrooms, Bathrooms, SquareFootageHouse, Location, Age, PoolQuality, HasPhotovoltaics, HeatingType, HasFiberglass, IsFurnished, DateSinceForSale, HouseColor, PreviousOwnerName, HasFireplace, KitchensQuality, BathroomsQuality, BedroomsQuality, LivingRoomsQuality, SquareFootageGarden, PreviousOwnerRating, HeatingCosts, WindowModelNames, Price]\n",
      "Index: []\n"
     ]
    }
   ],
   "source": [
    "# Pool Quality\n",
    "# 3 categories:\n",
    "# ['Excellent', 'Good', 'Poor']\n",
    "pd.Categorical(df['PoolQuality'])\n",
    "\n",
    "# Has Photovoltaics \n",
    "# Bool\n",
    "# [False, True]\n",
    "pd.Categorical(df['HasPhotovoltaics'])\n",
    "\n",
    "# Heating Type \n",
    "# 3 categories:\n",
    "# ['Excellent', 'Good', 'Poor']\n",
    "pd.Categorical(df['HeatingType'])\n",
    "\n",
    "# Has Fiberglass\n",
    "# Bool\n",
    "# [False, True]\n",
    "pd.Categorical(df['HasFiberglass'])\n",
    "\n",
    "# Is Furnished\n",
    "# Bool\n",
    "# [False, True]\n",
    "pd.Categorical(df['IsFurnished'])\n",
    "\n",
    "# House Color \n",
    "# 4 categories:\n",
    "# ['Gray', 'Green', 'White', 'Yellow']\n",
    "pd.Categorical(df['HouseColor'])\n",
    "\n",
    "# Has Fireplace \n",
    "# Bool\n",
    "# [False, True]\n",
    "pd.Categorical(df['HasFireplace'])\n",
    "\n",
    "# Kitchens Quality \n",
    "# 3 categories:\n",
    "# ['Excellent', 'Good', 'Poor']\n",
    "pd.Categorical(df['KitchensQuality'])\n",
    "\n",
    "# Bathrooms Quality \n",
    "# 3 categories:\n",
    "# ['Excellent', 'Good', 'Poor']\n",
    "pd.Categorical(df['BathroomsQuality'])\n",
    "\n",
    "# Bedrooms Quality \n",
    "# 3 categories:\n",
    "# ['Excellent', 'Good', 'Poor']\n",
    "pd.Categorical(df['BedroomsQuality'])\n",
    "\n",
    "# Livingrooms Quality \n",
    "# 3 categories:\n",
    "# ['Excellent', 'Good', 'Poor']\n",
    "pd.Categorical(df['LivingRoomsQuality'])\n",
    "\n",
    "# Previous Ownder Rating\n",
    "# 1.00 to 4.97\n",
    "# [1.00, 1.01, 1.02, 1.03, ..., 4.93, 4.94, 4.96, 4.97]\n",
    "pd.Categorical(df['PreviousOwnerRating'])\n",
    "\n",
    "# Window Model Names\n",
    "# Way too many categories\n",
    "# 995\n",
    "# Each house has its own category (No duplicates)\n",
    "pd.Categorical(df['WindowModelNames'])\n",
    "print(len(df['WindowModelNames']))\n",
    "duplicates_mask = df['WindowModelNames'].duplicated()\n",
    "duplicates_df = df[duplicates_mask]\n",
    "print(\"Duplicate rows:\")\n",
    "print(duplicates_df)"
   ]
  },
  {
   "cell_type": "markdown",
   "metadata": {},
   "source": [
    "#### Test for duplicates"
   ]
  },
  {
   "cell_type": "code",
   "execution_count": 9,
   "metadata": {},
   "outputs": [
    {
     "data": {
      "text/html": [
       "<div>\n",
       "<style scoped>\n",
       "    .dataframe tbody tr th:only-of-type {\n",
       "        vertical-align: middle;\n",
       "    }\n",
       "\n",
       "    .dataframe tbody tr th {\n",
       "        vertical-align: top;\n",
       "    }\n",
       "\n",
       "    .dataframe thead th {\n",
       "        text-align: right;\n",
       "    }\n",
       "</style>\n",
       "<table border=\"1\" class=\"dataframe\">\n",
       "  <thead>\n",
       "    <tr style=\"text-align: right;\">\n",
       "      <th></th>\n",
       "      <th>Bedrooms</th>\n",
       "      <th>Bathrooms</th>\n",
       "      <th>SquareFootageHouse</th>\n",
       "      <th>Location</th>\n",
       "      <th>Age</th>\n",
       "      <th>PoolQuality</th>\n",
       "      <th>HasPhotovoltaics</th>\n",
       "      <th>HeatingType</th>\n",
       "      <th>HasFiberglass</th>\n",
       "      <th>IsFurnished</th>\n",
       "      <th>DateSinceForSale</th>\n",
       "      <th>HouseColor</th>\n",
       "      <th>PreviousOwnerName</th>\n",
       "      <th>HasFireplace</th>\n",
       "      <th>KitchensQuality</th>\n",
       "      <th>BathroomsQuality</th>\n",
       "      <th>BedroomsQuality</th>\n",
       "      <th>LivingRoomsQuality</th>\n",
       "      <th>SquareFootageGarden</th>\n",
       "      <th>PreviousOwnerRating</th>\n",
       "      <th>HeatingCosts</th>\n",
       "      <th>WindowModelNames</th>\n",
       "      <th>Price</th>\n",
       "    </tr>\n",
       "  </thead>\n",
       "  <tbody>\n",
       "  </tbody>\n",
       "</table>\n",
       "</div>"
      ],
      "text/plain": [
       "Empty DataFrame\n",
       "Columns: [Bedrooms, Bathrooms, SquareFootageHouse, Location, Age, PoolQuality, HasPhotovoltaics, HeatingType, HasFiberglass, IsFurnished, DateSinceForSale, HouseColor, PreviousOwnerName, HasFireplace, KitchensQuality, BathroomsQuality, BedroomsQuality, LivingRoomsQuality, SquareFootageGarden, PreviousOwnerRating, HeatingCosts, WindowModelNames, Price]\n",
       "Index: []"
      ]
     },
     "execution_count": 9,
     "metadata": {},
     "output_type": "execute_result"
    }
   ],
   "source": [
    "df.loc[df.duplicated()]\n",
    "# No duplicate rows "
   ]
  },
  {
   "cell_type": "markdown",
   "metadata": {},
   "source": [
    "#### Output of all cases with SquareFootageHouse <0"
   ]
  },
  {
   "cell_type": "code",
   "execution_count": 10,
   "metadata": {},
   "outputs": [
    {
     "name": "stdout",
     "output_type": "stream",
     "text": [
      "Number of cases where SquareFootageHouse is smaller than 0: 8\n",
      "Cases where SquareFootageHouse  is smaller than 0:\n",
      "     Bedrooms  Bathrooms  SquareFootageHouse  Location   Age PoolQuality  \\\n",
      "48        2.0        3.0              -634.0     Rural  45.0        Poor   \n",
      "290       1.0        2.0              -658.0       NaN  54.0         NaN   \n",
      "316       1.0        1.0              -727.0     Rural  27.0         NaN   \n",
      "479       3.0        NaN              -682.0     Rural  46.0         NaN   \n",
      "481       2.0        1.0              -232.0     Urban  48.0         NaN   \n",
      "531       3.0        NaN              -265.0     Urban  23.0         NaN   \n",
      "778       1.0        NaN              -895.0  Suburban  15.0         NaN   \n",
      "971       NaN        NaN              -222.0     Rural   NaN         NaN   \n",
      "\n",
      "    HasPhotovoltaics HeatingType HasFiberglass IsFurnished DateSinceForSale  \\\n",
      "48             False    Electric          True        True       2021-06-20   \n",
      "290            False    Electric         False        True       2020-05-17   \n",
      "316            False         Oil          True        True       2020-10-28   \n",
      "479            False    Electric          True        True       2022-11-09   \n",
      "481             True         Oil         False        True       2022-01-10   \n",
      "531            False         Oil         False        True       2021-03-16   \n",
      "778            False    Electric         False        True       2023-03-16   \n",
      "971              NaN         Gas         False        True       2020-01-14   \n",
      "\n",
      "    HouseColor PreviousOwnerName HasFireplace KitchensQuality  \\\n",
      "48       Green           Natalie        False            Good   \n",
      "290     Yellow            Daniel        False       Excellent   \n",
      "316       Gray               NaN        False            Poor   \n",
      "479       Gray           Florian        False       Excellent   \n",
      "481      Green               NaN        False       Excellent   \n",
      "531      White           Sabrina        False            Poor   \n",
      "778      Green             Roman        False            Good   \n",
      "971       Gray           Theresa        False       Excellent   \n",
      "\n",
      "    BathroomsQuality BedroomsQuality LivingRoomsQuality  SquareFootageGarden  \\\n",
      "48         Excellent       Excellent               Good                 13.0   \n",
      "290        Excellent       Excellent               Poor                  6.0   \n",
      "316             Good            Good               Good                  6.0   \n",
      "479        Excellent            Poor          Excellent                  6.0   \n",
      "481             Poor            Good          Excellent                  6.0   \n",
      "531             Poor            Poor          Excellent                  6.0   \n",
      "778             Poor       Excellent               Poor                  6.0   \n",
      "971             Good            Good               Good                  6.0   \n",
      "\n",
      "     PreviousOwnerRating  HeatingCosts          WindowModelNames      Price  \n",
      "48                  1.70          61.8           5QFA Steel RBVP  391.18856  \n",
      "290                 4.04           NaN  RKSBC0 Steel BJBC Window  313.64935  \n",
      "316                 1.37           NaN            M60K Steel V8N  260.34790  \n",
      "479                 1.29           NaN           Aluminum OO0MM2  251.95490  \n",
      "481                 3.44         155.2           9M1 Steel S3K7I  287.15197  \n",
      "531                 2.55         161.6      Steel XB3M97C Window  282.78057  \n",
      "778                 1.82          13.8             Aluminum VNJB   34.56370  \n",
      "971                 1.28          30.0   G1I Wood 1MRQW6F Window  152.02114  \n",
      "Remaining number of houses with negative Square Footage: 0\n"
     ]
    }
   ],
   "source": [
    "# Count the cases where 'SquareFootageHouse       ' is smaller than 0\n",
    "negative_square_footage_house_count = (df['SquareFootageHouse'] < 0).sum()\n",
    "\n",
    "# Display the count\n",
    "print(\"Number of cases where SquareFootageHouse is smaller than 0:\", negative_square_footage_house_count)\n",
    "\n",
    "# Filter the DataFrame to get rows where 'SquareFootageHouse' is smaller than 0\n",
    "negative_square_footage_house_cases = df[df['SquareFootageHouse'] < 0]\n",
    "# Print the cases where 'SquareFootageHouse       ' is smaller than 0\n",
    "print(\"Cases where SquareFootageHouse  is smaller than 0:\")\n",
    "print(negative_square_footage_house_cases)\n",
    "\n",
    "# There are 8 cases\n",
    "# I would suggest to simply make them positive (Could be just a typo)\n",
    "\n",
    "\n",
    "# Correcting negative values in the SquareFootageHouse column # Paul\n",
    "df.loc[df['SquareFootageHouse'] < 0, 'SquareFootageHouse'] = df['SquareFootageHouse'] * -1\n",
    "print(f\"Remaining number of houses with negative Square Footage: {(df['SquareFootageHouse'] < 0).sum()}\")"
   ]
  },
  {
   "cell_type": "markdown",
   "metadata": {},
   "source": [
    "#### Output of all cases with Age <0"
   ]
  },
  {
   "cell_type": "code",
   "execution_count": 11,
   "metadata": {},
   "outputs": [
    {
     "name": "stdout",
     "output_type": "stream",
     "text": [
      "Number of cases where Age is smaller than 0: 12\n",
      "Cases where Age  is smaller than 0:\n",
      "     Bedrooms  Bathrooms  SquareFootageHouse  Location   Age PoolQuality  \\\n",
      "69        NaN        2.0                64.0     Urban -14.0         NaN   \n",
      "172       2.0        1.0                81.0     Urban -43.0        Poor   \n",
      "174       2.0        1.0                98.0  Suburban  -1.0         NaN   \n",
      "201       2.0        3.0               111.0     Urban -32.0         NaN   \n",
      "236       2.0        1.0                92.0     Rural -94.0         NaN   \n",
      "274       1.0        1.0                88.0     Rural -34.0         NaN   \n",
      "324       NaN        2.0                90.0       NaN -64.0        Poor   \n",
      "371       NaN        3.0               112.0  Suburban -69.0        Good   \n",
      "470       NaN        NaN               136.0     Rural  -1.0        Good   \n",
      "656       1.0        NaN                27.0     Urban  -1.0         NaN   \n",
      "781       1.0        1.0                40.0       NaN -18.0   Excellent   \n",
      "793       1.0        1.0                37.0       NaN  -1.0         NaN   \n",
      "\n",
      "    HasPhotovoltaics HeatingType HasFiberglass IsFurnished DateSinceForSale  \\\n",
      "69              True    Electric         False        True       2022-04-10   \n",
      "172            False         Oil         False        True       2022-08-04   \n",
      "174             True    Electric         False        True       2022-02-15   \n",
      "201            False    Electric          True        True       2020-03-14   \n",
      "236             True    Electric          True        True       2020-06-11   \n",
      "274            False         Gas          True        True       2022-01-06   \n",
      "324            False    Electric         False       False       2022-03-16   \n",
      "371            False         Oil         False        True       2021-09-11   \n",
      "470            False    Electric         False       False       2020-10-05   \n",
      "656              NaN         Oil          True        True       2021-03-26   \n",
      "781            False         Oil         False        True       2020-04-22   \n",
      "793             True         Oil         False        True       2020-03-05   \n",
      "\n",
      "    HouseColor PreviousOwnerName HasFireplace KitchensQuality  \\\n",
      "69       White            Sandra        False            Good   \n",
      "172     Yellow             Denis        False       Excellent   \n",
      "174      White             Maria        False            Poor   \n",
      "201       Gray            Stefan        False       Excellent   \n",
      "236      Green            Daniel        False            Good   \n",
      "274      Green           Andreas        False            Good   \n",
      "324     Yellow           Sabrina        False            Good   \n",
      "371      White            Daniel        False            Poor   \n",
      "470      White           Natalie        False            Poor   \n",
      "656      White             Lukas        False       Excellent   \n",
      "781     Yellow            Stefan        False            Poor   \n",
      "793     Yellow           Natalie        False            Good   \n",
      "\n",
      "    BathroomsQuality BedroomsQuality LivingRoomsQuality  SquareFootageGarden  \\\n",
      "69              Poor       Excellent               Good                  6.0   \n",
      "172        Excellent            Poor               Good                 13.0   \n",
      "174             Good            Good               Good                  6.0   \n",
      "201        Excellent       Excellent          Excellent                  6.0   \n",
      "236             Poor            Poor               Good                  6.0   \n",
      "274             Poor       Excellent               Poor                  6.0   \n",
      "324             Good       Excellent          Excellent                 13.0   \n",
      "371             Good       Excellent               Good                 18.0   \n",
      "470        Excellent            Good          Excellent                 18.0   \n",
      "656             Good            Good               Good                  6.0   \n",
      "781             Good            Good               Good                 30.0   \n",
      "793             Poor            Good               Good                  6.0   \n",
      "\n",
      "     PreviousOwnerRating  HeatingCosts         WindowModelNames      Price  \n",
      "69                  2.25           NaN   FI9 Wood EMROKA Window  135.85347  \n",
      "172                 4.65         129.6   RYMVVA Wood 0F9 Window  242.03227  \n",
      "174                 3.70           NaN  Aluminum Z3PK0QJ Window   80.30705  \n",
      "201                 1.18          66.6   ZO14A Steel R7C Window  274.26260  \n",
      "236                 1.60           NaN           5U4 Steel RJXG  309.78986  \n",
      "274                 3.44          89.0               Wood FVFIO  269.54300  \n",
      "324                 1.84           NaN              Steel 3ZW9N  306.56834  \n",
      "371                 3.14         179.2            Steel LVGVD3C  211.94804  \n",
      "470                 3.31          81.0     Steel OBHHNOT Window  371.39670  \n",
      "656                 3.52          43.2       Steel R6S1D Window  200.78245  \n",
      "781                 4.47           NaN               Wood PWP6E  116.07669  \n",
      "793                 4.92          60.8  UWSGM1U Wood 3NG Window  140.39316  \n",
      "Remaining number of houses with negative age: 0\n"
     ]
    }
   ],
   "source": [
    "# Count the cases where 'Age' is smaller than 0\n",
    "negative_age_house_count = (df['Age'] < 0).sum()\n",
    "# Display the count\n",
    "print(\"Number of cases where Age is smaller than 0:\", negative_age_house_count)\n",
    "\n",
    "# Filter the DataFrame to get rows where 'Age' is smaller than 0\n",
    "negative_age_house_cases = df[df['Age'] < 0]\n",
    "# Print the cases where 'Age' is smaller than 0\n",
    "print(\"Cases where Age  is smaller than 0:\")\n",
    "print(negative_age_house_cases)\n",
    "\n",
    "# There are 12 cases\n",
    "# I would suggest to simply make them positive (Could be just a typo)\n",
    "# Everything else seems okay\n",
    "\n",
    "# Correcting negative values in the Age column  # Paul\n",
    "df.loc[df['Age'] < 0, 'Age'] = df['Age'] * -1\n",
    "\n",
    "print(f\"Remaining number of houses with negative age: {(df['Age'] < 0).sum()}\")\n"
   ]
  },
  {
   "cell_type": "markdown",
   "metadata": {},
   "source": [
    "#### Output of all cases with HeatingCost <0"
   ]
  },
  {
   "cell_type": "code",
   "execution_count": 37,
   "metadata": {},
   "outputs": [
    {
     "name": "stdout",
     "output_type": "stream",
     "text": [
      "Number of cases where Age is smaller than 0: 5\n",
      "Cases where HeatingCost  is smaller than 0:\n",
      "     Bedrooms  Bathrooms  SquareFootageHouse  Location   Age  PoolQuality  \\\n",
      "158       2.0        NaN                98.0     Rural  37.0          NaN   \n",
      "228       2.0        NaN                99.0     Urban  50.0          3.0   \n",
      "666       2.0        2.0               100.0       NaN  36.0          2.0   \n",
      "895       2.0        1.0                67.0     Urban  40.0          2.0   \n",
      "924       1.0        1.0                40.0  Suburban  33.0          NaN   \n",
      "\n",
      "    HasPhotovoltaics HeatingType HasFiberglass IsFurnished DateSinceForSale  \\\n",
      "158            False    Electric         False       False       2022-12-15   \n",
      "228             True    Electric         False        True       2021-01-30   \n",
      "666            False         Oil         False       False       2023-02-20   \n",
      "895            False         Gas         False        True       2021-04-24   \n",
      "924             True    Electric          True        True       2023-04-03   \n",
      "\n",
      "    HouseColor PreviousOwnerName HasFireplace  KitchensQuality  \\\n",
      "158     Yellow             Maria        False                1   \n",
      "228      Green            Martin        False                3   \n",
      "666       Gray            Stefan        False                3   \n",
      "895       Gray           Andreas        False                3   \n",
      "924      White               NaN        False                3   \n",
      "\n",
      "     BathroomsQuality  BedroomsQuality  LivingRoomsQuality  \\\n",
      "158                 2                1                   3   \n",
      "228                 2                1                   3   \n",
      "666                 2                1                   2   \n",
      "895                 3                1                   3   \n",
      "924                 2                1                   2   \n",
      "\n",
      "     SquareFootageGarden  PreviousOwnerRating  HeatingCosts  \\\n",
      "158                  6.0                 3.73        -153.0   \n",
      "228                 30.0                 2.16        -429.0   \n",
      "666                 18.0                 1.53        -421.0   \n",
      "895                 18.0                 2.26        -188.0   \n",
      "924                 30.0                 3.00        -443.0   \n",
      "\n",
      "             WindowModelNames      Price  Year  NewAge  \\\n",
      "158       Aluminum I3J Window  151.75748  2022  1987.0   \n",
      "228   KJDZ2T Aluminum 8QIY24N  194.68713  2021  1974.0   \n",
      "666  ASRR Steel 4NR0N3 Window  391.29628  2023  1988.0   \n",
      "895         SOW Steel VKQ5239  257.89198  2021  1984.0   \n",
      "924   Aluminum RE21OFP Window   92.06353  2023  1991.0   \n",
      "\n",
      "     general_square_footage  Rooms  overall_quality  average_overall_quality  \\\n",
      "158                   104.0    NaN              NaN                      NaN   \n",
      "228                   129.0    NaN             12.0                      2.4   \n",
      "666                   118.0    4.0             10.0                      2.0   \n",
      "895                    85.0    3.0             12.0                      2.4   \n",
      "924                    70.0    2.0              NaN                      NaN   \n",
      "\n",
      "     NaCount  \n",
      "158        5  \n",
      "228        2  \n",
      "666        1  \n",
      "895        0  \n",
      "924        4  \n",
      "Remaining number of houses with negative Heating Costs: 0\n"
     ]
    }
   ],
   "source": [
    "# Count the cases where 'HeatingCost' is smaller than 0\n",
    "negative_heating_cost_count = (df['HeatingCosts'] < 0).sum()\n",
    "# Display the count\n",
    "print(\"Number of cases where Age is smaller than 0:\", negative_heating_cost_count)\n",
    "\n",
    "# Filter the DataFrame to get rows where 'HeatingCost' is smaller than 0\n",
    "negative_heating_cost_cases = df[df['HeatingCosts'] < 0]\n",
    "# Print the cases where 'HeatingCost' is smaller than 0\n",
    "print(\"Cases where HeatingCost  is smaller than 0:\")\n",
    "print(negative_heating_cost_cases)\n",
    "\n",
    "# There are 5 cases \n",
    "# I would suggest to simply make them positive (Could be just a typo)\n",
    "# Everything else seems okay # Nik\n",
    "\n",
    "# Correcting negative values in the HeatingCosts column  # Paul\n",
    "df.loc[df['HeatingCosts'] < 0, 'HeatingCosts'] = df['HeatingCosts'] * -1\n",
    "\n",
    "print(f\"Remaining number of houses with negative heating costs: {(df['HeatingCosts'] < 0).sum()}\")"
   ]
  },
  {
   "cell_type": "markdown",
   "metadata": {},
   "source": [
    "#### Comparison of Age and DateSinceForSale"
   ]
  },
  {
   "cell_type": "code",
   "execution_count": 13,
   "metadata": {},
   "outputs": [
    {
     "name": "stdout",
     "output_type": "stream",
     "text": [
      "     Bedrooms  Bathrooms  SquareFootageHouse  Location  Age PoolQuality  \\\n",
      "174       2.0        1.0                98.0  Suburban  1.0         NaN   \n",
      "248       NaN        2.0                82.0     Rural  3.0         NaN   \n",
      "289       1.0        NaN                58.0     Rural  0.0         NaN   \n",
      "437       2.0        2.0                66.0  Suburban  0.0   Excellent   \n",
      "470       NaN        NaN               136.0     Rural  1.0        Good   \n",
      "656       1.0        NaN                27.0     Urban  1.0         NaN   \n",
      "793       1.0        1.0                37.0       NaN  1.0         NaN   \n",
      "887       1.0        NaN                59.0  Suburban  1.0        Poor   \n",
      "956       2.0        2.0                90.0  Suburban  0.0         NaN   \n",
      "976       3.0        NaN               146.0  Suburban  0.0        Good   \n",
      "\n",
      "    HasPhotovoltaics HeatingType HasFiberglass IsFurnished DateSinceForSale  \\\n",
      "174             True    Electric         False        True       2022-02-15   \n",
      "248            False    Electric         False        True       2020-09-23   \n",
      "289            False         Gas         False        True       2021-12-17   \n",
      "437            False         Gas          True        True       2022-10-15   \n",
      "470            False    Electric         False       False       2020-10-05   \n",
      "656              NaN         Oil          True        True       2021-03-26   \n",
      "793             True         Oil         False        True       2020-03-05   \n",
      "887            False    Electric          True        True       2020-04-20   \n",
      "956            False         Oil         False       False       2023-01-16   \n",
      "976            False    Electric          True        True       2020-10-10   \n",
      "\n",
      "    HouseColor PreviousOwnerName HasFireplace KitchensQuality  \\\n",
      "174      White             Maria        False            Poor   \n",
      "248      White            Stefan        False            Poor   \n",
      "289      Green               NaN        False       Excellent   \n",
      "437     Yellow             Roman        False            Good   \n",
      "470      White           Natalie        False            Poor   \n",
      "656      White             Lukas        False       Excellent   \n",
      "793     Yellow           Natalie        False            Good   \n",
      "887     Yellow            Stefan        False            Good   \n",
      "956      Green           Andreas        False       Excellent   \n",
      "976      Green             Lukas        False            Good   \n",
      "\n",
      "    BathroomsQuality BedroomsQuality LivingRoomsQuality  SquareFootageGarden  \\\n",
      "174             Good            Good               Good                  6.0   \n",
      "248             Good            Good          Excellent                  6.0   \n",
      "289             Good            Good               Poor                 18.0   \n",
      "437             Good            Poor               Good                 30.0   \n",
      "470        Excellent            Good          Excellent                 18.0   \n",
      "656             Good            Good               Good                  6.0   \n",
      "793             Poor            Good               Good                  6.0   \n",
      "887        Excellent            Good          Excellent                 13.0   \n",
      "956        Excellent       Excellent               Poor                  6.0   \n",
      "976             Good       Excellent               Poor                 18.0   \n",
      "\n",
      "     PreviousOwnerRating  HeatingCosts            WindowModelNames      Price  \\\n",
      "174                 3.70           NaN     Aluminum Z3PK0QJ Window   80.30705   \n",
      "248                 3.72          49.2  3NY33U Steel RBTBSO Window  306.37479   \n",
      "289                 2.06          59.0       Aluminum F6TGD Window  205.05907   \n",
      "437                 4.63           NaN                Steel ISBCS1  184.94654   \n",
      "470                 3.31          81.0        Steel OBHHNOT Window  371.39670   \n",
      "656                 3.52          43.2          Steel R6S1D Window  200.78245   \n",
      "793                 4.92          60.8     UWSGM1U Wood 3NG Window  140.39316   \n",
      "887                 3.66           NaN             Wood Z8T Window  109.52799   \n",
      "956                 2.54           NaN             Aluminum 7Y8043  101.11640   \n",
      "976                 2.32          88.8             Wood DD4 Window  176.79039   \n",
      "\n",
      "     Year  NewAge  \n",
      "174  2022  2023.0  \n",
      "248  2020  2021.0  \n",
      "289  2021  2024.0  \n",
      "437  2022  2024.0  \n",
      "470  2020  2023.0  \n",
      "656  2021  2023.0  \n",
      "793  2020  2023.0  \n",
      "887  2020  2023.0  \n",
      "956  2023  2024.0  \n",
      "976  2020  2024.0  \n"
     ]
    }
   ],
   "source": [
    "# Extracts the Year since the house is for sale\n",
    "df['Year'] = df['DateSinceForSale'].str.extract(r'(\\d{4})')\n",
    "# Converting the 'Year' column to numeric # Paul\n",
    "df['Year'] = pd.to_numeric(df['Year'], errors='coerce')\n",
    "\n",
    "# Calculates the Year, the house was build in\n",
    "df['NewAge'] =  2024 - df['Age'] \n",
    "\n",
    "# Subtracts Age the house was build in from the Year since sale, to look for anomalies\n",
    "result = df[df['Year'] < df['NewAge']]\n",
    "print(result)\n",
    "\n",
    "# Shows no errors/anomalies in the code, expect the cases with negative Age \n",
    "# and houses that were build this year and were put up for sale"
   ]
  },
  {
   "cell_type": "markdown",
   "metadata": {},
   "source": [
    "Calculating General Square Footage"
   ]
  },
  {
   "cell_type": "code",
   "execution_count": 14,
   "metadata": {},
   "outputs": [
    {
     "name": "stdout",
     "output_type": "stream",
     "text": [
      "count     995.000000\n",
      "mean      195.939698\n",
      "std       819.625602\n",
      "min        25.000000\n",
      "25%        66.000000\n",
      "50%        97.000000\n",
      "75%       128.000000\n",
      "max      8608.000000\n",
      "Name: general_square_footage, dtype: float64\n"
     ]
    }
   ],
   "source": [
    "#Overall Square Footage\n",
    "# Negative Outliners need to be corrected first!\n",
    "df['general_square_footage'] = df['SquareFootageHouse'] + df['SquareFootageGarden']\n",
    "print(df['general_square_footage'].describe())\n"
   ]
  },
  {
   "cell_type": "markdown",
   "metadata": {},
   "source": [
    "#### Calculating Room Count"
   ]
  },
  {
   "cell_type": "code",
   "execution_count": 15,
   "metadata": {},
   "outputs": [],
   "source": [
    "# Overall Room Count \n",
    "# Negative Outliners need to be corrected first! \n",
    "df['Rooms'] = df['Bedrooms'] + df['Bathrooms'] \n",
    "#print(df['Rooms'].describe()) \n",
    "#df['Rooms'] "
   ]
  },
  {
   "cell_type": "markdown",
   "metadata": {},
   "source": [
    "#### Calculating Overall House Quality"
   ]
  },
  {
   "cell_type": "code",
   "execution_count": 16,
   "metadata": {},
   "outputs": [],
   "source": [
    "# Overall House Quality\n",
    "# Quality Categories need to be converted to numeric values\n",
    "category_map = {'Excellent': 3, 'Good': 2, 'Poor': 1}\n",
    "\n",
    "# Convert categorical values to numerical values\n",
    "df[\"PoolQuality\"] = df[\"PoolQuality\"].replace(category_map)\n",
    "df[\"KitchensQuality\"] = df[\"KitchensQuality\"].replace(category_map)\n",
    "df[\"BathroomsQuality\"] = df[\"BathroomsQuality\"].replace(category_map)\n",
    "df[\"BedroomsQuality\"] = df[\"BedroomsQuality\"].replace(category_map)\n",
    "df[\"LivingRoomsQuality\"] = df[\"LivingRoomsQuality\"].replace(category_map)\n",
    "\n",
    "# Calculate average score across columns\n",
    "df[\"overall_quality\"] = df[\"PoolQuality\"] + df[\"KitchensQuality\"] + df[\"BathroomsQuality\"] + df[\"BedroomsQuality\"] + df[\"LivingRoomsQuality\"] \n",
    "#print(df[\"overall_quality\"].describe())\n",
    "\n",
    "# Count the number of non-missing values for each row\n",
    "num_non_missing_values = df[[\"PoolQuality\", \"KitchensQuality\", \"BathroomsQuality\", \"BedroomsQuality\", \"LivingRoomsQuality\"]].notnull().sum(axis=1)\n",
    "#num_non_missing_values.describe()\n",
    "\n",
    "# Calculate the average overall quality score\n",
    "df[\"average_overall_quality\"] = df[\"overall_quality\"] / num_non_missing_values.replace(0, np.nan)  # Replace 0 with NaN to handle division by zero\n",
    "\n",
    "# Print summary statistics of the average overall quality score\n",
    "#print(df[\"average_overall_quality\"].describe())"
   ]
  },
  {
   "cell_type": "markdown",
   "metadata": {},
   "source": [
    "### Handling NA's\n",
    "\n",
    "#### Creating variable 'HasPool' Assuming Houses with Pool Quality = NA don't have a pool"
   ]
  },
  {
   "cell_type": "code",
   "execution_count": 38,
   "metadata": {},
   "outputs": [],
   "source": [
    "# Create a new column 'HasPool' based on the presence of 'PoolQuality'\n",
    "df['HasPool'] = df['PoolQuality'].notna().astype(int)"
   ]
  },
  {
   "cell_type": "markdown",
   "metadata": {},
   "source": [
    "#### 1: Try to predict NA's based off location\n",
    "\n",
    "##### Difficulty: how to treat extreme values\n",
    "-> for training the model, values below 3 SD are not included"
   ]
  },
  {
   "cell_type": "code",
   "execution_count": 25,
   "metadata": {},
   "outputs": [
    {
     "name": "stdout",
     "output_type": "stream",
     "text": [
      "Extreme Prices:\n",
      "          Price  SquareFootageHouse\n",
      "13   3456.1926                74.0\n",
      "114  3064.1810                66.0\n",
      "244  2506.0022               112.0\n",
      "419  5041.2354               136.0\n",
      "439  6050.5916                76.0\n",
      "458  2578.1786                41.0\n",
      "561  3620.8370               108.0\n",
      "566  4229.2804                48.0\n",
      "604  3419.3726                77.0\n",
      "625  4311.0886                79.0\n",
      "698  1688.5490               106.0\n",
      "814  2749.9452                91.0\n",
      "877  2733.1256                81.0\n",
      "906  2045.7770                66.0\n",
      "935  3353.4360                61.0\n",
      "970  2032.4594                28.0\n",
      "Extreme Square Feet:\n",
      "          Price  SquareFootageHouse\n",
      "14    51.50734              5871.0\n",
      "94   118.74909              6653.0\n",
      "183  528.42211              8578.0\n",
      "209  191.94354              6641.0\n",
      "272  177.42720              8403.0\n",
      "287  301.07468              6997.0\n",
      "469  113.91137              5842.0\n",
      "482   90.84932              5747.0\n",
      "515  133.81882              8223.0\n",
      "555  166.75554              5310.0\n",
      "556   89.37498              7436.0\n",
      "558  132.92976              6440.0\n",
      "763  209.99847              7804.0\n",
      "990  292.07195              7314.0\n"
     ]
    }
   ],
   "source": [
    "# Identify outliers for Price and Squarefootage\n",
    "\n",
    "# Calculate mean and standard deviation\n",
    "price_mean = df['Price'].mean()\n",
    "price_std = df['Price'].std()\n",
    "square_feet_mean = df['SquareFootageHouse'].mean()\n",
    "square_feet_std = df['SquareFootageHouse'].std()\n",
    "\n",
    "# Define bounds for being within 3 standard deviations\n",
    "price_upper_bound = price_mean + 3 * price_std\n",
    "price_lower_bound = price_mean - 3 * price_std\n",
    "square_feet_upper_bound = square_feet_mean + 3 * square_feet_std\n",
    "square_feet_lower_bound = square_feet_mean - 3 * square_feet_std\n",
    "\n",
    "# Filter data for outliers\n",
    "extreme_prices = df[(df['Price'] > price_upper_bound) | (df['Price'] < price_lower_bound)]\n",
    "extreme_square_feet = df[(df['SquareFootageHouse'] > square_feet_upper_bound) | \n",
    "                           (df['SquareFootageHouse'] < square_feet_lower_bound)]\n",
    "\n",
    "# Print results\n",
    "print(\"Extreme Prices:\\n\", extreme_prices[['Price', 'SquareFootageHouse']])\n",
    "print(\"Extreme Square Feet:\\n\", extreme_square_feet[['Price', 'SquareFootageHouse']])\n",
    "\n",
    "df_filtered_price_sf = df[\n",
    "    (df['Price'] >= price_lower_bound) & (df['Price'] <= price_upper_bound) &\n",
    "    (df['SquareFootageHouse'] >= square_feet_lower_bound) & \n",
    "    (df['SquareFootageHouse'] <= square_feet_upper_bound)\n",
    "]\n"
   ]
  },
  {
   "cell_type": "code",
   "execution_count": 42,
   "metadata": {},
   "outputs": [
    {
     "name": "stdout",
     "output_type": "stream",
     "text": [
      "              precision    recall  f1-score   support\n",
      "\n",
      "       Rural       0.50      0.02      0.04        48\n",
      "    Suburban       0.72      0.87      0.79        68\n",
      "       Urban       0.31      0.72      0.43        47\n",
      "         nan       0.25      0.03      0.05        36\n",
      "\n",
      "    accuracy                           0.48       199\n",
      "   macro avg       0.44      0.41      0.33       199\n",
      "weighted avg       0.48      0.48      0.39       199\n",
      "\n"
     ]
    },
    {
     "name": "stderr",
     "output_type": "stream",
     "text": [
      "/opt/anaconda3/lib/python3.11/site-packages/sklearn/preprocessing/_encoders.py:868: FutureWarning: `sparse` was renamed to `sparse_output` in version 1.2 and will be removed in 1.4. `sparse_output` is ignored unless you leave `sparse` to its default value.\n",
      "  warnings.warn(\n"
     ]
    }
   ],
   "source": [
    "\n",
    "#defining independent and dependent variables\n",
    "X = df[['SquareFootageHouse', 'Price']]\n",
    "y = df['Location']\n",
    "\n",
    "# Encoding the categorical data\n",
    "encoder = OneHotEncoder(sparse=False)\n",
    "y_encoded = encoder.fit_transform(y.values.reshape(-1, 1))\n",
    "target_names = [str(name) for name in encoder.categories_[0]]  # Converting categories to strings immediately\n",
    "\n",
    "# Splitting the dataset into training and testing sets: 20% for testing; 80% for training\n",
    "X_train, X_test, y_train, y_test = train_test_split(X, y_encoded, test_size=0.2, random_state=42)\n",
    "\n",
    "# Convert one-hot encoded y_train and y_test back to label encoded\n",
    "y_train_label = np.argmax(y_train, axis=1)\n",
    "y_test_label = np.argmax(y_test, axis=1)\n",
    "\n",
    "# Create and train the logistic regression model\n",
    "model = LogisticRegression()\n",
    "model.fit(X_train, y_train_label)\n",
    "\n",
    "# Predicting and evaluating the model\n",
    "y_pred = model.predict(X_test)\n",
    "print(classification_report(y_test_label, y_pred, target_names=target_names))"
   ]
  },
  {
   "cell_type": "markdown",
   "metadata": {},
   "source": [
    "#### Conclusion for location:\n",
    "The prediction of location was not satisfying. We should not try to replace NA's with predictions\n"
   ]
  },
  {
   "cell_type": "markdown",
   "metadata": {},
   "source": [
    "## 3:"
   ]
  }
 ],
 "metadata": {
  "kernelspec": {
   "display_name": "Python 3",
   "language": "python",
   "name": "python3"
  },
  "language_info": {
   "codemirror_mode": {
    "name": "ipython",
    "version": 3
   },
   "file_extension": ".py",
   "mimetype": "text/x-python",
   "name": "python",
   "nbconvert_exporter": "python",
   "pygments_lexer": "ipython3",
   "version": "3.11.7"
  }
 },
 "nbformat": 4,
 "nbformat_minor": 2
}
